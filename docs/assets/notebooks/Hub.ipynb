{
 "cells": [
  {
   "cell_type": "markdown",
   "id": "a6232bcb",
   "metadata": {},
   "source": [
    "# Hub\n",
    "\n",
    "Welcome to the hub! This notebook does two main things:\n",
    "\n",
    "- Automates the process of setting you up\n",
    "- Allows you to quickly navigate between notebooks\n",
    "\n",
    "You'll also be returning here after you complete each module to get the next one.\n",
    "\n",
    "### Quick Navigation\n",
    "\n",
    "Once you've unlocked the respective module, you can click on the links in any of the cells of the table below to be brought straight to the associated notebook.\n",
    "\n",
    "|Module A||Module B||Module C||Module D||\n",
    "|:-|:-|:-|:-|:-|:-|:-|:-|\n",
    "|[Lesson 1: notebooks](Module_A/Lesson_1_notebooks.ipynb)|[Problem Set 1](Module_A/Problem_Set_1.ipynb)|[Lesson 1: functions](Module_B/Lesson_1_functions.ipynb)|[Problem Set 1](Module_B/Problem_Set_1.ipynb)|[Lesson 1: booleans](Module_C/Lesson_1_booleans.ipynb)|[Problem Set 1A](Module_C/Problem_Set_1A.ipynb)<br> [Problem Set 1B](Module_C/Problem_Set_1B.ipynb)|[Lesson 1: lists](Module_D/Lesson_1_lists.ipynb)|[Problem Set 1](Module_D/Problem_Set_1.ipynb)|\n",
    "|[Lesson 2: operators](Module_A/Lesson_2_operators.ipynb)||||[Lesson 2: conditionals](Module_C/Lesson_2_conditionals.ipynb)|[Problem Set 2A](Module_C/Problem_Set_2A.ipynb)<br> [Problem Set 2B](Module_C/Problem_Set_2B.ipynb)|[Lesson 2: iteration](Module_D/Lesson_2_iteration.ipynb)|[Problem Set 2](Module_D/Problem_Set_2.ipynb)|\n",
    "|[Lesson 3: variables](Module_A/Lesson_3_variables.ipynb)|[Problem Set 2A](Module_A/Problem_Set_2A.ipynb)<br> [Problem Set 2B](Module_A/Problem_Set_2B.ipynb)<br> [Problem Set 3A](Module_A/Problem_Set_3A.ipynb)<br> [Problem Set 3B](Module_A/Problem_Set_3B.ipynb)|||||[Lesson 3: list functions](Module_D/Lesson_3_list_functions.ipynb)|[Problem Set 3](Module_D/Problem_Set_2.ipynb)|\n",
    "|[Lesson 4: statements](Module_A/Lesson_4_statements.ipynb)|[Problem Set 4](Module_A/Problem_Set_4.ipynb)|||||||\n",
    "|[Test](Module_A/Test.ipynb)|[Additional Exercises](Module_A/Additional_Exercises/AE.ipynb)|[Test](Module_B/Test.ipynb)|[Additional Exercises](Module_B/Additional_Exercises/AE.ipynb)|[Test](Module_C/Test.ipynb)|[Additional Exercises](Module_C/Additional_Exercises/AE.ipynb)|[Test](Module_D/Test.ipynb)|[Additional Exercises](Module_D/Additional_Exercises/AE.ipynb)|\n",
    "\n",
    "### Automated setup\n",
    "\n",
    "If this is your first time using the notebook, make sure you see the word \"setup\" in the cell below, and then click the button to \"run all cells\". This should be on the bar at the top and look like two right-facing arrows, or the fast-forward button on a TV remote. This will automatically install everything you need to start working through these notebooks."
   ]
  },
  {
   "cell_type": "code",
   "execution_count": 2,
   "id": "11a87d94",
   "metadata": {
    "editable": true,
    "slideshow": {
     "slide_type": ""
    },
    "tags": []
   },
   "outputs": [],
   "source": [
    "password = \"setup\""
   ]
  },
  {
   "cell_type": "markdown",
   "id": "516a4098-b380-416d-9aaf-19c97ec03a40",
   "metadata": {},
   "source": [
    "If you've just completed a module test, take the password you got and assign it to `password` above (you should know what that means now!) Now when you run all cells, it should download the next module for you. If you get the password wrong, nothing will happen!\n",
    "\n",
    "- - -\n",
    "\n",
    "<br>\n",
    "<br>\n",
    "<br>\n",
    "<br>\n",
    "<br>\n",
    "<br>\n",
    "<br>\n",
    "<br>\n",
    "<br>\n",
    "<br>\n",
    "<br>\n",
    "<br>\n",
    "<br>\n",
    "<br>\n",
    "<br>\n",
    "<br>\n",
    "<br>\n",
    "<br>\n",
    "<br>\n",
    "<br>\n",
    "<br>\n",
    "<br>\n",
    "<br>\n",
    "<br>\n",
    "<br>\n",
    "<br>\n",
    "<br>\n",
    "<br>\n",
    "<br>\n",
    "<br>\n",
    "<br>\n",
    "<br>\n",
    "<br>\n",
    "<br>\n",
    "<br>\n",
    "<br>\n",
    "<br>\n",
    "<br>\n",
    "<br>\n",
    "<br>\n",
    "<br>\n",
    "<br>\n",
    "...here's the code that does the actual install. You can safely ignore it."
   ]
  },
  {
   "cell_type": "code",
   "execution_count": 3,
   "id": "18fec480-3018-4c5e-a1d0-d87971a67c52",
   "metadata": {
    "scrolled": true
   },
   "outputs": [
    {
     "name": "stdout",
     "output_type": "stream",
     "text": [
      "Defaulting to user installation because normal site-packages is not writeable\n",
      "Collecting git+https://github.com/padril/ipynbname\n",
      "  Cloning https://github.com/padril/ipynbname to /tmp/pip-req-build-usqhbl2r\n",
      "  Running command git clone --filter=blob:none --quiet https://github.com/padril/ipynbname /tmp/pip-req-build-usqhbl2r\n",
      "  Resolved https://github.com/padril/ipynbname to commit 5e7ad30351b378481f3f886708cc8506d55bcf26\n",
      "  Installing build dependencies ... \u001b[?25ldone\n",
      "\u001b[?25h  Getting requirements to build wheel ... \u001b[?25ldone\n",
      "\u001b[?25h  Preparing metadata (pyproject.toml) ... \u001b[?25ldone\n",
      "\u001b[?25hRequirement already satisfied: ipykernel in /home/padril/.local/lib/python3.13/site-packages (from ipynbname==2025.8.0.0) (6.30.0)\n",
      "Requirement already satisfied: comm>=0.1.1 in /home/padril/.local/lib/python3.13/site-packages (from ipykernel->ipynbname==2025.8.0.0) (0.2.2)\n",
      "Requirement already satisfied: debugpy>=1.6.5 in /home/padril/.local/lib/python3.13/site-packages (from ipykernel->ipynbname==2025.8.0.0) (1.8.15)\n",
      "Requirement already satisfied: ipython>=7.23.1 in /home/padril/.local/lib/python3.13/site-packages (from ipykernel->ipynbname==2025.8.0.0) (9.4.0)\n",
      "Requirement already satisfied: jupyter-client>=8.0.0 in /home/padril/.local/lib/python3.13/site-packages (from ipykernel->ipynbname==2025.8.0.0) (8.6.3)\n",
      "Requirement already satisfied: jupyter-core!=5.0.*,>=4.12 in /home/padril/.local/lib/python3.13/site-packages (from ipykernel->ipynbname==2025.8.0.0) (5.8.1)\n",
      "Requirement already satisfied: matplotlib-inline>=0.1 in /home/padril/.local/lib/python3.13/site-packages (from ipykernel->ipynbname==2025.8.0.0) (0.1.7)\n",
      "Requirement already satisfied: nest-asyncio>=1.4 in /home/padril/.local/lib/python3.13/site-packages (from ipykernel->ipynbname==2025.8.0.0) (1.6.0)\n",
      "Requirement already satisfied: packaging>=22 in /home/padril/.local/lib/python3.13/site-packages (from ipykernel->ipynbname==2025.8.0.0) (25.0)\n",
      "Requirement already satisfied: psutil>=5.7 in /home/padril/.local/lib/python3.13/site-packages (from ipykernel->ipynbname==2025.8.0.0) (7.0.0)\n",
      "Requirement already satisfied: pyzmq>=25 in /home/padril/.local/lib/python3.13/site-packages (from ipykernel->ipynbname==2025.8.0.0) (27.0.2)\n",
      "Requirement already satisfied: tornado>=6.2 in /home/padril/.local/lib/python3.13/site-packages (from ipykernel->ipynbname==2025.8.0.0) (6.5.2)\n",
      "Requirement already satisfied: traitlets>=5.4.0 in /home/padril/.local/lib/python3.13/site-packages (from ipykernel->ipynbname==2025.8.0.0) (5.14.3)\n",
      "Requirement already satisfied: decorator in /home/padril/.local/lib/python3.13/site-packages (from ipython>=7.23.1->ipykernel->ipynbname==2025.8.0.0) (5.2.1)\n",
      "Requirement already satisfied: ipython-pygments-lexers in /home/padril/.local/lib/python3.13/site-packages (from ipython>=7.23.1->ipykernel->ipynbname==2025.8.0.0) (1.1.1)\n",
      "Requirement already satisfied: jedi>=0.16 in /home/padril/.local/lib/python3.13/site-packages (from ipython>=7.23.1->ipykernel->ipynbname==2025.8.0.0) (0.19.2)\n",
      "Requirement already satisfied: pexpect>4.3 in /home/padril/.local/lib/python3.13/site-packages (from ipython>=7.23.1->ipykernel->ipynbname==2025.8.0.0) (4.9.0)\n",
      "Requirement already satisfied: prompt_toolkit<3.1.0,>=3.0.41 in /home/padril/.local/lib/python3.13/site-packages (from ipython>=7.23.1->ipykernel->ipynbname==2025.8.0.0) (3.0.51)\n",
      "Requirement already satisfied: pygments>=2.4.0 in /home/padril/.local/lib/python3.13/site-packages (from ipython>=7.23.1->ipykernel->ipynbname==2025.8.0.0) (2.19.2)\n",
      "Requirement already satisfied: stack_data in /home/padril/.local/lib/python3.13/site-packages (from ipython>=7.23.1->ipykernel->ipynbname==2025.8.0.0) (0.6.3)\n",
      "Requirement already satisfied: wcwidth in /home/padril/.local/lib/python3.13/site-packages (from prompt_toolkit<3.1.0,>=3.0.41->ipython>=7.23.1->ipykernel->ipynbname==2025.8.0.0) (0.2.13)\n",
      "Requirement already satisfied: parso<0.9.0,>=0.8.4 in /home/padril/.local/lib/python3.13/site-packages (from jedi>=0.16->ipython>=7.23.1->ipykernel->ipynbname==2025.8.0.0) (0.8.4)\n",
      "Requirement already satisfied: python-dateutil>=2.8.2 in /home/padril/.local/lib/python3.13/site-packages (from jupyter-client>=8.0.0->ipykernel->ipynbname==2025.8.0.0) (2.9.0.post0)\n",
      "Requirement already satisfied: platformdirs>=2.5 in /home/padril/.local/lib/python3.13/site-packages (from jupyter-core!=5.0.*,>=4.12->ipykernel->ipynbname==2025.8.0.0) (4.4.0)\n",
      "Requirement already satisfied: ptyprocess>=0.5 in /home/padril/.local/lib/python3.13/site-packages (from pexpect>4.3->ipython>=7.23.1->ipykernel->ipynbname==2025.8.0.0) (0.7.0)\n",
      "Requirement already satisfied: six>=1.5 in /home/padril/.local/lib/python3.13/site-packages (from python-dateutil>=2.8.2->jupyter-client>=8.0.0->ipykernel->ipynbname==2025.8.0.0) (1.17.0)\n",
      "Requirement already satisfied: executing>=1.2.0 in /home/padril/.local/lib/python3.13/site-packages (from stack_data->ipython>=7.23.1->ipykernel->ipynbname==2025.8.0.0) (2.2.0)\n",
      "Requirement already satisfied: asttokens>=2.1.0 in /home/padril/.local/lib/python3.13/site-packages (from stack_data->ipython>=7.23.1->ipykernel->ipynbname==2025.8.0.0) (3.0.0)\n",
      "Requirement already satisfied: pure-eval in /home/padril/.local/lib/python3.13/site-packages (from stack_data->ipython>=7.23.1->ipykernel->ipynbname==2025.8.0.0) (0.2.3)\n",
      "Building wheels for collected packages: ipynbname\n",
      "  Building wheel for ipynbname (pyproject.toml) ... \u001b[?25ldone\n",
      "\u001b[?25h  Created wheel for ipynbname: filename=ipynbname-2025.8.0.0-py3-none-any.whl size=4608 sha256=c718d7d679d8c794185777e900013d80e70343da28d7b0dc99ea8c963803b995\n",
      "  Stored in directory: /tmp/pip-ephem-wheel-cache-8f4o7nni/wheels/c6/85/b0/585145c98428c2b3558256f52131c9a8f5d22981ec9d0712da\n",
      "Successfully built ipynbname\n",
      "Installing collected packages: ipynbname\n",
      "Successfully installed ipynbname-2025.8.0.0\n",
      "\n",
      "\u001b[1m[\u001b[0m\u001b[34;49mnotice\u001b[0m\u001b[1;39;49m]\u001b[0m\u001b[39;49m A new release of pip is available: \u001b[0m\u001b[31;49m25.1.1\u001b[0m\u001b[39;49m -> \u001b[0m\u001b[32;49m25.2\u001b[0m\n",
      "\u001b[1m[\u001b[0m\u001b[34;49mnotice\u001b[0m\u001b[1;39;49m]\u001b[0m\u001b[39;49m To update, run: \u001b[0m\u001b[32;49mpython3.13 -m pip install --upgrade pip\u001b[0m\n",
      "Defaulting to user installation because normal site-packages is not writeable\n",
      "Collecting git+https://github.com/michaelong7/autograder\n",
      "  Cloning https://github.com/michaelong7/autograder to /tmp/pip-req-build-m3m47i53\n",
      "  Running command git clone --filter=blob:none --quiet https://github.com/michaelong7/autograder /tmp/pip-req-build-m3m47i53\n",
      "  Resolved https://github.com/michaelong7/autograder to commit e4d16e610a679284c687a69793cdaf162f6b1e6f\n",
      "  Installing build dependencies ... \u001b[?25ldone\n",
      "\u001b[?25h  Getting requirements to build wheel ... \u001b[?25ldone\n",
      "\u001b[?25h  Preparing metadata (pyproject.toml) ... \u001b[?25ldone\n",
      "\u001b[?25hRequirement already satisfied: nbconvert in /home/padril/.local/lib/python3.13/site-packages (from autograder==0.1.1) (7.16.6)\n",
      "Collecting python-ta@ git+https://github.com/pyta-uoft/pyta.git (from autograder==0.1.1)\n",
      "  Cloning https://github.com/pyta-uoft/pyta.git to /tmp/pip-install-azidzb46/python-ta_88e5657155e8406d8cdc03b254ab3da3\n",
      "  Running command git clone --filter=blob:none --quiet https://github.com/pyta-uoft/pyta.git /tmp/pip-install-azidzb46/python-ta_88e5657155e8406d8cdc03b254ab3da3\n",
      "  Resolved https://github.com/pyta-uoft/pyta.git to commit 42d32a8cdc39bb1ffcc7b8e54ce2fb6a7a158c0f\n",
      "  Installing build dependencies ... \u001b[?25ldone\n",
      "\u001b[?25h  Getting requirements to build wheel ... \u001b[?25ldone\n",
      "\u001b[?25h  Preparing metadata (pyproject.toml) ... \u001b[?25ldone\n",
      "\u001b[?25hRequirement already satisfied: aiohttp<3.13.0,>=3.11.18 in /home/padril/.local/lib/python3.13/site-packages (from python-ta@ git+https://github.com/pyta-uoft/pyta.git->autograder==0.1.1) (3.12.15)\n",
      "Requirement already satisfied: astroid~=3.3.5 in /home/padril/.local/lib/python3.13/site-packages (from python-ta@ git+https://github.com/pyta-uoft/pyta.git->autograder==0.1.1) (3.3.11)\n",
      "Requirement already satisfied: beautifulsoup4 in /home/padril/.local/lib/python3.13/site-packages (from python-ta@ git+https://github.com/pyta-uoft/pyta.git->autograder==0.1.1) (4.13.5)\n",
      "Requirement already satisfied: black in /home/padril/.local/lib/python3.13/site-packages (from python-ta@ git+https://github.com/pyta-uoft/pyta.git->autograder==0.1.1) (25.1.0)\n",
      "Requirement already satisfied: click<9,>=8.0.1 in /home/padril/.local/lib/python3.13/site-packages (from python-ta@ git+https://github.com/pyta-uoft/pyta.git->autograder==0.1.1) (8.2.1)\n",
      "Requirement already satisfied: colorama~=0.4.6 in /home/padril/.local/lib/python3.13/site-packages (from python-ta@ git+https://github.com/pyta-uoft/pyta.git->autograder==0.1.1) (0.4.6)\n",
      "Requirement already satisfied: jinja2~=3.1.2 in /home/padril/.local/lib/python3.13/site-packages (from python-ta@ git+https://github.com/pyta-uoft/pyta.git->autograder==0.1.1) (3.1.6)\n",
      "Requirement already satisfied: mypy~=1.13 in /home/padril/.local/lib/python3.13/site-packages (from python-ta@ git+https://github.com/pyta-uoft/pyta.git->autograder==0.1.1) (1.17.1)\n",
      "Requirement already satisfied: pycodestyle~=2.11 in /home/padril/.local/lib/python3.13/site-packages (from python-ta@ git+https://github.com/pyta-uoft/pyta.git->autograder==0.1.1) (2.14.0)\n",
      "Requirement already satisfied: pygments<2.20,>=2.14 in /home/padril/.local/lib/python3.13/site-packages (from python-ta@ git+https://github.com/pyta-uoft/pyta.git->autograder==0.1.1) (2.19.2)\n",
      "Requirement already satisfied: pylint~=3.3.1 in /home/padril/.local/lib/python3.13/site-packages (from python-ta@ git+https://github.com/pyta-uoft/pyta.git->autograder==0.1.1) (3.3.8)\n",
      "Requirement already satisfied: requests<2.33,>=2.28 in /home/padril/.local/lib/python3.13/site-packages (from python-ta@ git+https://github.com/pyta-uoft/pyta.git->autograder==0.1.1) (2.32.5)\n",
      "Requirement already satisfied: six in /home/padril/.local/lib/python3.13/site-packages (from python-ta@ git+https://github.com/pyta-uoft/pyta.git->autograder==0.1.1) (1.17.0)\n",
      "Requirement already satisfied: tabulate~=0.9.0 in /home/padril/.local/lib/python3.13/site-packages (from python-ta@ git+https://github.com/pyta-uoft/pyta.git->autograder==0.1.1) (0.9.0)\n",
      "Requirement already satisfied: toml~=0.10.2 in /home/padril/.local/lib/python3.13/site-packages (from python-ta@ git+https://github.com/pyta-uoft/pyta.git->autograder==0.1.1) (0.10.2)\n",
      "Requirement already satisfied: typeguard<5,>=4.1.0 in /home/padril/.local/lib/python3.13/site-packages (from python-ta@ git+https://github.com/pyta-uoft/pyta.git->autograder==0.1.1) (4.4.4)\n",
      "Requirement already satisfied: watchdog~=6.0.0 in /home/padril/.local/lib/python3.13/site-packages (from python-ta@ git+https://github.com/pyta-uoft/pyta.git->autograder==0.1.1) (6.0.0)\n",
      "Requirement already satisfied: wrapt<2,>=1.15.0 in /home/padril/.local/lib/python3.13/site-packages (from python-ta@ git+https://github.com/pyta-uoft/pyta.git->autograder==0.1.1) (1.17.3)\n",
      "Requirement already satisfied: aiohappyeyeballs>=2.5.0 in /home/padril/.local/lib/python3.13/site-packages (from aiohttp<3.13.0,>=3.11.18->python-ta@ git+https://github.com/pyta-uoft/pyta.git->autograder==0.1.1) (2.6.1)\n",
      "Requirement already satisfied: aiosignal>=1.4.0 in /home/padril/.local/lib/python3.13/site-packages (from aiohttp<3.13.0,>=3.11.18->python-ta@ git+https://github.com/pyta-uoft/pyta.git->autograder==0.1.1) (1.4.0)\n",
      "Requirement already satisfied: attrs>=17.3.0 in /home/padril/.local/lib/python3.13/site-packages (from aiohttp<3.13.0,>=3.11.18->python-ta@ git+https://github.com/pyta-uoft/pyta.git->autograder==0.1.1) (25.3.0)\n",
      "Requirement already satisfied: frozenlist>=1.1.1 in /home/padril/.local/lib/python3.13/site-packages (from aiohttp<3.13.0,>=3.11.18->python-ta@ git+https://github.com/pyta-uoft/pyta.git->autograder==0.1.1) (1.7.0)\n",
      "Requirement already satisfied: multidict<7.0,>=4.5 in /home/padril/.local/lib/python3.13/site-packages (from aiohttp<3.13.0,>=3.11.18->python-ta@ git+https://github.com/pyta-uoft/pyta.git->autograder==0.1.1) (6.6.4)\n",
      "Requirement already satisfied: propcache>=0.2.0 in /home/padril/.local/lib/python3.13/site-packages (from aiohttp<3.13.0,>=3.11.18->python-ta@ git+https://github.com/pyta-uoft/pyta.git->autograder==0.1.1) (0.3.2)\n",
      "Requirement already satisfied: yarl<2.0,>=1.17.0 in /home/padril/.local/lib/python3.13/site-packages (from aiohttp<3.13.0,>=3.11.18->python-ta@ git+https://github.com/pyta-uoft/pyta.git->autograder==0.1.1) (1.20.1)\n",
      "Requirement already satisfied: MarkupSafe>=2.0 in /home/padril/.local/lib/python3.13/site-packages (from jinja2~=3.1.2->python-ta@ git+https://github.com/pyta-uoft/pyta.git->autograder==0.1.1) (3.0.2)\n",
      "Requirement already satisfied: typing_extensions>=4.6.0 in /home/padril/.local/lib/python3.13/site-packages (from mypy~=1.13->python-ta@ git+https://github.com/pyta-uoft/pyta.git->autograder==0.1.1) (4.15.0)\n",
      "Requirement already satisfied: mypy_extensions>=1.0.0 in /home/padril/.local/lib/python3.13/site-packages (from mypy~=1.13->python-ta@ git+https://github.com/pyta-uoft/pyta.git->autograder==0.1.1) (1.1.0)\n",
      "Requirement already satisfied: pathspec>=0.9.0 in /home/padril/.local/lib/python3.13/site-packages (from mypy~=1.13->python-ta@ git+https://github.com/pyta-uoft/pyta.git->autograder==0.1.1) (0.12.1)\n",
      "Requirement already satisfied: dill>=0.3.6 in /home/padril/.local/lib/python3.13/site-packages (from pylint~=3.3.1->python-ta@ git+https://github.com/pyta-uoft/pyta.git->autograder==0.1.1) (0.4.0)\n",
      "Requirement already satisfied: isort!=5.13,<7,>=4.2.5 in /home/padril/.local/lib/python3.13/site-packages (from pylint~=3.3.1->python-ta@ git+https://github.com/pyta-uoft/pyta.git->autograder==0.1.1) (6.0.1)\n",
      "Requirement already satisfied: mccabe<0.8,>=0.6 in /home/padril/.local/lib/python3.13/site-packages (from pylint~=3.3.1->python-ta@ git+https://github.com/pyta-uoft/pyta.git->autograder==0.1.1) (0.7.0)\n",
      "Requirement already satisfied: platformdirs>=2.2 in /home/padril/.local/lib/python3.13/site-packages (from pylint~=3.3.1->python-ta@ git+https://github.com/pyta-uoft/pyta.git->autograder==0.1.1) (4.4.0)\n",
      "Requirement already satisfied: tomlkit>=0.10.1 in /home/padril/.local/lib/python3.13/site-packages (from pylint~=3.3.1->python-ta@ git+https://github.com/pyta-uoft/pyta.git->autograder==0.1.1) (0.13.3)\n",
      "Requirement already satisfied: charset_normalizer<4,>=2 in /home/padril/.local/lib/python3.13/site-packages (from requests<2.33,>=2.28->python-ta@ git+https://github.com/pyta-uoft/pyta.git->autograder==0.1.1) (3.4.3)\n",
      "Requirement already satisfied: idna<4,>=2.5 in /home/padril/.local/lib/python3.13/site-packages (from requests<2.33,>=2.28->python-ta@ git+https://github.com/pyta-uoft/pyta.git->autograder==0.1.1) (3.10)\n",
      "Requirement already satisfied: urllib3<3,>=1.21.1 in /home/padril/.local/lib/python3.13/site-packages (from requests<2.33,>=2.28->python-ta@ git+https://github.com/pyta-uoft/pyta.git->autograder==0.1.1) (2.5.0)\n",
      "Requirement already satisfied: certifi>=2017.4.17 in /home/padril/.local/lib/python3.13/site-packages (from requests<2.33,>=2.28->python-ta@ git+https://github.com/pyta-uoft/pyta.git->autograder==0.1.1) (2025.8.3)\n",
      "Requirement already satisfied: soupsieve>1.2 in /home/padril/.local/lib/python3.13/site-packages (from beautifulsoup4->python-ta@ git+https://github.com/pyta-uoft/pyta.git->autograder==0.1.1) (2.8)\n",
      "Requirement already satisfied: packaging>=22.0 in /home/padril/.local/lib/python3.13/site-packages (from black->python-ta@ git+https://github.com/pyta-uoft/pyta.git->autograder==0.1.1) (25.0)\n",
      "Requirement already satisfied: bleach!=5.0.0 in /home/padril/.local/lib/python3.13/site-packages (from bleach[css]!=5.0.0->nbconvert->autograder==0.1.1) (6.2.0)\n",
      "Requirement already satisfied: defusedxml in /home/padril/.local/lib/python3.13/site-packages (from nbconvert->autograder==0.1.1) (0.7.1)\n",
      "Requirement already satisfied: jupyter-core>=4.7 in /home/padril/.local/lib/python3.13/site-packages (from nbconvert->autograder==0.1.1) (5.8.1)\n",
      "Requirement already satisfied: jupyterlab-pygments in /home/padril/.local/lib/python3.13/site-packages (from nbconvert->autograder==0.1.1) (0.3.0)\n",
      "Requirement already satisfied: mistune<4,>=2.0.3 in /home/padril/.local/lib/python3.13/site-packages (from nbconvert->autograder==0.1.1) (3.1.3)\n",
      "Requirement already satisfied: nbclient>=0.5.0 in /home/padril/.local/lib/python3.13/site-packages (from nbconvert->autograder==0.1.1) (0.10.2)\n",
      "Requirement already satisfied: nbformat>=5.7 in /home/padril/.local/lib/python3.13/site-packages (from nbconvert->autograder==0.1.1) (5.10.4)\n",
      "Requirement already satisfied: pandocfilters>=1.4.1 in /home/padril/.local/lib/python3.13/site-packages (from nbconvert->autograder==0.1.1) (1.5.1)\n",
      "Requirement already satisfied: traitlets>=5.1 in /home/padril/.local/lib/python3.13/site-packages (from nbconvert->autograder==0.1.1) (5.14.3)\n",
      "Requirement already satisfied: webencodings in /home/padril/.local/lib/python3.13/site-packages (from bleach!=5.0.0->bleach[css]!=5.0.0->nbconvert->autograder==0.1.1) (0.5.1)\n",
      "Requirement already satisfied: tinycss2<1.5,>=1.1.0 in /home/padril/.local/lib/python3.13/site-packages (from bleach[css]!=5.0.0->nbconvert->autograder==0.1.1) (1.4.0)\n",
      "Requirement already satisfied: jupyter-client>=6.1.12 in /home/padril/.local/lib/python3.13/site-packages (from nbclient>=0.5.0->nbconvert->autograder==0.1.1) (8.6.3)\n",
      "Requirement already satisfied: python-dateutil>=2.8.2 in /home/padril/.local/lib/python3.13/site-packages (from jupyter-client>=6.1.12->nbclient>=0.5.0->nbconvert->autograder==0.1.1) (2.9.0.post0)\n",
      "Requirement already satisfied: pyzmq>=23.0 in /home/padril/.local/lib/python3.13/site-packages (from jupyter-client>=6.1.12->nbclient>=0.5.0->nbconvert->autograder==0.1.1) (27.0.2)\n",
      "Requirement already satisfied: tornado>=6.2 in /home/padril/.local/lib/python3.13/site-packages (from jupyter-client>=6.1.12->nbclient>=0.5.0->nbconvert->autograder==0.1.1) (6.5.2)\n",
      "Requirement already satisfied: fastjsonschema>=2.15 in /home/padril/.local/lib/python3.13/site-packages (from nbformat>=5.7->nbconvert->autograder==0.1.1) (2.21.2)\n",
      "Requirement already satisfied: jsonschema>=2.6 in /home/padril/.local/lib/python3.13/site-packages (from nbformat>=5.7->nbconvert->autograder==0.1.1) (4.25.1)\n",
      "Requirement already satisfied: jsonschema-specifications>=2023.03.6 in /home/padril/.local/lib/python3.13/site-packages (from jsonschema>=2.6->nbformat>=5.7->nbconvert->autograder==0.1.1) (2025.4.1)\n",
      "Requirement already satisfied: referencing>=0.28.4 in /home/padril/.local/lib/python3.13/site-packages (from jsonschema>=2.6->nbformat>=5.7->nbconvert->autograder==0.1.1) (0.36.2)\n",
      "Requirement already satisfied: rpds-py>=0.7.1 in /home/padril/.local/lib/python3.13/site-packages (from jsonschema>=2.6->nbformat>=5.7->nbconvert->autograder==0.1.1) (0.27.1)\n",
      "Building wheels for collected packages: autograder\n",
      "  Building wheel for autograder (pyproject.toml) ... \u001b[?25ldone\n",
      "\u001b[?25h  Created wheel for autograder: filename=autograder-0.1.1-py3-none-any.whl size=4993 sha256=68c75eea769ad3a6971db5734e315d1fbaa394f82c563c6f2d7eb5c106a5a816\n",
      "  Stored in directory: /tmp/pip-ephem-wheel-cache-r9sw8lx2/wheels/63/b3/36/bfd06cd31834e2ba6de4d5f46688f9fb277262a0687e173923\n",
      "Successfully built autograder\n",
      "Installing collected packages: autograder\n",
      "Successfully installed autograder-0.1.1\n",
      "\n",
      "\u001b[1m[\u001b[0m\u001b[34;49mnotice\u001b[0m\u001b[1;39;49m]\u001b[0m\u001b[39;49m A new release of pip is available: \u001b[0m\u001b[31;49m25.1.1\u001b[0m\u001b[39;49m -> \u001b[0m\u001b[32;49m25.2\u001b[0m\n",
      "\u001b[1m[\u001b[0m\u001b[34;49mnotice\u001b[0m\u001b[1;39;49m]\u001b[0m\u001b[39;49m To update, run: \u001b[0m\u001b[32;49mpython3.13 -m pip install --upgrade pip\u001b[0m\n",
      "--2025-09-04 18:03:57--  https://padril.github.io/cpfl/assets/zips/setup.zip\n",
      "Resolving padril.github.io (padril.github.io)... 185.199.108.153, 185.199.109.153, 185.199.110.153, ...\n",
      "Connecting to padril.github.io (padril.github.io)|185.199.108.153|:443... connected.\n",
      "HTTP request sent, awaiting response... 200 OK\n",
      "Length: 532447 (520K) [application/x-zip-compressed]\n",
      "Saving to: ‘module.zip’\n",
      "\n",
      "module.zip          100%[===================>] 519.97K  --.-KB/s    in 0.02s   \n",
      "\n",
      "2025-09-04 18:03:58 (22.5 MB/s) - ‘module.zip’ saved [532447/532447]\n",
      "\n",
      "Archive:  module.zip\n"
     ]
    }
   ],
   "source": [
    "if password == \"setup\":\n",
    "    !pip install git+https://github.com/padril/ipynbname\n",
    "    !pip install git+https://github.com/michaelong7/autograder\n",
    "link = \"https://padril.github.io/cpfl/assets/zips/\" + password + \".zip\"\n",
    "!wget $link -O module.zip\n",
    "!unzip -n module.zip\n",
    "!rm module.zip"
   ]
  }
 ],
 "metadata": {
  "kernelspec": {
   "display_name": "Python 3 (ipykernel)",
   "language": "python",
   "name": "python3"
  },
  "language_info": {
   "codemirror_mode": {
    "name": "ipython",
    "version": 3
   },
   "file_extension": ".py",
   "mimetype": "text/x-python",
   "name": "python",
   "nbconvert_exporter": "python",
   "pygments_lexer": "ipython3",
   "version": "3.13.1"
  },
  "widgets": {
   "application/vnd.jupyter.widget-state+json": {
    "state": {
     "15d554adb8a84f899d758b024b115673": {
      "model_module": "jupyter-js-widgets",
      "model_module_version": "2.0.0",
      "model_name": "LayoutModel",
      "state": {
       "_model_module": "jupyter-js-widgets",
       "_model_name": "LayoutModel",
       "_view_name": "ErrorWidgetView",
       "align_content": null,
       "align_items": null,
       "align_self": null,
       "border": null,
       "bottom": null,
       "display": null,
       "error": {
        "originalError": {
         "isTrusted": true
        },
        "requireModules": [
         "jupyter-js-widgets"
        ],
        "requireType": "scripterror"
       },
       "flex": null,
       "flex_flow": null,
       "height": null,
       "justify_content": null,
       "left": null,
       "margin": null,
       "max_height": null,
       "max_width": null,
       "min_height": null,
       "min_width": null,
       "msg": "Failed to load model class 'LayoutModel' from module 'jupyter-js-widgets'",
       "msg_throttle": 1,
       "order": null,
       "overflow": null,
       "overflow_x": null,
       "overflow_y": null,
       "padding": null,
       "right": null,
       "top": null,
       "visibility": null,
       "width": null
      }
     },
     "298868e504b14fe28e299cbdda79496b": {
      "model_module": "jupyter-js-widgets",
      "model_module_version": "2.0.0",
      "model_name": "LayoutModel",
      "state": {
       "_view_name": "ErrorWidgetView",
       "error": {
        "originalError": {
         "isTrusted": true
        },
        "requireModules": [
         "jupyter-js-widgets"
        ],
        "requireType": "scripterror"
       },
       "msg": "Failed to load model class 'LayoutModel' from module 'jupyter-js-widgets'"
      }
     },
     "408efbad4e7444688f18aebf8cffe2b4": {
      "model_module": "jupyter-js-widgets",
      "model_module_version": "2.0.0",
      "model_name": "TextModel",
      "state": {
       "_model_module": "jupyter-js-widgets",
       "_model_name": "TextModel",
       "_view_name": "ErrorWidgetView",
       "description": "String:",
       "disabled": false,
       "error": {
        "originalError": {
         "isTrusted": true
        },
        "requireModules": [
         "jupyter-js-widgets"
        ],
        "requireType": "scripterror"
       },
       "layout": "IPY_MODEL_59ff71ed24cd4e68801952aecc8e9a9b",
       "msg": "Failed to load model class 'TextModel' from module 'jupyter-js-widgets'",
       "msg_throttle": 1,
       "placeholder": "Type something",
       "value": "Hello World"
      }
     },
     "43e104a565fc403f938ef7eba8163ba5": {
      "model_module": "jupyter-js-widgets",
      "model_module_version": "2.0.0",
      "model_name": "TextModel",
      "state": {
       "_view_name": "ErrorWidgetView",
       "description": "String:",
       "error": {
        "originalError": {
         "isTrusted": true
        },
        "requireModules": [
         "jupyter-js-widgets"
        ],
        "requireType": "scripterror"
       },
       "layout": "IPY_MODEL_de1cc505eac94a2b82d44be050d1e1e9",
       "msg": "Failed to load model class 'TextModel' from module 'jupyter-js-widgets'",
       "placeholder": "Type something",
       "value": "Hello World"
      }
     },
     "45ce704de2dc47dba45a750f3620d364": {
      "model_module": "jupyter-js-widgets",
      "model_module_version": "2.0.0",
      "model_name": "LayoutModel",
      "state": {
       "_model_module": "jupyter-js-widgets",
       "_model_name": "LayoutModel",
       "_view_name": "ErrorWidgetView",
       "align_content": null,
       "align_items": null,
       "align_self": null,
       "border": null,
       "bottom": null,
       "display": null,
       "error": {
        "originalError": {
         "isTrusted": true
        },
        "requireModules": [
         "jupyter-js-widgets"
        ],
        "requireType": "scripterror"
       },
       "flex": null,
       "flex_flow": null,
       "height": null,
       "justify_content": null,
       "left": null,
       "margin": null,
       "max_height": null,
       "max_width": null,
       "min_height": null,
       "min_width": null,
       "msg": "Failed to load model class 'LayoutModel' from module 'jupyter-js-widgets'",
       "msg_throttle": 1,
       "order": null,
       "overflow": null,
       "overflow_x": null,
       "overflow_y": null,
       "padding": null,
       "right": null,
       "top": null,
       "visibility": null,
       "width": null
      }
     },
     "507cd9c5b41c4917bc875ce8201c4386": {
      "model_module": "jupyter-js-widgets",
      "model_module_version": "2.0.0",
      "model_name": "TextModel",
      "state": {
       "_model_module": "jupyter-js-widgets",
       "_model_name": "TextModel",
       "_view_name": "ErrorWidgetView",
       "description": "String:",
       "disabled": false,
       "error": {
        "originalError": {
         "isTrusted": true
        },
        "requireModules": [
         "jupyter-js-widgets"
        ],
        "requireType": "scripterror"
       },
       "layout": "IPY_MODEL_6fd399ad0ef343cda70b9667c6d0652d",
       "msg": "Failed to load model class 'TextModel' from module 'jupyter-js-widgets'",
       "msg_throttle": 1,
       "placeholder": "Type something",
       "value": "Hello World"
      }
     },
     "5183ea937a3a4663aa18db0f6e9a50c9": {
      "model_module": "jupyter-js-widgets",
      "model_module_version": "2.0.0",
      "model_name": "TextModel",
      "state": {
       "_view_name": "ErrorWidgetView",
       "description": "String:",
       "error": {
        "originalError": {
         "isTrusted": true
        },
        "requireModules": [
         "jupyter-js-widgets"
        ],
        "requireType": "scripterror"
       },
       "layout": "IPY_MODEL_298868e504b14fe28e299cbdda79496b",
       "msg": "Failed to load model class 'TextModel' from module 'jupyter-js-widgets'",
       "placeholder": "Type something",
       "value": "Hello World"
      }
     },
     "59ff71ed24cd4e68801952aecc8e9a9b": {
      "model_module": "jupyter-js-widgets",
      "model_module_version": "2.0.0",
      "model_name": "LayoutModel",
      "state": {
       "_model_module": "jupyter-js-widgets",
       "_model_name": "LayoutModel",
       "_view_name": "ErrorWidgetView",
       "align_content": null,
       "align_items": null,
       "align_self": null,
       "border": null,
       "bottom": null,
       "display": null,
       "error": {
        "originalError": {
         "isTrusted": true
        },
        "requireModules": [
         "jupyter-js-widgets"
        ],
        "requireType": "scripterror"
       },
       "flex": null,
       "flex_flow": null,
       "height": null,
       "justify_content": null,
       "left": null,
       "margin": null,
       "max_height": null,
       "max_width": null,
       "min_height": null,
       "min_width": null,
       "msg": "Failed to load model class 'LayoutModel' from module 'jupyter-js-widgets'",
       "msg_throttle": 1,
       "order": null,
       "overflow": null,
       "overflow_x": null,
       "overflow_y": null,
       "padding": null,
       "right": null,
       "top": null,
       "visibility": null,
       "width": null
      }
     },
     "6fd399ad0ef343cda70b9667c6d0652d": {
      "model_module": "jupyter-js-widgets",
      "model_module_version": "2.0.0",
      "model_name": "LayoutModel",
      "state": {
       "_model_module": "jupyter-js-widgets",
       "_model_name": "LayoutModel",
       "_view_name": "ErrorWidgetView",
       "align_content": null,
       "align_items": null,
       "align_self": null,
       "border": null,
       "bottom": null,
       "display": null,
       "error": {
        "originalError": {
         "isTrusted": true
        },
        "requireModules": [
         "jupyter-js-widgets"
        ],
        "requireType": "scripterror"
       },
       "flex": null,
       "flex_flow": null,
       "height": null,
       "justify_content": null,
       "left": null,
       "margin": null,
       "max_height": null,
       "max_width": null,
       "min_height": null,
       "min_width": null,
       "msg": "Failed to load model class 'LayoutModel' from module 'jupyter-js-widgets'",
       "msg_throttle": 1,
       "order": null,
       "overflow": null,
       "overflow_x": null,
       "overflow_y": null,
       "padding": null,
       "right": null,
       "top": null,
       "visibility": null,
       "width": null
      }
     },
     "7b0a51f7834a4569bed52f64467b2781": {
      "model_module": "jupyter-js-widgets",
      "model_module_version": "2.0.0",
      "model_name": "LayoutModel",
      "state": {
       "_model_module": "jupyter-js-widgets",
       "_model_name": "LayoutModel",
       "_view_name": "ErrorWidgetView",
       "align_content": null,
       "align_items": null,
       "align_self": null,
       "border": null,
       "bottom": null,
       "display": null,
       "error": {
        "originalError": {
         "isTrusted": true
        },
        "requireModules": [
         "jupyter-js-widgets"
        ],
        "requireType": "scripterror"
       },
       "flex": null,
       "flex_flow": null,
       "height": null,
       "justify_content": null,
       "left": null,
       "margin": null,
       "max_height": null,
       "max_width": null,
       "min_height": null,
       "min_width": null,
       "msg": "Failed to load model class 'LayoutModel' from module 'jupyter-js-widgets'",
       "msg_throttle": 1,
       "order": null,
       "overflow": null,
       "overflow_x": null,
       "overflow_y": null,
       "padding": null,
       "right": null,
       "top": null,
       "visibility": null,
       "width": null
      }
     },
     "953dd41317de4686b42bb0a9381140a3": {
      "model_module": "jupyter-js-widgets",
      "model_module_version": "2.0.0",
      "model_name": "LayoutModel",
      "state": {
       "_model_module": "jupyter-js-widgets",
       "_model_name": "LayoutModel",
       "_view_name": "ErrorWidgetView",
       "align_content": null,
       "align_items": null,
       "align_self": null,
       "border": null,
       "bottom": null,
       "display": null,
       "error": {
        "originalError": {
         "isTrusted": true
        },
        "requireModules": [
         "jupyter-js-widgets"
        ],
        "requireType": "scripterror"
       },
       "flex": null,
       "flex_flow": null,
       "height": null,
       "justify_content": null,
       "left": null,
       "margin": null,
       "max_height": null,
       "max_width": null,
       "min_height": null,
       "min_width": null,
       "msg": "Failed to load model class 'LayoutModel' from module 'jupyter-js-widgets'",
       "msg_throttle": 1,
       "order": null,
       "overflow": null,
       "overflow_x": null,
       "overflow_y": null,
       "padding": null,
       "right": null,
       "top": null,
       "visibility": null,
       "width": null
      }
     },
     "c3a5e40b7f4d4adeb012b8cbd61963eb": {
      "model_module": "jupyter-js-widgets",
      "model_module_version": "2.0.0",
      "model_name": "TextModel",
      "state": {
       "_model_module": "jupyter-js-widgets",
       "_model_name": "TextModel",
       "_view_name": "ErrorWidgetView",
       "description": "String:",
       "disabled": false,
       "error": {
        "originalError": {
         "isTrusted": true
        },
        "requireModules": [
         "jupyter-js-widgets"
        ],
        "requireType": "scripterror"
       },
       "layout": "IPY_MODEL_953dd41317de4686b42bb0a9381140a3",
       "msg": "Failed to load model class 'TextModel' from module 'jupyter-js-widgets'",
       "msg_throttle": 1,
       "placeholder": "Type something",
       "value": "Hello World"
      }
     },
     "ce69a86d6405400885c284649135e86e": {
      "model_module": "jupyter-js-widgets",
      "model_module_version": "2.0.0",
      "model_name": "TextModel",
      "state": {
       "_model_module": "jupyter-js-widgets",
       "_model_name": "TextModel",
       "_view_name": "ErrorWidgetView",
       "description": "String:",
       "disabled": false,
       "error": {
        "originalError": {
         "isTrusted": true
        },
        "requireModules": [
         "jupyter-js-widgets"
        ],
        "requireType": "scripterror"
       },
       "layout": "IPY_MODEL_45ce704de2dc47dba45a750f3620d364",
       "msg": "Failed to load model class 'TextModel' from module 'jupyter-js-widgets'",
       "msg_throttle": 1,
       "placeholder": "Type something",
       "value": "Hello World"
      }
     },
     "de1cc505eac94a2b82d44be050d1e1e9": {
      "model_module": "jupyter-js-widgets",
      "model_module_version": "2.0.0",
      "model_name": "LayoutModel",
      "state": {
       "_view_name": "ErrorWidgetView",
       "error": {
        "originalError": {
         "isTrusted": true
        },
        "requireModules": [
         "jupyter-js-widgets"
        ],
        "requireType": "scripterror"
       },
       "msg": "Failed to load model class 'LayoutModel' from module 'jupyter-js-widgets'"
      }
     },
     "f1d8883806e24797b69488f5ace7b3a1": {
      "model_module": "jupyter-js-widgets",
      "model_module_version": "2.0.0",
      "model_name": "TextModel",
      "state": {
       "_model_module": "jupyter-js-widgets",
       "_model_name": "TextModel",
       "_view_name": "ErrorWidgetView",
       "description": "String:",
       "disabled": false,
       "error": {
        "originalError": {
         "isTrusted": true
        },
        "requireModules": [
         "jupyter-js-widgets"
        ],
        "requireType": "scripterror"
       },
       "layout": "IPY_MODEL_15d554adb8a84f899d758b024b115673",
       "msg": "Failed to load model class 'TextModel' from module 'jupyter-js-widgets'",
       "msg_throttle": 1,
       "placeholder": "Type something",
       "value": "Hello World"
      }
     },
     "f306b369ab5045ef91176f936a7669f2": {
      "model_module": "jupyter-js-widgets",
      "model_module_version": "2.0.0",
      "model_name": "TextModel",
      "state": {
       "_model_module": "jupyter-js-widgets",
       "_model_name": "TextModel",
       "_view_name": "ErrorWidgetView",
       "description": "String:",
       "disabled": false,
       "error": {
        "originalError": {
         "isTrusted": true
        },
        "requireModules": [
         "jupyter-js-widgets"
        ],
        "requireType": "scripterror"
       },
       "layout": "IPY_MODEL_7b0a51f7834a4569bed52f64467b2781",
       "msg": "Failed to load model class 'TextModel' from module 'jupyter-js-widgets'",
       "msg_throttle": 1,
       "placeholder": "Type something",
       "value": "Hello World"
      }
     }
    },
    "version_major": 2,
    "version_minor": 0
   }
  }
 },
 "nbformat": 4,
 "nbformat_minor": 5
}
