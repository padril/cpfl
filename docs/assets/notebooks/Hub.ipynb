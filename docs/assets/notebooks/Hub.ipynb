{
 "cells": [
  {
   "cell_type": "markdown",
   "id": "a6232bcb",
   "metadata": {},
   "source": [
    "# Hub\n",
    "\n",
    "Welcome to the hub! This notebook does two main things:\n",
    "\n",
    "- Automates the process of setting you up\n",
    "- Allows you to quickly navigate between notebooks\n",
    "\n",
    "You'll also be returning here after you complete each module to get the next one.\n",
    "\n",
    "### Quick Navigation\n",
    "\n",
    "Once you've unlocked the respective module, you can click on the links in any of the cells of the table below to be brought straight to the associated notebook.\n",
    "\n",
    "|Module A||Module B||Module C||Module D||\n",
    "|:-|:-|:-|:-|:-|:-|:-|:-|\n",
    "|[Lesson 1: notebooks](Module_A/Lesson_1_notebooks.ipynb)|[Problem Set 1](Module_A/Problem_Set_1.ipynb)|[Lesson 1: functions](Module_B/Lesson_1_functions.ipynb)|[Problem Set 1](Module_B/Problem_Set_1.ipynb)|[Lesson 1: booleans](Module_C/Lesson_1_booleans.ipynb)|[Problem Set 1A](Module_C/Problem_Set_1A.ipynb)<br> [Problem Set 1B](Module_C/Problem_Set_1B.ipynb)|[Lesson 1: lists](Module_D/Lesson_1_lists.ipynb)|[Problem Set 1](Module_D/Problem_Set_1.ipynb)|\n",
    "|[Lesson 2: operators](Module_A/Lesson_2_operators.ipynb)||||[Lesson 2: conditionals](Module_C/Lesson_2_conditionals.ipynb)|[Problem Set 2A](Module_C/Problem_Set_2A.ipynb)<br> [Problem Set 2B](Module_C/Problem_Set_2B.ipynb)|[Lesson 2: iteration](Module_D/Lesson_2_iteration.ipynb)|[Problem Set 2](Module_D/Problem_Set_2.ipynb)|\n",
    "|[Lesson 3: variables](Module_A/Lesson_3_variables.ipynb)|[Problem Set 2A](Module_A/Problem_Set_2A.ipynb)<br> [Problem Set 2B](Module_A/Problem_Set_2B.ipynb)<br> [Problem Set 3A](Module_A/Problem_Set_3A.ipynb)<br> [Problem Set 3B](Module_A/Problem_Set_3B.ipynb)|||||[Lesson 3: list functions](Module_D/Lesson_3_list_functions.ipynb)|[Problem Set 3](Module_D/Problem_Set_2.ipynb)|\n",
    "|[Lesson 4: statements](Module_A/Lesson_4_statements.ipynb)|[Problem Set 4](Module_A/Problem_Set_4.ipynb)|||||||\n",
    "|[Test](Module_A/Test.ipynb)|[Additional Exercises]()|[Test](Module_B/Test.ipynb)|[Additional Exercises]()|[Test](Module_C/Test.ipynb)|[Additional Exercises]()|[Test](Module_D/Test.ipynb)|[Additional Exercises]()|\n",
    "\n",
    "### Automated setup\n",
    "\n",
    "If this is your first time using the notebook, make sure you see the word \"setup\" in the cell below, and then click the button to \"run all cells\". This should be on the bar at the top and look like two right-facing arrows, or the fast-forward button on a TV remote. This will automatically install everything you need to start working through these notebooks."
   ]
  },
  {
   "cell_type": "code",
   "execution_count": 2,
   "id": "11a87d94",
   "metadata": {
    "editable": true,
    "slideshow": {
     "slide_type": ""
    },
    "tags": []
   },
   "outputs": [],
   "source": [
    "password = \"setup\""
   ]
  },
  {
   "cell_type": "markdown",
   "id": "516a4098-b380-416d-9aaf-19c97ec03a40",
   "metadata": {},
   "source": [
    "If you've just completed a module test, take the password you got and assign it to `password` above (you should know what that means now!) Now when you run all cells, it should download the next module for you. If you get the password wrong, nothing will happen!\n",
    "\n",
    "- - -\n",
    "\n",
    "<br>\n",
    "<br>\n",
    "<br>\n",
    "<br>\n",
    "<br>\n",
    "<br>\n",
    "<br>\n",
    "<br>\n",
    "<br>\n",
    "<br>\n",
    "<br>\n",
    "<br>\n",
    "<br>\n",
    "<br>\n",
    "<br>\n",
    "<br>\n",
    "<br>\n",
    "<br>\n",
    "<br>\n",
    "<br>\n",
    "<br>\n",
    "<br>\n",
    "<br>\n",
    "<br>\n",
    "<br>\n",
    "<br>\n",
    "<br>\n",
    "<br>\n",
    "<br>\n",
    "<br>\n",
    "<br>\n",
    "<br>\n",
    "<br>\n",
    "<br>\n",
    "<br>\n",
    "<br>\n",
    "<br>\n",
    "<br>\n",
    "<br>\n",
    "<br>\n",
    "<br>\n",
    "<br>\n",
    "...here's the code that does the actual install. You can safely ignore it."
   ]
  },
  {
   "cell_type": "code",
   "execution_count": 3,
   "id": "18fec480-3018-4c5e-a1d0-d87971a67c52",
   "metadata": {},
   "outputs": [
    {
     "name": "stdout",
     "output_type": "stream",
     "text": [
      "\n",
      "\u001b[1m[\u001b[0m\u001b[34;49mnotice\u001b[0m\u001b[1;39;49m]\u001b[0m\u001b[39;49m A new release of pip is available: \u001b[0m\u001b[31;49m25.1.1\u001b[0m\u001b[39;49m -> \u001b[0m\u001b[32;49m25.2\u001b[0m\n",
      "\u001b[1m[\u001b[0m\u001b[34;49mnotice\u001b[0m\u001b[1;39;49m]\u001b[0m\u001b[39;49m To update, run: \u001b[0m\u001b[32;49mpython3.13 -m pip install --upgrade pip\u001b[0m\n",
      "\n",
      "\u001b[1m[\u001b[0m\u001b[34;49mnotice\u001b[0m\u001b[1;39;49m]\u001b[0m\u001b[39;49m A new release of pip is available: \u001b[0m\u001b[31;49m25.1.1\u001b[0m\u001b[39;49m -> \u001b[0m\u001b[32;49m25.2\u001b[0m\n",
      "\u001b[1m[\u001b[0m\u001b[34;49mnotice\u001b[0m\u001b[1;39;49m]\u001b[0m\u001b[39;49m To update, run: \u001b[0m\u001b[32;49mpython3.13 -m pip install --upgrade pip\u001b[0m\n",
      "--2025-08-27 11:54:40--  https://padril.github.io/geif/assets/zips/setup.zip\n",
      "Resolving padril.github.io (padril.github.io)... 185.199.108.153, 185.199.110.153, 185.199.109.153, ...\n",
      "Connecting to padril.github.io (padril.github.io)|185.199.108.153|:443... connected.\n",
      "HTTP request sent, awaiting response... 200 OK\n",
      "Length: 468297 (457K) [application/x-zip-compressed]\n",
      "Saving to: ‘module.zip’\n",
      "\n",
      "module.zip          100%[===================>] 457.32K  --.-KB/s    in 0.02s   \n",
      "\n",
      "2025-08-27 11:54:40 (24.1 MB/s) - ‘module.zip’ saved [468297/468297]\n",
      "\n",
      "Archive:  module.zip\n",
      "  inflating: Module_A/.autograder/model_Problem_Set_2.py  \n",
      "  inflating: Module_A/Problem_Set_2.ipynb  \n",
      "  inflating: Module_A/.ipynb_checkpoints/Problem_Set_2-checkpoint.ipynb  \n"
     ]
    }
   ],
   "source": [
    "if password == \"setup\":\n",
    "    !pip install -q ipynbname\n",
    "    !pip install -q git+https://github.com/michaelong7/autograder\n",
    "link = \"https://padril.github.io/geif/assets/zips/\" + password + \".zip\"\n",
    "!wget $link -O module.zip\n",
    "!unzip -n module.zip\n",
    "!rm module.zip"
   ]
  }
 ],
 "metadata": {
  "kernelspec": {
   "display_name": "Python 3 (ipykernel)",
   "language": "python",
   "name": "python3"
  },
  "language_info": {
   "codemirror_mode": {
    "name": "ipython",
    "version": 3
   },
   "file_extension": ".py",
   "mimetype": "text/x-python",
   "name": "python",
   "nbconvert_exporter": "python",
   "pygments_lexer": "ipython3",
   "version": "3.13.1"
  },
  "widgets": {
   "application/vnd.jupyter.widget-state+json": {
    "state": {
     "15d554adb8a84f899d758b024b115673": {
      "model_module": "jupyter-js-widgets",
      "model_module_version": "2.0.0",
      "model_name": "LayoutModel",
      "state": {
       "_model_module": "jupyter-js-widgets",
       "_model_name": "LayoutModel",
       "_view_name": "ErrorWidgetView",
       "align_content": null,
       "align_items": null,
       "align_self": null,
       "border": null,
       "bottom": null,
       "display": null,
       "error": {
        "originalError": {
         "isTrusted": true
        },
        "requireModules": [
         "jupyter-js-widgets"
        ],
        "requireType": "scripterror"
       },
       "flex": null,
       "flex_flow": null,
       "height": null,
       "justify_content": null,
       "left": null,
       "margin": null,
       "max_height": null,
       "max_width": null,
       "min_height": null,
       "min_width": null,
       "msg": "Failed to load model class 'LayoutModel' from module 'jupyter-js-widgets'",
       "msg_throttle": 1,
       "order": null,
       "overflow": null,
       "overflow_x": null,
       "overflow_y": null,
       "padding": null,
       "right": null,
       "top": null,
       "visibility": null,
       "width": null
      }
     },
     "298868e504b14fe28e299cbdda79496b": {
      "model_module": "jupyter-js-widgets",
      "model_module_version": "2.0.0",
      "model_name": "LayoutModel",
      "state": {
       "_view_name": "ErrorWidgetView",
       "error": {
        "originalError": {
         "isTrusted": true
        },
        "requireModules": [
         "jupyter-js-widgets"
        ],
        "requireType": "scripterror"
       },
       "msg": "Failed to load model class 'LayoutModel' from module 'jupyter-js-widgets'"
      }
     },
     "408efbad4e7444688f18aebf8cffe2b4": {
      "model_module": "jupyter-js-widgets",
      "model_module_version": "2.0.0",
      "model_name": "TextModel",
      "state": {
       "_model_module": "jupyter-js-widgets",
       "_model_name": "TextModel",
       "_view_name": "ErrorWidgetView",
       "description": "String:",
       "disabled": false,
       "error": {
        "originalError": {
         "isTrusted": true
        },
        "requireModules": [
         "jupyter-js-widgets"
        ],
        "requireType": "scripterror"
       },
       "layout": "IPY_MODEL_59ff71ed24cd4e68801952aecc8e9a9b",
       "msg": "Failed to load model class 'TextModel' from module 'jupyter-js-widgets'",
       "msg_throttle": 1,
       "placeholder": "Type something",
       "value": "Hello World"
      }
     },
     "43e104a565fc403f938ef7eba8163ba5": {
      "model_module": "jupyter-js-widgets",
      "model_module_version": "2.0.0",
      "model_name": "TextModel",
      "state": {
       "_view_name": "ErrorWidgetView",
       "description": "String:",
       "error": {
        "originalError": {
         "isTrusted": true
        },
        "requireModules": [
         "jupyter-js-widgets"
        ],
        "requireType": "scripterror"
       },
       "layout": "IPY_MODEL_de1cc505eac94a2b82d44be050d1e1e9",
       "msg": "Failed to load model class 'TextModel' from module 'jupyter-js-widgets'",
       "placeholder": "Type something",
       "value": "Hello World"
      }
     },
     "45ce704de2dc47dba45a750f3620d364": {
      "model_module": "jupyter-js-widgets",
      "model_module_version": "2.0.0",
      "model_name": "LayoutModel",
      "state": {
       "_model_module": "jupyter-js-widgets",
       "_model_name": "LayoutModel",
       "_view_name": "ErrorWidgetView",
       "align_content": null,
       "align_items": null,
       "align_self": null,
       "border": null,
       "bottom": null,
       "display": null,
       "error": {
        "originalError": {
         "isTrusted": true
        },
        "requireModules": [
         "jupyter-js-widgets"
        ],
        "requireType": "scripterror"
       },
       "flex": null,
       "flex_flow": null,
       "height": null,
       "justify_content": null,
       "left": null,
       "margin": null,
       "max_height": null,
       "max_width": null,
       "min_height": null,
       "min_width": null,
       "msg": "Failed to load model class 'LayoutModel' from module 'jupyter-js-widgets'",
       "msg_throttle": 1,
       "order": null,
       "overflow": null,
       "overflow_x": null,
       "overflow_y": null,
       "padding": null,
       "right": null,
       "top": null,
       "visibility": null,
       "width": null
      }
     },
     "507cd9c5b41c4917bc875ce8201c4386": {
      "model_module": "jupyter-js-widgets",
      "model_module_version": "2.0.0",
      "model_name": "TextModel",
      "state": {
       "_model_module": "jupyter-js-widgets",
       "_model_name": "TextModel",
       "_view_name": "ErrorWidgetView",
       "description": "String:",
       "disabled": false,
       "error": {
        "originalError": {
         "isTrusted": true
        },
        "requireModules": [
         "jupyter-js-widgets"
        ],
        "requireType": "scripterror"
       },
       "layout": "IPY_MODEL_6fd399ad0ef343cda70b9667c6d0652d",
       "msg": "Failed to load model class 'TextModel' from module 'jupyter-js-widgets'",
       "msg_throttle": 1,
       "placeholder": "Type something",
       "value": "Hello World"
      }
     },
     "5183ea937a3a4663aa18db0f6e9a50c9": {
      "model_module": "jupyter-js-widgets",
      "model_module_version": "2.0.0",
      "model_name": "TextModel",
      "state": {
       "_view_name": "ErrorWidgetView",
       "description": "String:",
       "error": {
        "originalError": {
         "isTrusted": true
        },
        "requireModules": [
         "jupyter-js-widgets"
        ],
        "requireType": "scripterror"
       },
       "layout": "IPY_MODEL_298868e504b14fe28e299cbdda79496b",
       "msg": "Failed to load model class 'TextModel' from module 'jupyter-js-widgets'",
       "placeholder": "Type something",
       "value": "Hello World"
      }
     },
     "59ff71ed24cd4e68801952aecc8e9a9b": {
      "model_module": "jupyter-js-widgets",
      "model_module_version": "2.0.0",
      "model_name": "LayoutModel",
      "state": {
       "_model_module": "jupyter-js-widgets",
       "_model_name": "LayoutModel",
       "_view_name": "ErrorWidgetView",
       "align_content": null,
       "align_items": null,
       "align_self": null,
       "border": null,
       "bottom": null,
       "display": null,
       "error": {
        "originalError": {
         "isTrusted": true
        },
        "requireModules": [
         "jupyter-js-widgets"
        ],
        "requireType": "scripterror"
       },
       "flex": null,
       "flex_flow": null,
       "height": null,
       "justify_content": null,
       "left": null,
       "margin": null,
       "max_height": null,
       "max_width": null,
       "min_height": null,
       "min_width": null,
       "msg": "Failed to load model class 'LayoutModel' from module 'jupyter-js-widgets'",
       "msg_throttle": 1,
       "order": null,
       "overflow": null,
       "overflow_x": null,
       "overflow_y": null,
       "padding": null,
       "right": null,
       "top": null,
       "visibility": null,
       "width": null
      }
     },
     "6fd399ad0ef343cda70b9667c6d0652d": {
      "model_module": "jupyter-js-widgets",
      "model_module_version": "2.0.0",
      "model_name": "LayoutModel",
      "state": {
       "_model_module": "jupyter-js-widgets",
       "_model_name": "LayoutModel",
       "_view_name": "ErrorWidgetView",
       "align_content": null,
       "align_items": null,
       "align_self": null,
       "border": null,
       "bottom": null,
       "display": null,
       "error": {
        "originalError": {
         "isTrusted": true
        },
        "requireModules": [
         "jupyter-js-widgets"
        ],
        "requireType": "scripterror"
       },
       "flex": null,
       "flex_flow": null,
       "height": null,
       "justify_content": null,
       "left": null,
       "margin": null,
       "max_height": null,
       "max_width": null,
       "min_height": null,
       "min_width": null,
       "msg": "Failed to load model class 'LayoutModel' from module 'jupyter-js-widgets'",
       "msg_throttle": 1,
       "order": null,
       "overflow": null,
       "overflow_x": null,
       "overflow_y": null,
       "padding": null,
       "right": null,
       "top": null,
       "visibility": null,
       "width": null
      }
     },
     "7b0a51f7834a4569bed52f64467b2781": {
      "model_module": "jupyter-js-widgets",
      "model_module_version": "2.0.0",
      "model_name": "LayoutModel",
      "state": {
       "_model_module": "jupyter-js-widgets",
       "_model_name": "LayoutModel",
       "_view_name": "ErrorWidgetView",
       "align_content": null,
       "align_items": null,
       "align_self": null,
       "border": null,
       "bottom": null,
       "display": null,
       "error": {
        "originalError": {
         "isTrusted": true
        },
        "requireModules": [
         "jupyter-js-widgets"
        ],
        "requireType": "scripterror"
       },
       "flex": null,
       "flex_flow": null,
       "height": null,
       "justify_content": null,
       "left": null,
       "margin": null,
       "max_height": null,
       "max_width": null,
       "min_height": null,
       "min_width": null,
       "msg": "Failed to load model class 'LayoutModel' from module 'jupyter-js-widgets'",
       "msg_throttle": 1,
       "order": null,
       "overflow": null,
       "overflow_x": null,
       "overflow_y": null,
       "padding": null,
       "right": null,
       "top": null,
       "visibility": null,
       "width": null
      }
     },
     "953dd41317de4686b42bb0a9381140a3": {
      "model_module": "jupyter-js-widgets",
      "model_module_version": "2.0.0",
      "model_name": "LayoutModel",
      "state": {
       "_model_module": "jupyter-js-widgets",
       "_model_name": "LayoutModel",
       "_view_name": "ErrorWidgetView",
       "align_content": null,
       "align_items": null,
       "align_self": null,
       "border": null,
       "bottom": null,
       "display": null,
       "error": {
        "originalError": {
         "isTrusted": true
        },
        "requireModules": [
         "jupyter-js-widgets"
        ],
        "requireType": "scripterror"
       },
       "flex": null,
       "flex_flow": null,
       "height": null,
       "justify_content": null,
       "left": null,
       "margin": null,
       "max_height": null,
       "max_width": null,
       "min_height": null,
       "min_width": null,
       "msg": "Failed to load model class 'LayoutModel' from module 'jupyter-js-widgets'",
       "msg_throttle": 1,
       "order": null,
       "overflow": null,
       "overflow_x": null,
       "overflow_y": null,
       "padding": null,
       "right": null,
       "top": null,
       "visibility": null,
       "width": null
      }
     },
     "c3a5e40b7f4d4adeb012b8cbd61963eb": {
      "model_module": "jupyter-js-widgets",
      "model_module_version": "2.0.0",
      "model_name": "TextModel",
      "state": {
       "_model_module": "jupyter-js-widgets",
       "_model_name": "TextModel",
       "_view_name": "ErrorWidgetView",
       "description": "String:",
       "disabled": false,
       "error": {
        "originalError": {
         "isTrusted": true
        },
        "requireModules": [
         "jupyter-js-widgets"
        ],
        "requireType": "scripterror"
       },
       "layout": "IPY_MODEL_953dd41317de4686b42bb0a9381140a3",
       "msg": "Failed to load model class 'TextModel' from module 'jupyter-js-widgets'",
       "msg_throttle": 1,
       "placeholder": "Type something",
       "value": "Hello World"
      }
     },
     "ce69a86d6405400885c284649135e86e": {
      "model_module": "jupyter-js-widgets",
      "model_module_version": "2.0.0",
      "model_name": "TextModel",
      "state": {
       "_model_module": "jupyter-js-widgets",
       "_model_name": "TextModel",
       "_view_name": "ErrorWidgetView",
       "description": "String:",
       "disabled": false,
       "error": {
        "originalError": {
         "isTrusted": true
        },
        "requireModules": [
         "jupyter-js-widgets"
        ],
        "requireType": "scripterror"
       },
       "layout": "IPY_MODEL_45ce704de2dc47dba45a750f3620d364",
       "msg": "Failed to load model class 'TextModel' from module 'jupyter-js-widgets'",
       "msg_throttle": 1,
       "placeholder": "Type something",
       "value": "Hello World"
      }
     },
     "de1cc505eac94a2b82d44be050d1e1e9": {
      "model_module": "jupyter-js-widgets",
      "model_module_version": "2.0.0",
      "model_name": "LayoutModel",
      "state": {
       "_view_name": "ErrorWidgetView",
       "error": {
        "originalError": {
         "isTrusted": true
        },
        "requireModules": [
         "jupyter-js-widgets"
        ],
        "requireType": "scripterror"
       },
       "msg": "Failed to load model class 'LayoutModel' from module 'jupyter-js-widgets'"
      }
     },
     "f1d8883806e24797b69488f5ace7b3a1": {
      "model_module": "jupyter-js-widgets",
      "model_module_version": "2.0.0",
      "model_name": "TextModel",
      "state": {
       "_model_module": "jupyter-js-widgets",
       "_model_name": "TextModel",
       "_view_name": "ErrorWidgetView",
       "description": "String:",
       "disabled": false,
       "error": {
        "originalError": {
         "isTrusted": true
        },
        "requireModules": [
         "jupyter-js-widgets"
        ],
        "requireType": "scripterror"
       },
       "layout": "IPY_MODEL_15d554adb8a84f899d758b024b115673",
       "msg": "Failed to load model class 'TextModel' from module 'jupyter-js-widgets'",
       "msg_throttle": 1,
       "placeholder": "Type something",
       "value": "Hello World"
      }
     },
     "f306b369ab5045ef91176f936a7669f2": {
      "model_module": "jupyter-js-widgets",
      "model_module_version": "2.0.0",
      "model_name": "TextModel",
      "state": {
       "_model_module": "jupyter-js-widgets",
       "_model_name": "TextModel",
       "_view_name": "ErrorWidgetView",
       "description": "String:",
       "disabled": false,
       "error": {
        "originalError": {
         "isTrusted": true
        },
        "requireModules": [
         "jupyter-js-widgets"
        ],
        "requireType": "scripterror"
       },
       "layout": "IPY_MODEL_7b0a51f7834a4569bed52f64467b2781",
       "msg": "Failed to load model class 'TextModel' from module 'jupyter-js-widgets'",
       "msg_throttle": 1,
       "placeholder": "Type something",
       "value": "Hello World"
      }
     }
    },
    "version_major": 2,
    "version_minor": 0
   }
  }
 },
 "nbformat": 4,
 "nbformat_minor": 5
}
