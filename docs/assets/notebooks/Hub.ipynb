{
 "cells": [
  {
   "cell_type": "markdown",
   "id": "a6232bcb",
   "metadata": {},
   "source": [
    "# Hub\n",
    "\n",
    "Welcome to the hub! This notebook does two main things:\n",
    "\n",
    "- Automates the process of setting you up\n",
    "- Allows you to quickly navigate between notebooks\n",
    "\n",
    "You'll also be returning here after you complete each module to get the next one.\n",
    "\n",
    "### Quick Navigation\n",
    "\n",
    "Once you've unlocked the respective module, you can click on the text in any of the cells of the table below to be brought straight to the associated notebook.\n",
    "\n",
    "|Module A||Module B||Module C||Module D||\n",
    "|:-|:-|:-|:-|:-|:-|:-|:-|\n",
    "|[Lesson A1: Notebooks]()|[Problem Set A1]()|[Lesson B1: Functions]()|[Problem Set B1]()|[Lesson C1: Booleans]()|[Problem Set C1]()|[Lesson D1: Lists]()|[Problem Set D1]()|\n",
    "|[Lesson A2: Operators]()|[Problem Set A2]()|||[Lesson C2: Conditionals]()|[Problem Set C2]()|[Lesson D2: Iteration]()|[Problem Set D2]()|\n",
    "|[Lesson A3: Variables]()|[Problem Set A3]()|||||[Lesson D3: Methods]()|[Problem Set D3]()|\n",
    "|[Lesson A4: Statements]()|[Problem Set A4]()|||||||\n",
    "|[Test]()|[Additional Exercises]()|[Test]()|[Additional Exercises]()|[Test]()|[Additional Exercises]()|[Test]()|[Additional Exercises]()|\n",
    "\n",
    "### Automated setup\n",
    "\n",
    "If this is your first time using the notebook, make sure you see the word \"setup\" in the cell below, and then click the button to \"run all cells\". This should be on the bar at the top and look like two right-facing arrows, or the fast-forward button on a TV remote. This will automatically install everything you need to start working through these notebooks."
   ]
  },
  {
   "cell_type": "code",
   "execution_count": 13,
   "id": "11a87d94",
   "metadata": {
    "editable": true,
    "slideshow": {
     "slide_type": ""
    },
    "tags": []
   },
   "outputs": [],
   "source": [
    "password = \"setup\""
   ]
  },
  {
   "cell_type": "markdown",
   "id": "516a4098-b380-416d-9aaf-19c97ec03a40",
   "metadata": {},
   "source": [
    "If you've just completed a module test, take the password you got and assign it to `password` above (you should know what that means now!) Now when you run all cells, it should download the next module for you. If you get the password wrong, nothing will happen!\n",
    "\n",
    "- - -\n",
    "\n",
    "<br>\n",
    "<br>\n",
    "<br>\n",
    "<br>\n",
    "<br>\n",
    "<br>\n",
    "<br>\n",
    "<br>\n",
    "<br>\n",
    "<br>\n",
    "<br>\n",
    "<br>\n",
    "<br>\n",
    "<br>\n",
    "<br>\n",
    "<br>\n",
    "<br>\n",
    "<br>\n",
    "<br>\n",
    "<br>\n",
    "<br>\n",
    "<br>\n",
    "<br>\n",
    "<br>\n",
    "<br>\n",
    "<br>\n",
    "<br>\n",
    "<br>\n",
    "<br>\n",
    "<br>\n",
    "<br>\n",
    "<br>\n",
    "<br>\n",
    "<br>\n",
    "<br>\n",
    "<br>\n",
    "<br>\n",
    "<br>\n",
    "<br>\n",
    "<br>\n",
    "<br>\n",
    "<br>\n",
    "...here's the code that does the actual install. You can safely ignore it."
   ]
  },
  {
   "cell_type": "code",
   "execution_count": 12,
   "id": "18fec480-3018-4c5e-a1d0-d87971a67c52",
   "metadata": {},
   "outputs": [
    {
     "name": "stdout",
     "output_type": "stream",
     "text": [
      "--2025-08-12 21:05:37--  https://padril.github.io/geif/assets/zips/....zip\n",
      "Resolving padril.github.io (padril.github.io)... 185.199.109.153, 185.199.108.153, 185.199.110.153, ...\n",
      "Connecting to padril.github.io (padril.github.io)|185.199.109.153|:443... connected.\n",
      "HTTP request sent, awaiting response... 404 Not Found\n",
      "2025-08-12 21:05:37 ERROR 404: Not Found.\n",
      "\n",
      "Archive:  module.zip\n",
      "  End-of-central-directory signature not found.  Either this file is not\n",
      "  a zipfile, or it constitutes one disk of a multi-part archive.  In the\n",
      "  latter case the central directory and zipfile comment will be found on\n",
      "  the last disk(s) of this archive.\n",
      "unzip:  cannot find zipfile directory in one of module.zip or\n",
      "        module.zip.zip, and cannot find module.zip.ZIP, period.\n"
     ]
    }
   ],
   "source": [
    "if password == \"setup\":\n",
    "    !pip install -q ipynbname\n",
    "    !pip install -q git+https://github.com/michaelong7/autograder\n",
    "link = \"https://padril.github.io/geif/assets/zips/\" + password + \".zip\"\n",
    "!wget $link -O module.zip\n",
    "!unzip module.zip\n",
    "!rm module.zip"
   ]
  }
 ],
 "metadata": {
  "kernelspec": {
   "display_name": "Python 3 (ipykernel)",
   "language": "python",
   "name": "python3"
  },
  "language_info": {
   "codemirror_mode": {
    "name": "ipython",
    "version": 3
   },
   "file_extension": ".py",
   "mimetype": "text/x-python",
   "name": "python",
   "nbconvert_exporter": "python",
   "pygments_lexer": "ipython3",
   "version": "3.13.1"
  },
  "widgets": {
   "application/vnd.jupyter.widget-state+json": {
    "state": {
     "15d554adb8a84f899d758b024b115673": {
      "model_module": "jupyter-js-widgets",
      "model_module_version": "2.0.0",
      "model_name": "LayoutModel",
      "state": {
       "_model_module": "jupyter-js-widgets",
       "_model_name": "LayoutModel",
       "_view_name": "ErrorWidgetView",
       "align_content": null,
       "align_items": null,
       "align_self": null,
       "border": null,
       "bottom": null,
       "display": null,
       "error": {
        "originalError": {
         "isTrusted": true
        },
        "requireModules": [
         "jupyter-js-widgets"
        ],
        "requireType": "scripterror"
       },
       "flex": null,
       "flex_flow": null,
       "height": null,
       "justify_content": null,
       "left": null,
       "margin": null,
       "max_height": null,
       "max_width": null,
       "min_height": null,
       "min_width": null,
       "msg": "Failed to load model class 'LayoutModel' from module 'jupyter-js-widgets'",
       "msg_throttle": 1,
       "order": null,
       "overflow": null,
       "overflow_x": null,
       "overflow_y": null,
       "padding": null,
       "right": null,
       "top": null,
       "visibility": null,
       "width": null
      }
     },
     "298868e504b14fe28e299cbdda79496b": {
      "model_module": "jupyter-js-widgets",
      "model_module_version": "2.0.0",
      "model_name": "LayoutModel",
      "state": {
       "_view_name": "ErrorWidgetView",
       "error": {
        "originalError": {
         "isTrusted": true
        },
        "requireModules": [
         "jupyter-js-widgets"
        ],
        "requireType": "scripterror"
       },
       "msg": "Failed to load model class 'LayoutModel' from module 'jupyter-js-widgets'"
      }
     },
     "408efbad4e7444688f18aebf8cffe2b4": {
      "model_module": "jupyter-js-widgets",
      "model_module_version": "2.0.0",
      "model_name": "TextModel",
      "state": {
       "_model_module": "jupyter-js-widgets",
       "_model_name": "TextModel",
       "_view_name": "ErrorWidgetView",
       "description": "String:",
       "disabled": false,
       "error": {
        "originalError": {
         "isTrusted": true
        },
        "requireModules": [
         "jupyter-js-widgets"
        ],
        "requireType": "scripterror"
       },
       "layout": "IPY_MODEL_59ff71ed24cd4e68801952aecc8e9a9b",
       "msg": "Failed to load model class 'TextModel' from module 'jupyter-js-widgets'",
       "msg_throttle": 1,
       "placeholder": "Type something",
       "value": "Hello World"
      }
     },
     "43e104a565fc403f938ef7eba8163ba5": {
      "model_module": "jupyter-js-widgets",
      "model_module_version": "2.0.0",
      "model_name": "TextModel",
      "state": {
       "_view_name": "ErrorWidgetView",
       "description": "String:",
       "error": {
        "originalError": {
         "isTrusted": true
        },
        "requireModules": [
         "jupyter-js-widgets"
        ],
        "requireType": "scripterror"
       },
       "layout": "IPY_MODEL_de1cc505eac94a2b82d44be050d1e1e9",
       "msg": "Failed to load model class 'TextModel' from module 'jupyter-js-widgets'",
       "placeholder": "Type something",
       "value": "Hello World"
      }
     },
     "45ce704de2dc47dba45a750f3620d364": {
      "model_module": "jupyter-js-widgets",
      "model_module_version": "2.0.0",
      "model_name": "LayoutModel",
      "state": {
       "_model_module": "jupyter-js-widgets",
       "_model_name": "LayoutModel",
       "_view_name": "ErrorWidgetView",
       "align_content": null,
       "align_items": null,
       "align_self": null,
       "border": null,
       "bottom": null,
       "display": null,
       "error": {
        "originalError": {
         "isTrusted": true
        },
        "requireModules": [
         "jupyter-js-widgets"
        ],
        "requireType": "scripterror"
       },
       "flex": null,
       "flex_flow": null,
       "height": null,
       "justify_content": null,
       "left": null,
       "margin": null,
       "max_height": null,
       "max_width": null,
       "min_height": null,
       "min_width": null,
       "msg": "Failed to load model class 'LayoutModel' from module 'jupyter-js-widgets'",
       "msg_throttle": 1,
       "order": null,
       "overflow": null,
       "overflow_x": null,
       "overflow_y": null,
       "padding": null,
       "right": null,
       "top": null,
       "visibility": null,
       "width": null
      }
     },
     "507cd9c5b41c4917bc875ce8201c4386": {
      "model_module": "jupyter-js-widgets",
      "model_module_version": "2.0.0",
      "model_name": "TextModel",
      "state": {
       "_model_module": "jupyter-js-widgets",
       "_model_name": "TextModel",
       "_view_name": "ErrorWidgetView",
       "description": "String:",
       "disabled": false,
       "error": {
        "originalError": {
         "isTrusted": true
        },
        "requireModules": [
         "jupyter-js-widgets"
        ],
        "requireType": "scripterror"
       },
       "layout": "IPY_MODEL_6fd399ad0ef343cda70b9667c6d0652d",
       "msg": "Failed to load model class 'TextModel' from module 'jupyter-js-widgets'",
       "msg_throttle": 1,
       "placeholder": "Type something",
       "value": "Hello World"
      }
     },
     "5183ea937a3a4663aa18db0f6e9a50c9": {
      "model_module": "jupyter-js-widgets",
      "model_module_version": "2.0.0",
      "model_name": "TextModel",
      "state": {
       "_view_name": "ErrorWidgetView",
       "description": "String:",
       "error": {
        "originalError": {
         "isTrusted": true
        },
        "requireModules": [
         "jupyter-js-widgets"
        ],
        "requireType": "scripterror"
       },
       "layout": "IPY_MODEL_298868e504b14fe28e299cbdda79496b",
       "msg": "Failed to load model class 'TextModel' from module 'jupyter-js-widgets'",
       "placeholder": "Type something",
       "value": "Hello World"
      }
     },
     "59ff71ed24cd4e68801952aecc8e9a9b": {
      "model_module": "jupyter-js-widgets",
      "model_module_version": "2.0.0",
      "model_name": "LayoutModel",
      "state": {
       "_model_module": "jupyter-js-widgets",
       "_model_name": "LayoutModel",
       "_view_name": "ErrorWidgetView",
       "align_content": null,
       "align_items": null,
       "align_self": null,
       "border": null,
       "bottom": null,
       "display": null,
       "error": {
        "originalError": {
         "isTrusted": true
        },
        "requireModules": [
         "jupyter-js-widgets"
        ],
        "requireType": "scripterror"
       },
       "flex": null,
       "flex_flow": null,
       "height": null,
       "justify_content": null,
       "left": null,
       "margin": null,
       "max_height": null,
       "max_width": null,
       "min_height": null,
       "min_width": null,
       "msg": "Failed to load model class 'LayoutModel' from module 'jupyter-js-widgets'",
       "msg_throttle": 1,
       "order": null,
       "overflow": null,
       "overflow_x": null,
       "overflow_y": null,
       "padding": null,
       "right": null,
       "top": null,
       "visibility": null,
       "width": null
      }
     },
     "6fd399ad0ef343cda70b9667c6d0652d": {
      "model_module": "jupyter-js-widgets",
      "model_module_version": "2.0.0",
      "model_name": "LayoutModel",
      "state": {
       "_model_module": "jupyter-js-widgets",
       "_model_name": "LayoutModel",
       "_view_name": "ErrorWidgetView",
       "align_content": null,
       "align_items": null,
       "align_self": null,
       "border": null,
       "bottom": null,
       "display": null,
       "error": {
        "originalError": {
         "isTrusted": true
        },
        "requireModules": [
         "jupyter-js-widgets"
        ],
        "requireType": "scripterror"
       },
       "flex": null,
       "flex_flow": null,
       "height": null,
       "justify_content": null,
       "left": null,
       "margin": null,
       "max_height": null,
       "max_width": null,
       "min_height": null,
       "min_width": null,
       "msg": "Failed to load model class 'LayoutModel' from module 'jupyter-js-widgets'",
       "msg_throttle": 1,
       "order": null,
       "overflow": null,
       "overflow_x": null,
       "overflow_y": null,
       "padding": null,
       "right": null,
       "top": null,
       "visibility": null,
       "width": null
      }
     },
     "7b0a51f7834a4569bed52f64467b2781": {
      "model_module": "jupyter-js-widgets",
      "model_module_version": "2.0.0",
      "model_name": "LayoutModel",
      "state": {
       "_model_module": "jupyter-js-widgets",
       "_model_name": "LayoutModel",
       "_view_name": "ErrorWidgetView",
       "align_content": null,
       "align_items": null,
       "align_self": null,
       "border": null,
       "bottom": null,
       "display": null,
       "error": {
        "originalError": {
         "isTrusted": true
        },
        "requireModules": [
         "jupyter-js-widgets"
        ],
        "requireType": "scripterror"
       },
       "flex": null,
       "flex_flow": null,
       "height": null,
       "justify_content": null,
       "left": null,
       "margin": null,
       "max_height": null,
       "max_width": null,
       "min_height": null,
       "min_width": null,
       "msg": "Failed to load model class 'LayoutModel' from module 'jupyter-js-widgets'",
       "msg_throttle": 1,
       "order": null,
       "overflow": null,
       "overflow_x": null,
       "overflow_y": null,
       "padding": null,
       "right": null,
       "top": null,
       "visibility": null,
       "width": null
      }
     },
     "953dd41317de4686b42bb0a9381140a3": {
      "model_module": "jupyter-js-widgets",
      "model_module_version": "2.0.0",
      "model_name": "LayoutModel",
      "state": {
       "_model_module": "jupyter-js-widgets",
       "_model_name": "LayoutModel",
       "_view_name": "ErrorWidgetView",
       "align_content": null,
       "align_items": null,
       "align_self": null,
       "border": null,
       "bottom": null,
       "display": null,
       "error": {
        "originalError": {
         "isTrusted": true
        },
        "requireModules": [
         "jupyter-js-widgets"
        ],
        "requireType": "scripterror"
       },
       "flex": null,
       "flex_flow": null,
       "height": null,
       "justify_content": null,
       "left": null,
       "margin": null,
       "max_height": null,
       "max_width": null,
       "min_height": null,
       "min_width": null,
       "msg": "Failed to load model class 'LayoutModel' from module 'jupyter-js-widgets'",
       "msg_throttle": 1,
       "order": null,
       "overflow": null,
       "overflow_x": null,
       "overflow_y": null,
       "padding": null,
       "right": null,
       "top": null,
       "visibility": null,
       "width": null
      }
     },
     "c3a5e40b7f4d4adeb012b8cbd61963eb": {
      "model_module": "jupyter-js-widgets",
      "model_module_version": "2.0.0",
      "model_name": "TextModel",
      "state": {
       "_model_module": "jupyter-js-widgets",
       "_model_name": "TextModel",
       "_view_name": "ErrorWidgetView",
       "description": "String:",
       "disabled": false,
       "error": {
        "originalError": {
         "isTrusted": true
        },
        "requireModules": [
         "jupyter-js-widgets"
        ],
        "requireType": "scripterror"
       },
       "layout": "IPY_MODEL_953dd41317de4686b42bb0a9381140a3",
       "msg": "Failed to load model class 'TextModel' from module 'jupyter-js-widgets'",
       "msg_throttle": 1,
       "placeholder": "Type something",
       "value": "Hello World"
      }
     },
     "ce69a86d6405400885c284649135e86e": {
      "model_module": "jupyter-js-widgets",
      "model_module_version": "2.0.0",
      "model_name": "TextModel",
      "state": {
       "_model_module": "jupyter-js-widgets",
       "_model_name": "TextModel",
       "_view_name": "ErrorWidgetView",
       "description": "String:",
       "disabled": false,
       "error": {
        "originalError": {
         "isTrusted": true
        },
        "requireModules": [
         "jupyter-js-widgets"
        ],
        "requireType": "scripterror"
       },
       "layout": "IPY_MODEL_45ce704de2dc47dba45a750f3620d364",
       "msg": "Failed to load model class 'TextModel' from module 'jupyter-js-widgets'",
       "msg_throttle": 1,
       "placeholder": "Type something",
       "value": "Hello World"
      }
     },
     "de1cc505eac94a2b82d44be050d1e1e9": {
      "model_module": "jupyter-js-widgets",
      "model_module_version": "2.0.0",
      "model_name": "LayoutModel",
      "state": {
       "_view_name": "ErrorWidgetView",
       "error": {
        "originalError": {
         "isTrusted": true
        },
        "requireModules": [
         "jupyter-js-widgets"
        ],
        "requireType": "scripterror"
       },
       "msg": "Failed to load model class 'LayoutModel' from module 'jupyter-js-widgets'"
      }
     },
     "f1d8883806e24797b69488f5ace7b3a1": {
      "model_module": "jupyter-js-widgets",
      "model_module_version": "2.0.0",
      "model_name": "TextModel",
      "state": {
       "_model_module": "jupyter-js-widgets",
       "_model_name": "TextModel",
       "_view_name": "ErrorWidgetView",
       "description": "String:",
       "disabled": false,
       "error": {
        "originalError": {
         "isTrusted": true
        },
        "requireModules": [
         "jupyter-js-widgets"
        ],
        "requireType": "scripterror"
       },
       "layout": "IPY_MODEL_15d554adb8a84f899d758b024b115673",
       "msg": "Failed to load model class 'TextModel' from module 'jupyter-js-widgets'",
       "msg_throttle": 1,
       "placeholder": "Type something",
       "value": "Hello World"
      }
     },
     "f306b369ab5045ef91176f936a7669f2": {
      "model_module": "jupyter-js-widgets",
      "model_module_version": "2.0.0",
      "model_name": "TextModel",
      "state": {
       "_model_module": "jupyter-js-widgets",
       "_model_name": "TextModel",
       "_view_name": "ErrorWidgetView",
       "description": "String:",
       "disabled": false,
       "error": {
        "originalError": {
         "isTrusted": true
        },
        "requireModules": [
         "jupyter-js-widgets"
        ],
        "requireType": "scripterror"
       },
       "layout": "IPY_MODEL_7b0a51f7834a4569bed52f64467b2781",
       "msg": "Failed to load model class 'TextModel' from module 'jupyter-js-widgets'",
       "msg_throttle": 1,
       "placeholder": "Type something",
       "value": "Hello World"
      }
     }
    },
    "version_major": 2,
    "version_minor": 0
   }
  }
 },
 "nbformat": 4,
 "nbformat_minor": 5
}
