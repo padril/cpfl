{
 "cells": [
  {
   "cell_type": "markdown",
   "id": "c89047d6",
   "metadata": {
    "id": "c89047d6",
    "tags": [
     "remove"
    ]
   },
   "source": [
    "# Block B, lesson 1: Boolean values and logical operators\n",
    "\n",
    "Recall the basic instructions that make up a computer program:\n",
    "\n",
    "* input: Get data from the keyboard, a file, the network, or some other device.\n",
    "* output: Display data on the screen, save it in a file, send it over the network, etc.\n",
    "* math: Perform basic mathematical operations like addition and multiplication.\n",
    "* conditional execution: Check for certain conditions and run the appropriate code.\n",
    "* repetition: Perform some action repeatedly, usually with some variation.\n",
    "\n",
    "In Block A we considered:\n",
    "* arithmetic statements\n",
    "* values\n",
    "* value types\n",
    "\n",
    "In Block D we will look at repetition. This block is concerned with: **conditional execution**: execute code **if** certain conditions are met.\n",
    "\n",
    "#### Learning outcome:\n",
    "* you will be able to write expressions and statements involving boolean values and logical operators\n",
    "\n",
    "#### Practice:\n",
    "* after finishing this notebook, practice with the exercises labeled `B1`.\n"
   ]
  },
  {
   "cell_type": "markdown",
   "id": "e84aeda9",
   "metadata": {
    "id": "e84aeda9",
    "tags": [
     "remove"
    ]
   },
   "source": [
    "### B1.1 The `Bool` type and the boolean values `True` and `False`\n",
    "\n",
    "Python has another basic value type that we haven't explored yet, aside from strings, integers and floating point numbers, and that's the **Boolean value** type. There are only two boolean values: `True` and `False`, and they're useful when we're considering the truth of statements. Let's explore these types first:"
   ]
  },
  {
   "cell_type": "code",
   "execution_count": null,
   "id": "c7ee9785",
   "metadata": {
    "id": "c7ee9785",
    "tags": [
     "remove"
    ]
   },
   "outputs": [],
   "source": [
    "False"
   ]
  },
  {
   "cell_type": "code",
   "execution_count": null,
   "id": "454b81ac",
   "metadata": {
    "id": "454b81ac",
    "tags": [
     "remove"
    ]
   },
   "outputs": [],
   "source": [
    "True"
   ]
  },
  {
   "cell_type": "code",
   "execution_count": null,
   "id": "bb90c602",
   "metadata": {
    "id": "bb90c602",
    "tags": [
     "remove"
    ]
   },
   "outputs": [],
   "source": [
    "type(True)"
   ]
  },
  {
   "cell_type": "markdown",
   "id": "2c47491e",
   "metadata": {
    "id": "2c47491e",
    "tags": [
     "remove"
    ]
   },
   "source": [
    "### B1.2 Boolean expressions (TP 5.2)\n",
    "\n",
    "Boolean values primarily show up as the output of **boolean expressions**. A boolean expression is an expression that is either true or false. The following examples use the operator `==`, which compares two values and produces `True` if they are equal and `False` otherwise:\n",
    "\n",
    "```python\n",
    "5 == 5\n",
    "```\n",
    "`True`\n",
    "\n",
    "```python\n",
    "5 == 6\n",
    "```\n",
    "False"
   ]
  },
  {
   "cell_type": "markdown",
   "id": "0ace6c8f",
   "metadata": {
    "id": "0ace6c8f",
    "tags": [
     "remove"
    ]
   },
   "source": [
    "The `==` operator is one of the relational operators; the others are:\n",
    "\n",
    "*      `x != y`               # x is not equal to y;\n",
    "*      `x > y`                # x is greater than y;\n",
    "*      `x < y`                # x is less than y;\n",
    "*      `x >= y`               # x is greater than or equal to y;\n",
    "*      `x <= y`               # x is less than or equal to y;\n",
    "\n",
    "Although these operations are probably familiar to you, the Python symbols are different from the corresponding mathematical symbols: $\\neq$, $>$, $<$, $\\geq$, $\\leq$."
   ]
  },
  {
   "cell_type": "markdown",
   "id": "8f2bb6a2",
   "metadata": {
    "id": "8f2bb6a2",
    "tags": [
     "remove"
    ]
   },
   "source": [
    "A **common error** is to use a single equal sign (=) instead of a double equal sign (==). Remember that = is the **assignment operator** and == is a **boolean relational operator** evaluating identity."
   ]
  },
  {
   "cell_type": "markdown",
   "id": "5a0d48ce",
   "metadata": {
    "id": "5a0d48ce",
    "tags": [
     "remove"
    ]
   },
   "source": [
    "### B1.3 Logical operators (TP 5.3)\n",
    "\n",
    "There are three logical operators: `and`, `or`, and `not`. The semantics (meaning) of these operators is similar to their meaning in English (in fact, to first-order logic if you're familiar with that). For example, \n",
    "\n",
    "```python \n",
    "x > 0 and x < 10\n",
    "```\n",
    "\n",
    "is `True` if and only if `x` is greater than 0 and less than 10.\n",
    "\n",
    "```python\n",
    "n%2 == 0 or n%3 == 0\n",
    "```\n",
    "is `True` if either or both of the conditions is `True`, that is, if the number is divisible by 2 or 3.\n",
    "\n",
    "Finally, the `not` operator negates a boolean expression, so \n",
    "\n",
    "```python\n",
    "not (x > y)\n",
    "```\n",
    "is `True` if `x > y` is `False`, that is, if `x` is less than or equal to `y`."
   ]
  },
  {
   "cell_type": "markdown",
   "id": "53cbb46b",
   "metadata": {
    "id": "53cbb46b",
    "tags": [
     "remove"
    ]
   },
   "source": [
    "### B1.4 Combining operators: using parentheses!\n",
    "\n",
    "Just like with arithmetical expressions, boolean expressions have an order of precedence as well. Just like with arithmetical expressions, it's better to use parentheses to identify the order of precedence.\n",
    "\n",
    "Let's look at the expression below. It has two interpretations, which lead to different outcomes. Consider them and then analyze how the two interpretations correspond to a different parenthesis assignment. Then, run the code to see which one Python chooses."
   ]
  },
  {
   "cell_type": "code",
   "execution_count": null,
   "id": "03f6d2bb",
   "metadata": {
    "id": "03f6d2bb",
    "tags": [
     "remove"
    ]
   },
   "outputs": [],
   "source": [
    "x = False\n",
    "y = False\n",
    "z = True\n",
    "x and y or z"
   ]
  },
  {
   "cell_type": "markdown",
   "id": "5cabf9b7",
   "metadata": {},
   "source": [
    "### Homework\n",
    "\n",
    "#### Question 1\n",
    "\n",
    "What should the value of `q1` be in the following expression if the output of the expression is `True`? Assign this value to `q1`. \n",
    "\n",
    "```Python\n",
    "q1 == 'hello'\n",
    "```\n",
    "\n",
    "#### Question 2\n",
    "\n",
    "What could the value of `q2` be in the following expression if the output of the expression is `False`? Assign this value to `q2`. \n",
    "\n",
    "```Python\n",
    "q2 < 10\n",
    "```\n",
    "\n",
    "#### Question 3\n",
    "\n",
    "What does the following expression evaluate to? Assign your answer as a boolean value to `q3`.\n",
    "\n",
    "```\n",
    "23 < 23.4\n",
    "```\n",
    "\n",
    "#### Question 4\n",
    "\n",
    "What does the following expression evaluate to? Assign your answer to `q4`.\n",
    "\n",
    "```\n",
    "9  != '9'\n",
    "```\n",
    "\n",
    "#### Question 5\n",
    "\n",
    "Consider the following expression and assign a value to `q5` so that the output becomes `False`.\n",
    "\n",
    "```Python\n",
    "q5 > 0 and q5 < 20\n",
    "```\n",
    "\n",
    "\n",
    "#### Question 6\n",
    "\n",
    "Consider the following expression and assign a value to `q6` so that the output becomes `False`.\n",
    "\n",
    "```Python\n",
    "not q6 < 20\n",
    "```\n"
   ]
  },
  {
   "cell_type": "code",
   "execution_count": 1,
   "id": "8e802f3a",
   "metadata": {},
   "outputs": [],
   "source": [
    "q1 = ..."
   ]
  }
 ],
 "metadata": {
  "celltoolbar": "Tags",
  "colab": {
   "provenance": []
  },
  "kernelspec": {
   "display_name": "Python 3 (ipykernel)",
   "language": "python",
   "name": "python3"
  },
  "language_info": {
   "codemirror_mode": {
    "name": "ipython",
    "version": 3
   },
   "file_extension": ".py",
   "mimetype": "text/x-python",
   "name": "python",
   "nbconvert_exporter": "python",
   "pygments_lexer": "ipython3",
   "version": "3.11.2"
  }
 },
 "nbformat": 4,
 "nbformat_minor": 5
}
