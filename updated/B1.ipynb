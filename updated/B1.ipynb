{
 "cells": [
  {
   "cell_type": "markdown",
   "id": "7758d83b",
   "metadata": {
    "id": "7758d83b"
   },
   "source": [
    "# Block B, lesson 1: Functions, calls and declarations\n",
    "\n",
    "### Learning outcome\n",
    "* after this lesson, you will be able to describe what a function is\n",
    "* you will also be able to write and call functions in Python\n",
    "\n",
    "### Practice\n",
    "* you can practice with the B1 exercises after having worked your way through this lesson, but I would recommend going through all of block B before practicing."
   ]
  },
  {
   "cell_type": "markdown",
   "id": "8d8761a7",
   "metadata": {
    "id": "8d8761a7"
   },
   "source": [
    "### B1.1 Basics of functions"
   ]
  },
  {
   "cell_type": "markdown",
   "id": "8203bf85",
   "metadata": {
    "id": "8203bf85"
   },
   "source": [
    "### What are they? (TP 3.0)\n",
    "In the context of programming, a function is a **named sequence of statements that performs a computation**. When you define a function, you specify the name (as a header) and the sequence of statements (as the body). Later, you can **“call” the function by name**."
   ]
  },
  {
   "cell_type": "markdown",
   "id": "23b10f61",
   "metadata": {
    "id": "23b10f61"
   },
   "source": [
    "### Why functions? (TP 3.11)\n",
    "\n",
    "It may not be clear why it is worth the trouble to divide a program into functions. There are several reasons:\n",
    "\n",
    "* Creating a new function gives you an opportunity to name a group of statements, which makes your program easier to read and debug.\n",
    "* Functions can make a program smaller by eliminating repetitive code. Later, if you make a change, you only have to make it in one place.\n",
    "* Dividing a long program into functions allows you to debug the parts one at a time and then assemble them into a working whole.\n",
    "* Well-designed functions are often useful for many programs. Once you write and debug one, you can reuse it."
   ]
  },
  {
   "cell_type": "markdown",
   "id": "6fb6e1b5",
   "metadata": {
    "id": "6fb6e1b5"
   },
   "source": [
    "### B1.3 Adding new functions (TP 3.4)\n",
    "\n",
    "So far, we have been using the functions that come with Python, but it is also possible to **add new functions**. A **function definition** specifies the name of a new function and the sequence of statements that run when the function is called.\n",
    "\n",
    "Here is an example:\n",
    "\n",
    "```python\n",
    "def split_bill(price, n_people, tip_percent):\n",
    "    price_with_tip = price * (1 + tip_percent)\n",
    "    price_per_person = price_with_tip / n_people\n",
    "    return price_per_person\n",
    "```\n",
    "\n",
    "`def` is a keyword that indicates that what follows it is a function definition. The **name** of the function is `split_bill`. The rules for function names are the same as for variable names: letters, numbers and underscore are legal, but the first character can’t be a number. You can’t use a keyword as the name of a function, and you should avoid having a variable and a function with the same name.\n",
    "\n",
    "The parentheses after the name indicate this function's **arguments**. In this case, three variables `price`, `n_people`, and `tip_percent` are created every time someone uses this function, with the values given **in order** by the user. You'll learn more about arguments in the next section.\n",
    "\n",
    "The first line of the function definition is called the **header**; the rest is called the **body**. The header has to **end with a colon** and the body has to be **indented** with four spaces. The body can contain any number of statements.\n",
    "\n",
    "> say what a return statement is"
   ]
  },
  {
   "cell_type": "markdown",
   "id": "c5952c33",
   "metadata": {
    "id": "c5952c33"
   },
   "source": [
    "### B1.4 Using your self-declared functions (TP 3.5)\n",
    "\n",
    "Defining a function creates a **function object**, which has type function:\n",
    "\n",
    "```python\n",
    "print(split_bill)\n",
    "```\n",
    "`<function split_bill at 0xb7e99e9c>`\n",
    "\n",
    "```python\n",
    "type(print_lyrics)\n",
    "```\n",
    "`<class 'function'>`\n",
    "\n",
    "The syntax for **calling the new function** is the same as for built-in functions, namely by using the name of the function, followed by round brackets, with zero or more arguments (depending on what the function 'demands' -- `split_bill` demans 3 arguments; `type` demainds 1 argument:\n",
    "\n",
    "```python\n",
    "print(split_bill(50.66, 3, 0.20))\n",
    "```\n",
    "`\n",
    "20.264\n",
    "`\n",
    "\n",
    "Note that order matters.\n",
    "\n",
    "```python\n",
    "print(split_bill(50.66, 0.20, 3))\n",
    "```\n",
    "\n",
    "`\n",
    "1013.1999999999999\n",
    "`"
   ]
  }
 ],
 "metadata": {
  "colab": {
   "provenance": []
  },
  "kernelspec": {
   "display_name": "Python 3 (ipykernel)",
   "language": "python",
   "name": "python3"
  },
  "language_info": {
   "codemirror_mode": {
    "name": "ipython",
    "version": 3
   },
   "file_extension": ".py",
   "mimetype": "text/x-python",
   "name": "python",
   "nbconvert_exporter": "python",
   "pygments_lexer": "ipython3",
   "version": "3.11.2"
  }
 },
 "nbformat": 4,
 "nbformat_minor": 5
}
