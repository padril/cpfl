{
 "cells": [
  {
   "cell_type": "markdown",
   "id": "b9001ae8",
   "metadata": {},
   "source": [
    "# Installer Script\n",
    "\n",
    "> Description of what this script does\n",
    "\n",
    "The actual logic will be something like\n",
    "\n",
    "```python\n",
    "password = \"foo\"\n",
    "github = \"https://\"\n",
    "link = hash(password)\n",
    "\n",
    "```"
   ]
  },
  {
   "cell_type": "code",
   "execution_count": null,
   "id": "c6d90493",
   "metadata": {},
   "outputs": [],
   "source": [
    "password = \"foo\""
   ]
  },
  {
   "cell_type": "code",
   "execution_count": 1,
   "id": "caad8c66",
   "metadata": {},
   "outputs": [],
   "source": [
    "# !pip install whatever-michael-makes"
   ]
  },
  {
   "cell_type": "code",
   "execution_count": null,
   "id": "1f89d42c",
   "metadata": {},
   "outputs": [],
   "source": []
  }
 ],
 "metadata": {
  "kernelspec": {
   "display_name": "Python 3 (ipykernel)",
   "language": "python",
   "name": "python3"
  },
  "language_info": {
   "codemirror_mode": {
    "name": "ipython",
    "version": 3
   },
   "file_extension": ".py",
   "mimetype": "text/x-python",
   "name": "python",
   "nbconvert_exporter": "python",
   "pygments_lexer": "ipython3",
   "version": "3.11.2"
  }
 },
 "nbformat": 4,
 "nbformat_minor": 5
}
