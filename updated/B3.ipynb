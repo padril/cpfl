{
 "cells": [
  {
   "cell_type": "markdown",
   "id": "1e93b57b-d8c8-43a2-8aa2-36f78033e66b",
   "metadata": {},
   "source": [
    "# Block B, lesson 3\n",
    "\n",
    "### Learning outcomes\n",
    "* after this lesson, you will be able to determine if a function is fruitful or void\n",
    "* you will be able to write docstrings documenting functions\n",
    "\n",
    "### Practice\n",
    "* the exercises in B3 go with this lesson."
   ]
  },
  {
   "cell_type": "markdown",
   "id": "90b2c179",
   "metadata": {
    "id": "90b2c179"
   },
   "source": [
    "### B3.1 Fruitful and void functions (TP 3.10)\n",
    "\n",
    "Some of the functions we have used, such as the `time` and `type` functions, return values as results; for lack of a better name, we call them **fruitful functions**. Other functions, like `print`, perform an action but don’t return a value. They are called **void functions**."
   ]
  },
  {
   "cell_type": "markdown",
   "id": "c6e86673",
   "metadata": {
    "id": "c6e86673",
    "jp-MarkdownHeadingCollapsed": true
   },
   "source": [
    "### B3.2 Void functions\n",
    "\n",
    "When you call a fruitful function, you almost always want to do something with the result; for example, you might assign it to a variable (like we did with GMT) or use it as part of an expression. In a script, if you call a fruitful function all by itself, the return value is lost forever!\n",
    "\n",
    "Void functions might display something on the screen or have some other effect, but they don’t have a return value. If you assign the result to a variable, you get a special value called None.\n",
    "\n",
    "```python\n",
    "result = print('Bing Bing')\n",
    "```\n",
    "`Bing Bing`\n",
    "```python\n",
    "print(result)\n",
    "```\n",
    "`None`\n",
    "\n",
    "The value None is not the same as the string 'None'. It is a special value that has its own type:\n",
    "\n",
    "```python\n",
    "type(None)\n",
    "```\n",
    "`<class 'NoneType'>`"
   ]
  },
  {
   "cell_type": "markdown",
   "id": "9ec01fe8",
   "metadata": {
    "id": "9ec01fe8"
   },
   "source": [
    "### B3.3 Creating fruitful functions: return statements\n",
    "\n",
    "Let's see how we create our own fruitful functions. The first example is the `area` function, which returns the area of rectangle given the length and the width\n",
    "\n",
    "```python\n",
    "def area(length, width):\n",
    "    a = length * width\n",
    "    return a\n",
    "```\n",
    "\n",
    "In a fruitful function the `return` statement includes an expression. This statement means: **Stop executing the expressions and statements in the function immediately and _return_ to wherever the function is called** and **use whatever expression follows `return` as the value to which the function evaluates in the place where the function is called.**\n",
    "\n",
    "Let's try writing a `copy_twice` function, that returns the string of the input argument concatenated to itself. (Note! What happens with integer or float arguments?)"
   ]
  },
  {
   "cell_type": "markdown",
   "id": "d599fe53",
   "metadata": {
    "id": "d599fe53"
   },
   "source": [
    "### B3.4 Complex return statements, dead code\n",
    "\n",
    "Sometimes it is useful to have multiple return statements, one in each branch of a conditional:\n",
    "\n",
    "```python\n",
    "def absolute_value(x):\n",
    "    if x < 0:\n",
    "        return -x\n",
    "    else:\n",
    "        return x\n",
    "```\n",
    "Since these `return` statements are in an alternative conditional, only one runs. \n",
    "\n",
    "As soon as a return statement runs, the function terminates without executing any subsequent statements. Code that appears after a return statement, or any other place the flow of execution can never reach, is called dead code. The `print` statement below, for instance, is dead code -- it is never reached.\n",
    "\n",
    "```python\n",
    "def absolute_value(x):\n",
    "    if x < 0:\n",
    "        return -x\n",
    "    else:\n",
    "        return x\n",
    "    print('The Walking Dead Code')\n",
    "```\n",
    "\n",
    "\n",
    "In a fruitful function, it is a good idea to ensure that every possible path through the program hits a return statement. For example:\n",
    "\n",
    "```python\n",
    "def absolute_value(x):\n",
    "    if x < 0:\n",
    "        return -x\n",
    "    if x > 0:\n",
    "        return x\n",
    "```\n",
    "\n",
    "This function is incorrect because if x happens to be 0, neither condition is true, and the function ends without hitting a return statement. If the flow of execution gets to the end of a function, the return value is None, which is not the absolute value of 0."
   ]
  },
  {
   "cell_type": "markdown",
   "id": "f05d91bd",
   "metadata": {
    "id": "f05d91bd"
   },
   "source": [
    "### B3.5 Typical errors and how to prevent them (TP 6.8-9)\n",
    "\n",
    "Breaking a large program into smaller functions creates natural checkpoints for debugging. If a function is not working, there are three possibilities to consider:\n",
    "\n",
    "* There is something wrong with the arguments the function is getting; a precondition is violated.\n",
    "* There is something wrong with the function; a postcondition is violated.\n",
    "* There is something wrong with the return value or the way it is being used.\n",
    "\n",
    "To rule out the first possibility, you can add a print statement at the beginning of the function and display the values of the parameters (and maybe their types). Or you can write code that checks the preconditions explicitly, a so-called **guardian**. We can add one to our `absolute_value` function like this:\n",
    "\n",
    "```python\n",
    "def absolute_value(x):\n",
    "    if isinstance(x,str):\n",
    "        print(x + ' is not a numerical value')\n",
    "        return None\n",
    "    if x < 0:\n",
    "        return -x\n",
    "    else:\n",
    "        return x\n",
    "```\n",
    "\n",
    "This guardian catches cases where the value of `x` is not a numerical value, but a string. In those cases, it prints a complaint, and then returns a None value.\n",
    "\n",
    "If the parameters look good, add a print statement before each return statement and display the return value. If possible, check the result by hand. Consider calling the function with values that make it easy to check the result.\n",
    "\n",
    "If the function seems to be working, look at the function call to make sure the return value is being used correctly (or used at all!).\n",
    "\n",
    "Adding print statements at the beginning and end of a function can help make the flow of execution more visible."
   ]
  },
  {
   "cell_type": "markdown",
   "id": "e7765185-2c76-462e-b1dc-321a12d07f2d",
   "metadata": {},
   "source": [
    "### B3.6 Docstrings\n",
    "\n",
    "To avoid errors, and help others understand our code, we often add some description to each function. We conventionally do so right after the header, and using three single-quote or double-quote characters to start and end the docstring. Let's illustrate this for our `absolute_value` function:\n",
    "\n",
    "```python\n",
    "def absolute_value(x):\n",
    "    '''\n",
    "    Returns the absolute value of x\n",
    "    x should be a numerical value, otherwise None is returned\n",
    "    '''\n",
    "    if isinstance(x,str):\n",
    "        print(x + ' is not a numerical value')\n",
    "        return None\n",
    "    if x < 0:\n",
    "        return -x\n",
    "    else:\n",
    "        return x\n",
    "```\n",
    "\n",
    "We can retrieve the docstring of a function by using the help keyword `?` before the function, like:\n",
    "\n",
    "```python\n",
    "?absolute_value\n",
    "```\n",
    "\n",
    "This will tell us various bits of information, among which the docstring. You can use it on any function, self-defined or built-in."
   ]
  },
  {
   "cell_type": "code",
   "execution_count": null,
   "id": "a9828cdb",
   "metadata": {},
   "outputs": [],
   "source": []
  }
 ],
 "metadata": {
  "colab": {
   "provenance": []
  },
  "kernelspec": {
   "display_name": "Python 3 (ipykernel)",
   "language": "python",
   "name": "python3"
  },
  "language_info": {
   "codemirror_mode": {
    "name": "ipython",
    "version": 3
   },
   "file_extension": ".py",
   "mimetype": "text/x-python",
   "name": "python",
   "nbconvert_exporter": "python",
   "pygments_lexer": "ipython3",
   "version": "3.11.2"
  }
 },
 "nbformat": 4,
 "nbformat_minor": 5
}
