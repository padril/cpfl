{
 "cells": [
  {
   "cell_type": "markdown",
   "id": "81907154-2826-4fe5-9a00-c919cf554b29",
   "metadata": {},
   "source": [
    "# Block D, lesson 3\n",
    "\n",
    "In this final lesson of the block, you will learn about the things you can do with lists through operations and methods."
   ]
  },
  {
   "cell_type": "markdown",
   "id": "919e44b5-63b8-4b66-b921-a179de1919e2",
   "metadata": {},
   "source": [
    "### D3.1 List operations (10.4)\n",
    "\n",
    "As values, lists have several operations that apply to them:\n",
    "* The `+` operator concatenates lists\n",
    "* The `*` operator repeats a list a given number of times\n",
    "* The `in` operator determines if a value is present in a list (just like with strings!)"
   ]
  },
  {
   "cell_type": "code",
   "execution_count": 1,
   "id": "de2071f3-07e0-4720-9933-186114b349fb",
   "metadata": {},
   "outputs": [
    {
     "data": {
      "text/plain": [
       "[1, 2, 3, 4, 5, 6]"
      ]
     },
     "execution_count": 1,
     "metadata": {},
     "output_type": "execute_result"
    }
   ],
   "source": [
    "a = [1, 2, 3]\n",
    "b = [4, 5, 6]\n",
    "c = a + b\n",
    "c"
   ]
  },
  {
   "cell_type": "code",
   "execution_count": null,
   "id": "0d7f6fbf-80b0-44e4-8336-ad430e627574",
   "metadata": {},
   "outputs": [],
   "source": [
    "[0] * 4"
   ]
  },
  {
   "cell_type": "code",
   "execution_count": null,
   "id": "b2c28a07-fbcf-4ea8-ac87-d5021dbad0db",
   "metadata": {},
   "outputs": [],
   "source": [
    "[1, 2, 3] * 3"
   ]
  },
  {
   "cell_type": "code",
   "execution_count": null,
   "id": "cf33344d-bbe0-4019-b870-9dae6eba8bc3",
   "metadata": {},
   "outputs": [],
   "source": [
    "'apple' in fruit"
   ]
  },
  {
   "cell_type": "code",
   "execution_count": null,
   "id": "d78190a0-3fd5-4fb3-b981-3cbb7ae0e378",
   "metadata": {},
   "outputs": [],
   "source": [
    "'pizza' in fruit"
   ]
  },
  {
   "cell_type": "markdown",
   "id": "8efacbc0-51ac-4d2d-863f-89cf60007262",
   "metadata": {},
   "source": [
    "### D3.2 List methods (10.6)\n",
    "\n",
    "* Methods are built-in functions that 'belong to' particular types.\n",
    "* They are called using the following format: \\<VARIABLE\\>.\\<METHOD-NAME\\>(\\<ARGUMENTS\\>)\n",
    "* We will see string methods in Block E\n",
    "* Here are a few useful list methods:\n",
    "    * `append()` # takes a single value and appends it\n",
    "    * `extend()` # takes a list of values and appends each of them\n",
    "    * `sort()`   # arranges the elements of the list from low to high\n",
    "* Most list methods are **void functions**; they modify the list and return None.\n",
    "    * If you accidentally write t = t.sort(), you will be disappointed with the result."
   ]
  },
  {
   "cell_type": "code",
   "execution_count": null,
   "id": "fb55617f-921c-45e4-8a48-68188fdacede",
   "metadata": {},
   "outputs": [],
   "source": [
    "t = ['a', 'b', 'c']\n",
    "t.append('d')\n",
    "t"
   ]
  },
  {
   "cell_type": "code",
   "execution_count": null,
   "id": "af105bcd-0af5-4445-b5a0-0b3ca5970ea2",
   "metadata": {},
   "outputs": [],
   "source": [
    "t1 = ['a', 'b', 'c']\n",
    "t2 = ['d', 'e']\n",
    "t1.extend(t2)\n",
    "t1"
   ]
  },
  {
   "cell_type": "code",
   "execution_count": null,
   "id": "3441fcbe-a90b-4fd0-8d18-74efcfb60e55",
   "metadata": {},
   "outputs": [],
   "source": [
    "t = ['d', 'c', 'e', 'b', 'a']\n",
    "t.sort()\n",
    "t"
   ]
  },
  {
   "cell_type": "markdown",
   "id": "8d4db506-2841-4ffa-93de-13ecba0ce918",
   "metadata": {},
   "source": [
    "### D3.3 Deleting elements (10.8)\n",
    "\n",
    "* There are several ways to delete elements from a list. \n",
    "* Here we present two list methods:\n",
    "* `pop()`: \n",
    "    * If you know the index of the element you want, \n",
    "    * you can use `pop` to take out that element and return it \n",
    "    * (so you can store it in a variable)\n",
    "* `remove()`: \n",
    "    * If you know the value you want to remove, \n",
    "    * you can use `remove` to take out the first instance of that element. \n",
    "    * if there are more, they're kept in\n",
    "    * if there are none, it will return an error\n",
    "* `clear()`:\tRemoves all the elements from the list"
   ]
  },
  {
   "cell_type": "code",
   "execution_count": null,
   "id": "7a5e4e3e-6edf-4f7a-9d80-65b94ce911e2",
   "metadata": {},
   "outputs": [],
   "source": [
    "furst = t.pop(0)\n",
    "furst"
   ]
  },
  {
   "cell_type": "code",
   "execution_count": null,
   "id": "82bf38bd-1b04-41c3-8362-6c740bb39e90",
   "metadata": {},
   "outputs": [],
   "source": [
    "t = ['e', 'e']\n",
    "t.remove('e')\n",
    "print(t)\n",
    "t.remove('e')\n",
    "print(t)\n",
    "t.remove('e')\n",
    "print(t)"
   ]
  },
  {
   "cell_type": "markdown",
   "id": "124f7202-1381-4bbc-8f38-ab51927ab47d",
   "metadata": {},
   "source": [
    "### D3.4: Other list methods\n",
    "There are several others:\n",
    "* copy()\tReturns a copy of the list\n",
    "* count()\tReturns the number of elements with the specified value\n",
    "* index()\tReturns the index of the first element with the specified value\n",
    "* insert()\tAdds an element at the specified position\n",
    "* reverse()\tReverses the order of the list\n",
    "\n",
    "We won't go into them one by one, but I encourage you to explore the documentation on the Python website:\n",
    "\n",
    "https://docs.python.org/3/tutorial/datastructures.html\n",
    "\n",
    "(In general, a lot of relevant information on the basics of Python can be found there. In Block E, we will discuss further how the Python documentation can be used)"
   ]
  }
 ],
 "metadata": {
  "kernelspec": {
   "display_name": "Python 3 (ipykernel)",
   "language": "python",
   "name": "python3"
  },
  "language_info": {
   "codemirror_mode": {
    "name": "ipython",
    "version": 3
   },
   "file_extension": ".py",
   "mimetype": "text/x-python",
   "name": "python",
   "nbconvert_exporter": "python",
   "pygments_lexer": "ipython3",
   "version": "3.11.2"
  }
 },
 "nbformat": 4,
 "nbformat_minor": 5
}
