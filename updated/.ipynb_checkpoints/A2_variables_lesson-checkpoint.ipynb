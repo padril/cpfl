{
 "cells": [
  {
   "cell_type": "markdown",
   "id": "ea43ceb0",
   "metadata": {
    "tags": [
     "remove"
    ]
   },
   "source": [
    "# Block A, lesson 2: Variables\n",
    "\n",
    "### Learning Outcomes\n",
    "In lesson 2 of Block A, you will learn what **variables** are and how to **(re)assign values** to them (TP 2.1).\n",
    "\n",
    "### Practice\n",
    "Once you've finished this notebook, you can start practicing with exercises A1 and A2."
   ]
  },
  {
   "cell_type": "markdown",
   "id": "59662da7",
   "metadata": {
    "tags": [
     "remove"
    ]
   },
   "source": [
    "### A2.1 Variables\n",
    "\n",
    "(TP 2, 2.1) One of the most powerful features of a programming language is the ability to store and manipulate information in variables. A **variable** is a (unique) name that refers to a value. Think of a variable name as a label on a file drawer. You can change what's in the drawer, but the label on it will remain the same."
   ]
  },
  {
   "cell_type": "markdown",
   "id": "9f02f161",
   "metadata": {
    "tags": [
     "remove"
    ]
   },
   "source": [
    "### A2.2 Variable assignment\n",
    "You can 'fill the drawer' by **assigning a value to a variable**. An assignment statement **creates a new variable** and **gives it a value**:\n",
    "\n",
    "```python\n",
    "message = 'And now for something completely different'\n",
    "n = 17\n",
    "pi = 3.1415926535897932\n",
    "```\n",
    "\n",
    "This example makes three assignments. The first statement assigns a string to a new variable named `message`; the second assigns the integer `17` to `n`; the third assigns the (approximate) value of $\\pi$ to `pi`."
   ]
  },
  {
   "cell_type": "markdown",
   "id": "ff134e4b",
   "metadata": {
    "tags": [
     "remove"
    ]
   },
   "source": [
    "### A2.3 Variable names\n",
    "\n",
    "(TP 2.2) Programmers generally choose names for their variables that are meaningful—they document what the variable is used for.\n",
    "\n",
    "Some constraints:\n",
    "* Variable names can be as long as you like. \n",
    "* They can contain both letters and numbers, \n",
    "* but they can’t begin with a number. \n",
    "* It is legal to use uppercase letters, \n",
    "* but it is conventional to use only lower case for variables names.\n",
    "* The underscore character, _, can appear in a name. \n",
    "    * It is often used in names with multiple words, such as your_name or airspeed_of_unladen_swallow."
   ]
  },
  {
   "cell_type": "markdown",
   "id": "f5718a81",
   "metadata": {
    "tags": [
     "remove"
    ]
   },
   "source": [
    "If you give a variable an illegal name, you get a syntax error:\n",
    "\n",
    "```python\n",
    "76trombones = 'big parade'\n",
    "```\n",
    "gives: `SyntaxError: invalid syntax`\n",
    "\n",
    "```python\n",
    "more@ = 1000000\n",
    "```\n",
    "gives: `SyntaxError: invalid syntax`\n",
    "\n",
    "`76trombones` is illegal because it begins with a number. `more@` is illegal because it contains an illegal character, `@`. "
   ]
  },
  {
   "cell_type": "markdown",
   "id": "3b51d39a",
   "metadata": {
    "tags": [
     "remove"
    ]
   },
   "source": [
    "Now consider:\n",
    "```python\n",
    "class = 'Advanced Theoretical Zymurgy'\n",
    "```\n",
    "gives: `SyntaxError: invalid syntax`\n",
    "\n",
    "But what’s wrong with class?\n",
    "\n",
    "It turns out that class is one of Python’s keywords. The interpreter uses keywords to recognize the structure of the program, and they cannot be used as variable names.\n",
    "\n",
    "Python 3 has these keywords:\n",
    "```\n",
    "False      class      finally    is         return\n",
    "None       continue   for        lambda     try\n",
    "True       def        from       nonlocal   while\n",
    "and        del        global     not        with\n",
    "as         elif       if         or         yield\n",
    "assert     else       import     pass\n",
    "break      except     in         raise\n",
    "```\n",
    "You don’t have to memorize this list. In Jupyter Notebooks, keywords (as well as name-initial numbers) are displayed in a different color; if you try to use one as a variable name, you’ll know."
   ]
  },
  {
   "cell_type": "markdown",
   "id": "05e58bea",
   "metadata": {
    "tags": [
     "remove"
    ]
   },
   "source": [
    "### A2.4 Using variables\n",
    "\n",
    "Once you created them, you can let variables participate in arithmetic expressions and other operations and functions. For instance, the code below prints the string `'hahahaha'`. To be precise, it takes the value of the variable `syllable`, repeats it `4` times, and prints the result.\n",
    "\n",
    "```python\n",
    "syllable = 'ha'\n",
    "print(syllable * 4)\n",
    "```\n",
    "\n",
    "Similarly, the code below allows you to calculate the area of a rectangle:\n",
    "\n",
    "```python\n",
    "length = 12\n",
    "width = 10\n",
    "print(length * width)\n",
    "```"
   ]
  },
  {
   "cell_type": "markdown",
   "id": "1b93c673",
   "metadata": {
    "tags": [
     "remove"
    ]
   },
   "source": [
    "### A2.5 Assigning the output of an expression to a variable\n",
    "\n",
    "Importantly, you can save the output of an expression to a variable as well! The following bit of code does the same thing as the code above, but is more legible, because it makes explicit what `length * width` represents.\n",
    "\n",
    "```python\n",
    "length = 12\n",
    "width = 10\n",
    "area = length * width\n",
    "print(area)\n",
    "```\n",
    "\n",
    "Or, returning to our laughter example:\n",
    "\n",
    "```python\n",
    "syllable = 'ha'\n",
    "laughter = syllable * 4\n",
    "print(laughter)\n",
    "```"
   ]
  },
  {
   "cell_type": "markdown",
   "id": "160dd25e",
   "metadata": {
    "tags": [
     "remove"
    ]
   },
   "source": [
    "### A2.6 Practice: evil laughter\n",
    "\n",
    "Write a program that prints \"evil laughter\", i.e., strings consisting of one time 'mu' followed by $n$ times 'ha'. \n",
    "\n",
    "Store the two syllables 'mu' and 'ha' in separate variables (you choose the names), and store $n$, the number of times to print 'ha' in a separate variable as well. Assign the evil laughter string to a new variable, and print that variable. \n",
    "\n",
    "Before writing the code, think of your plan of action: \n",
    "* how do you concatenate strings again?\n",
    "* how do you repeat a string a certain number of times? \n",
    "* and if you have to do both, how do you make sure you won't get something like 'muhamuhamuha' as the output for $n=3$ (which sounds distinctly less evil...)?"
   ]
  },
  {
   "cell_type": "markdown",
   "id": "ae827c00",
   "metadata": {
    "tags": [
     "remove"
    ]
   },
   "source": [
    "### A2.7 Variable reassignment\n",
    "\n",
    "Two final things to know about variables:\n",
    "\n",
    "Once assigned, you can **reassign** values to variable, simply by making another assignment statement. Try to run the following:\n",
    "```python\n",
    "n = 40\n",
    "print(n)\n",
    "n = 20\n",
    "print(n)\n",
    "```\n",
    "It's good practice to keep track of the values are assigned to your variables when writing code!\n",
    "\n",
    "Similarly, you can use assignment statements with other variables as the right-hand part of the statement, as below. You see that the value of `m` is now `40` as well.\n",
    "```python\n",
    "n = 40\n",
    "m = n\n",
    "print(m, n)\n",
    "```"
   ]
  },
  {
   "cell_type": "markdown",
   "id": "50edb770",
   "metadata": {
    "tags": [
     "remove"
    ]
   },
   "source": [
    "### A2.8 Variable reassignment and value assignment\n",
    "\n",
    "Importantly, assigning values this way, at least for simple types like strings, integers, and floating point numbers, means that you assign the **value**, not the **variable name** to the new variable. This is an important distinction, as we will see when dealing with lists and sets. For now, be aware of the following:\n",
    "\n",
    "```python\n",
    "n = 40\n",
    "m = n\n",
    "print(m, n)\n",
    "n = 20\n",
    "print(m, n)\n",
    "```\n",
    "\n",
    "This bit of code could in principle have two outcomes when `n` gets reassigned the value `20`: \n",
    "* first, given that `m` is assigned `n`, and `n` changes its value, so does `m`, so now `m` is also `20`.\n",
    "* second, when `m` is assigned `n`, the value of `n` is taken, and assigned to `m` (i.e., `40`), so when `n` gets reassigned, nothing happens to `m`.\n",
    "\n",
    "It's the latter that's true, as running the code proves!"
   ]
  },
  {
   "cell_type": "markdown",
   "id": "ba42365d-cd55-40a0-af9e-8b02af09afeb",
   "metadata": {
    "tags": [
     "remove"
    ]
   },
   "source": [
    "### A2.9 Combining reassignment and arithmetic operations\n",
    "\n",
    "Recall that you can assign the output of an expression to a variable, e.g.:\n",
    "\n",
    "```python\n",
    "x = 4\n",
    "y = x + 3\n",
    "```\n",
    "\n",
    "Now, there's nothing stopping us from using the variable itself as part of the expression that reassigns a value to the variable:\n",
    "```python\n",
    "x = 4\n",
    "x = x + 1\n",
    "```\n",
    "\n",
    "After running these two lines of code, `x` has the value `5` assigned to it.\n",
    "\n",
    "Since incrementing values is something programmers frequently need to do (when counting things, for instance), Python allows for a more compact way of doing the above, namely with the `+=` operator:\n",
    "\n",
    "```python\n",
    "x = 4\n",
    "x += 1\n",
    "```\n",
    "\n",
    "We can do the same with the other arithmetic operators: \n",
    "subtraction (`-=`), multiplication (`*=`), division (`/=`), floor division (`//=`), exponentiation (`**=`), modulation (`%=`). Let's try some of those out!"
   ]
  },
  {
   "cell_type": "markdown",
   "id": "fd6d9987",
   "metadata": {},
   "source": [
    "### Homework\n",
    "\n",
    "In the code block below, answer the following questions.\n",
    "\n",
    "#### Question 1\n",
    "\n",
    "Assign the floating point number 9.3 to a variable called `q1`\n",
    "\n",
    "#### Question 2\n",
    "\n",
    "The following statement produces an error message because the variable name is not valid. Change the name of the variable by removing only the part of the name that produces the error.\n",
    "\n",
    "```Python\n",
    "one hundred = 100\n",
    "```\n",
    "\n",
    "Store the new variable name as a String in a variable called `q2`\n",
    "\n",
    "#### Question 3\n",
    "\n",
    "Suppose you have the following variables describing the three spatial dimensions of a box:\n",
    "\n",
    "```python\n",
    "width = 20\n",
    "height = 12\n",
    "length = 10\n",
    "```\n",
    "\n",
    "Create a new variable, called `q3` that is assigned the volume (width $\\times$ height $\\times$ length) of the box. Do so by (1) creating and assigning the variables as listed above, and (2) by using those variables in the assignment of the new variable `q3`.\n",
    "\n",
    "#### Question 4\n",
    "\n",
    "What is the final value of `y` at the end of this code? Store your answer in a variable called `q4`\n",
    "\n",
    "```python\n",
    "x = 10\n",
    "y = 11\n",
    "c = x\n",
    "x = y\n",
    "y = c\n",
    "```\n"
   ]
  },
  {
   "cell_type": "code",
   "execution_count": 8,
   "id": "aa28ffbc",
   "metadata": {},
   "outputs": [],
   "source": [
    "# Put your solutions here!\n",
    "q1 = 9.3  # Question 1 is done for you!\n",
    "q2 = ..."
   ]
  },
  {
   "cell_type": "markdown",
   "id": "a0be6cbe",
   "metadata": {},
   "source": [
    "#### Question 5 (Hard)\n",
    "\n",
    "We have an Elan file of a sociolinguistic interview that ran for exactly 1 hour 42 minutes. Our speaker uttered 1610 usable tokens in that time, but only 1 in 23 are relevant to our study.\n",
    "\n",
    "Practice with using Python as a calculator. In the code cell below solve the following questions:\n",
    "\n",
    "* How many seconds are there in 1 hour 42 minutes?\n",
    "* How many of the 1610 tokens are relevant at the rate of 1 in 23?\n",
    "* On average, how many relevant tokens were spoken every 10 minutes?"
   ]
  },
  {
   "cell_type": "code",
   "execution_count": null,
   "id": "a7b123cc",
   "metadata": {},
   "outputs": [],
   "source": [
    "hours = 1\n",
    "minutes = 42\n",
    "seconds = ... # put your answer here\n",
    "\n",
    "all_tokens = 1610\n",
    "rate = 1/23\n",
    "relevant_tokens = ...\n",
    "\n",
    "# you can put more of your own variables here, just don't use\n",
    "# the same name as previous answers, or you'll override them!\n",
    "\n",
    "tokens_per_10_minutes = ..."
   ]
  }
 ],
 "metadata": {
  "celltoolbar": "Tags",
  "kernelspec": {
   "display_name": "Python 3 (ipykernel)",
   "language": "python",
   "name": "python3"
  },
  "language_info": {
   "codemirror_mode": {
    "name": "ipython",
    "version": 3
   },
   "file_extension": ".py",
   "mimetype": "text/x-python",
   "name": "python",
   "nbconvert_exporter": "python",
   "pygments_lexer": "ipython3",
   "version": "3.11.2"
  }
 },
 "nbformat": 4,
 "nbformat_minor": 5
}
