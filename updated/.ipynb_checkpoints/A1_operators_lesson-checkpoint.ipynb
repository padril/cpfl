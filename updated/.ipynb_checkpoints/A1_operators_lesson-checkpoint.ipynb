{
 "cells": [
  {
   "cell_type": "markdown",
   "id": "b92ffe76",
   "metadata": {
    "id": "b92ffe76",
    "tags": [
     "remove"
    ]
   },
   "source": [
    "# Block A, Lesson 1: first steps in programming\n",
    "\n",
    "### Learning Outcomes\n",
    "\n",
    "Welcome to your first lesson. In this notebook, you will learn about:\n",
    "* what a computer program is (TP 1.1)\n",
    "* how to run **arithmetic statements** (TP 1.4)\n",
    "* how the **order of operations** works, both for arithmetic and non-aritmetic statements (TP 2.5)\n",
    "* what **values** are in Python, and which **data types** they belong to (TP 1.5)\n",
    "\n",
    "### Acknowledgments\n",
    "\n",
    "These notebooks are inspired by (and sometimes outright quote from) the textbook _Think Python_. You can find the textbook in HTML, free of charge, here: [https://greenteapress.com/thinkpython2/html/](https://greenteapress.com/thinkpython2/html/). I will refer to the relevant sections of the textbook in the overview -- so TP 1.1 refers to section 1.1 of _Think Python_. While the textbook isn't necessary, it might be helpful for you to have a look at it, especially if you get stuck!\n",
    "\n",
    "### A note on practicing\n",
    "\n",
    "This notebook might form the lecture materials for a course in which it is used, or alternatively, if you're taking the module independently, you will be making your way through it by yourself. Regardless, in order to learn to program, practice is paramount! The exercises in the `exercises` folder that start with 'A1' are the ones that go with Block A, Lesson 1. For Block A, I'd recommend you take lessons 1 and 2 first before starting to practice (you will need the concepts from lesson 2 in order to practice with lesson 1)."
   ]
  },
  {
   "cell_type": "markdown",
   "id": "2313f79e",
   "metadata": {
    "id": "2313f79e",
    "tags": [
     "remove"
    ]
   },
   "source": [
    "### A1.1 Computer programs?"
   ]
  },
  {
   "cell_type": "markdown",
   "id": "0c364e75",
   "metadata": {
    "id": "0c364e75",
    "tags": [
     "remove"
    ]
   },
   "source": [
    "#### Definition:\n",
    "(TP 1.1): \"A program is a sequence of instructions that specifies how to perform a computation. The computation might be something mathematical, such as solving a system of equations or finding the roots of a polynomial, but it can also be a symbolic computation, such as searching and replacing text in a document or something graphical, like processing an image or playing a video.\""
   ]
  },
  {
   "cell_type": "markdown",
   "id": "f321ee00",
   "metadata": {
    "id": "f321ee00",
    "tags": [
     "remove"
    ]
   },
   "source": [
    "#### Now why would linguists care?\n",
    "* For corpus/text linguists, computer programs can be handy helpers in working with large amounts of data to detect patterns you might not have expected. \n",
    "* For cognitive scientists, formulating mental processes _as_ computer programs helps them understand how the mind works. \n",
    "* For practicioners of natural language processing, developing computer programs that in some capacity 'behave the same way' as humans (linguistically, in particular) can lead to interesting products (Google, Siri, autocomplete)"
   ]
  },
  {
   "cell_type": "markdown",
   "id": "d80a60d4",
   "metadata": {
    "id": "d80a60d4",
    "tags": [
     "remove"
    ]
   },
   "source": [
    "#### The ingredients of a program\n",
    "(TP 1.1): \"\\[A\\] few basic instructions appear in just about every language:\n",
    "\n",
    "* **input**: Get data from the keyboard, a file, the network, or some other device.\n",
    "* **output**: Display data on the screen, save it in a file, send it over the network, etc.\n",
    "* **math**: Perform basic mathematical operations like addition and multiplication. **we'll see how this works for language-like objects, like words and sentences, as well!**\n",
    "* **conditional execution**: Check for certain conditions and run the appropriate code.\n",
    "* **repetition**: Perform some action repeatedly, usually with some variation.\n",
    "\n",
    "\\[...\\] You can think of programming as the process of breaking a large, complex task into smaller and smaller subtasks until the subtasks are simple enough to be performed with one of these basic instructions.\""
   ]
  },
  {
   "cell_type": "markdown",
   "id": "327e3597",
   "metadata": {
    "id": "327e3597",
    "tags": [
     "remove"
    ]
   },
   "source": [
    "### A1.2 Arithmetic statements\n",
    "\n",
    "Considering the third step of the ingredients (math), let's first have a look at a basic operation that a computer program can carry out: arithmetic. Computer programs here work more or less the same way as the calculator on your phone. You type the arithmetic operation in a code cell and execute (run) it. \n",
    "\n",
    "**Let's create a code cell, type the operation below in the cell and run it.** You should see the output `9` below the code cell.\n",
    "\n",
    "```python\n",
    "1 + 8\n",
    "```"
   ]
  },
  {
   "cell_type": "markdown",
   "id": "76411ab4",
   "metadata": {
    "id": "76411ab4",
    "tags": [
     "remove"
    ]
   },
   "source": [
    "### A1.3 Other operators\n",
    "\n",
    "Aside from addition, here are some other arithmetic operations Python lets you do\n",
    "* subtraction (`-`), \n",
    "* multiplication (`*`), \n",
    "* division (`/`), \n",
    "* exponentiation (`**`; i.e., `x ** y` returns `x` to the power `y`)\n",
    "* floor division (`//`; i.e., `x // y` returns the largest integer (whole number) smaller than or equal to `x` divided by `y`)\n",
    "* modulo operation (`%`; i.e., `x % y` returns what remains after running the floor division operation)\n",
    "\n",
    "Let's create a code cell below and practice with each of them in turn"
   ]
  },
  {
   "cell_type": "markdown",
   "id": "faa892dc",
   "metadata": {
    "id": "faa892dc",
    "tags": [
     "remove"
    ]
   },
   "source": [
    "### A1.4 Order of operation\n",
    "\n",
    "(TP 2.5): \"When an expression contains more than one operator, the order of evaluation depends on the order of operations. For mathematical operators, Python follows mathematical convention. The acronym PEMDAS is a useful way to remember the rules:\n",
    "\n",
    "* Parentheses have the highest precedence and can be used to force an expression to evaluate in the order you want. Since expressions in parentheses are evaluated first, `2 * (3-1)` is `4`, and `(1+1)**(5-2)` is `8`. **You can also use parentheses to make an expression easier to read, even if it doesn’t change the result**.\n",
    "* Exponentiation has the next highest precedence, so `1 + 2**3` is `9`, not `27`, and `2 * 3**2` is `18`, not `36`.\n",
    "* Multiplication and Division have higher precedence than Addition and Subtraction. So `2*3-1` is `5`, not `4`, and `6+4/2` is `8`, not `5`.\n",
    "* Operators with the same precedence are evaluated from left to right (except exponentiation). So in the expression `6 / 2 * 3` the division happens first and the result is multiplied by `3`. To divide by `2 * 3`, you can use parentheses or write `6 / 2 / 3`\n",
    "\n",
    "I don’t work very hard to remember the precedence of operators. If I can’t tell by looking at the expression, **I use parentheses to make it obvious**.\""
   ]
  },
  {
   "cell_type": "markdown",
   "id": "e227b9f8",
   "metadata": {
    "id": "e227b9f8",
    "tags": [
     "remove"
    ]
   },
   "source": [
    "### A1.5 Values and types\n",
    "\n",
    "(TP 1.5) A **value** is one of the basic things a program works with, like a letter or a number. Some values we have seen so far are `2`, `2.5` and `'Hello, World!'`.\n",
    "\n",
    "These values belong to different **types**. A type is a category of values. For instance: `2` is an integer, `2.5` is a floating-point number, and `'Hello, World!'` is a string, so-called because the letters it contains are strung together. \n",
    "\n",
    "If you are not sure what type a value has, the interpreter can tell you, by calling the `type()` function on it. (Your first function! Remember that word)"
   ]
  },
  {
   "cell_type": "markdown",
   "id": "eda7b3dd",
   "metadata": {
    "id": "eda7b3dd",
    "tags": [
     "remove"
    ]
   },
   "source": [
    "#### Practice: Knowing your type\n",
    "It's important to know what types your values are, as operations work differently on them. To see that, create some code cells below and execute the operations listed below.\n",
    "\n",
    "(1) First try the following:\n",
    "\n",
    "```python\n",
    "2 + 2\n",
    "```\n",
    "\n",
    "(2) Now try:\n",
    "\n",
    "```python\n",
    "'2' + '2'\n",
    "```\n",
    "\n",
    "What do you notice? Is that what you expected?\n",
    "\n",
    "(3) Then, try:\n",
    "\n",
    "```python\n",
    "'2' + 2\n",
    "```\n",
    "\n",
    "Read the output and see if it makes sense to you.\n",
    "\n",
    "(4) And finally, try:\n",
    "\n",
    "```python\n",
    "'2' * 4\n",
    "```\n",
    "\n",
    "Can you think of why you don't get an error here?"
   ]
  },
  {
   "cell_type": "markdown",
   "id": "7d871a6e-015e-4880-9295-9224aa0c1049",
   "metadata": {
    "tags": [
     "remove"
    ]
   },
   "source": [
    "### A1.6 Type conversion\n",
    "\n",
    "Sometimes, you want to change the type of a value. This is particularly useful when writing to external text files (which are character strings) and the data you want to write out are floats or integers. We can change, or: convert types by calling the type function on the value. (This is a **function**, a concept we'll come back to in Block C).\n",
    "\n",
    "Suppose, for instance, that we have floating point number `1.1` and we want to make a string out of it, we can simpy say:\n",
    "\n",
    "```python\n",
    "str(1.1)\n",
    "```\n",
    "\n",
    "Conversely, a string that represents a floating point number, like `\"1.1\"` may be changed into a float by:\n",
    "\n",
    "```python\n",
    "float(\"1.1\")\n",
    "```\n",
    "\n",
    "Try it out yourself for integers and strings, and see if you can integrate it with arithmetic operations. For instance, what does the following do?\n",
    "\n",
    "```python\n",
    "float('2') * 3\n",
    "```\n",
    "\n",
    "and how is that different from either:\n",
    "\n",
    "```python\n",
    "int('2') * 3\n",
    "```\n",
    "\n",
    "or:\n",
    "\n",
    "```python\n",
    "str('2') * 3\n",
    "```"
   ]
  },
  {
   "cell_type": "markdown",
   "id": "e111de93",
   "metadata": {
    "tags": [
     "remove"
    ]
   },
   "source": [
    "### 1.2.7 Errors\n",
    "\n",
    "Three kinds of errors can occur in a program: syntax errors, runtime errors, and semantic errors. It is useful to distinguish between them in order to track them down more quickly.\n",
    "\n",
    "**Syntax error**:\n",
    "“Syntax” refers to the structure of a program and the rules about that structure. For example, parentheses have to come in matching pairs, so (1 + 2) is legal, but 8) is a syntax error.\n",
    "If there is a syntax error anywhere in your program, Python displays an error message and quits, and you will not be able to run the program. During the first few weeks of your programming career, you might spend a lot of time tracking down syntax errors. As you gain experience, you will make fewer errors and find them faster.\n",
    "\n",
    "**Runtime error**:\n",
    "The second type of error is a runtime error, so called because the error does not appear until after the program has started running. These errors are also called exceptions because they usually indicate that something exceptional (and bad) has happened.\n",
    "Runtime errors are rare in the simple programs you will see in the first few chapters, so it might be a while before you encounter one.\n",
    "\n",
    "**Semantic error**:\n",
    "The third type of error is “semantic”, which means related to meaning. If there is a semantic error in your program, it will run without generating error messages, but it will not do the right thing. It will do something else. Specifically, it will do what you told it to do.\n",
    "Identifying semantic errors can be tricky because it requires you to work backward by looking at the output of the program and trying to figure out what it is doing."
   ]
  },
  {
   "cell_type": "markdown",
   "id": "94376285",
   "metadata": {
    "tags": [
     "remove"
    ]
   },
   "source": [
    "#### Practice\n",
    "\n",
    "Whenever you are experimenting with a new feature, you should try to make mistakes. For example, in the “Hello, world!” program, what happens if you leave out one of the quotation marks? What if you leave out both? What if you spell print wrong?\n",
    "\n",
    "This kind of experiment helps you remember what you read; it also helps when you are programming, because you get to know what the error messages mean. Try performing all of the experiments suggested in the comments in the code cell below."
   ]
  },
  {
   "cell_type": "code",
   "execution_count": 1,
   "id": "bcc22454",
   "metadata": {
    "tags": [
     "remove"
    ]
   },
   "outputs": [
    {
     "name": "stdout",
     "output_type": "stream",
     "text": [
      "Hello, Jon\n",
      "Apologies for the deception.\n",
      "-2\n",
      "4\n",
      "9\n",
      "11\n",
      "68\n"
     ]
    }
   ],
   "source": [
    "# In a print statement, what happens if you leave out one of the parentheses, or both?\n",
    "print(\"Hello, Jon\")\n",
    "\n",
    "# If you are trying to print a string, what happens if you leave out one of the quotation marks, or both?\n",
    "print(\"Apologies for the deception.\")\n",
    "\n",
    "# You can use a minus sign to make a negative number like -2. \n",
    "# What happens if you put a plus sign before a number?\n",
    "print(-2)\n",
    "\n",
    "# What about 2++2?\n",
    "print(2 + 2)\n",
    "\n",
    "# In math notation, leading zeros are ok, as in 09. What happens if you try this in Python? \n",
    "print(9)\n",
    "\n",
    "# What about 011?\n",
    "print(11)\n",
    "\n",
    "# What happens if you have two values with no operator between them?\n",
    "print(42 + 26)"
   ]
  },
  {
   "cell_type": "markdown",
   "id": "1bc31f60",
   "metadata": {
    "tags": [
     "remove"
    ]
   },
   "source": [
    "Now lets try some more. This time, the errors have already been made, and its your job to fix them. Try getting used to reading the error messages Python gives you, and rewrite them in your own words in comments."
   ]
  },
  {
   "cell_type": "code",
   "execution_count": 3,
   "id": "6aaf4387",
   "metadata": {
    "tags": [
     "remove"
    ]
   },
   "outputs": [
    {
     "ename": "SyntaxError",
     "evalue": "cannot assign to literal here. Maybe you meant '==' instead of '='? (3333714911.py, line 2)",
     "output_type": "error",
     "traceback": [
      "\u001b[0;36m  Cell \u001b[0;32mIn [3], line 2\u001b[0;36m\u001b[0m\n\u001b[0;31m    42 = n\u001b[0m\n\u001b[0m    ^\u001b[0m\n\u001b[0;31mSyntaxError\u001b[0m\u001b[0;31m:\u001b[0m cannot assign to literal here. Maybe you meant '==' instead of '='?\n"
     ]
    }
   ],
   "source": [
    "# n = 42 is legal, what about the reverse?\n",
    "42 = n\n",
    "\n",
    "# We can put two assignments together on the same line\n",
    "x = y = 1\n",
    "# But can we use parentheses? Why or why not?\n",
    "x = (y = 1)\n",
    "\n",
    "# In some languages every statement ends with a semi-colon, ;. We can do this in Python to (but it's optional)\n",
    "print(\"Foo\");\n",
    "# What if you put a period at the end of a statement?\n",
    "print(\"Bar\").\n",
    "\n",
    "# In math notation you can multiply x and y like this: x y. How would we do this in python?\n",
    "x y"
   ]
  }
 ],
 "metadata": {
  "celltoolbar": "Tags",
  "colab": {
   "provenance": []
  },
  "kernelspec": {
   "display_name": "Python 3 (ipykernel)",
   "language": "python",
   "name": "python3"
  },
  "language_info": {
   "codemirror_mode": {
    "name": "ipython",
    "version": 3
   },
   "file_extension": ".py",
   "mimetype": "text/x-python",
   "name": "python",
   "nbconvert_exporter": "python",
   "pygments_lexer": "ipython3",
   "version": "3.11.2"
  }
 },
 "nbformat": 4,
 "nbformat_minor": 5
}
