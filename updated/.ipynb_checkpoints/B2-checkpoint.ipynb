{
 "cells": [
  {
   "cell_type": "markdown",
   "id": "c89047d6",
   "metadata": {
    "id": "c89047d6"
   },
   "source": [
    "# Block B, lesson 2: Conditional execution\n",
    "\n",
    "We now turn to conditional execution, the programming concept whereby we use the boolean values that we learned about in B1 to make the computer program do certain things and not others, i.e., to 'execute' conditionally on some boolean value.\n",
    "\n",
    "#### Learning outcome:\n",
    "* you will be able to write conditional statements involving the `if`, `else`, and `elif` keywords.\n",
    "* you will be able to describe what a compound statement is, and what its components are (header, indented body)\n",
    "\n",
    "#### Practice:\n",
    "* after finishing this notebook, practice with the exercises labeled `B2`."
   ]
  },
  {
   "cell_type": "markdown",
   "id": "ce1f0e54",
   "metadata": {
    "id": "ce1f0e54"
   },
   "source": [
    "### B2.1 Conditional execution (TP 5.4)\n",
    "\n",
    "In order to write useful programs, we almost always need the ability to check conditions and change the behavior of the program accordingly. Conditional statements give us this ability. The simplest form is the `if` statement:\n",
    "\n",
    "```python\n",
    "if x > 0:\n",
    "    print('x is positive')\n",
    "```\n",
    "\n",
    "The boolean expression after `if` is called the condition. If it is true, the indented statement runs. If not, nothing happens; the program simply continues to the next line"
   ]
  },
  {
   "cell_type": "markdown",
   "id": "c05f18c4",
   "metadata": {
    "id": "c05f18c4"
   },
   "source": [
    "`if` statements have a structure we will see elsewhere too (iterations, functions): \n",
    "* a header, ending with a **colon**, \n",
    "* followed by an **indented** body, indented with four spaces (Jupyter will automatically insert a four space indentation if you write a header, or any line ending with a colon, really). \n",
    "\n",
    "Statements like this are called **compound statements**."
   ]
  },
  {
   "cell_type": "markdown",
   "id": "990de775",
   "metadata": {
    "id": "990de775"
   },
   "source": [
    "#### A note on indentation\n",
    "\n",
    "Python is very sensitive to indentation, or the spacing you use at the beginning of the line. Make sure you mind your indentations, for conditional statements, functions (Block C will deal with those), as well as iteration (`for` and `while` loops in Block D!).\n",
    "\n",
    "Let's have a look at what happens if you fail to indent."
   ]
  },
  {
   "cell_type": "code",
   "execution_count": null,
   "id": "2dc57adc",
   "metadata": {
    "id": "2dc57adc"
   },
   "outputs": [],
   "source": [
    "if 8 > 6:\n",
    "print('huzzah!')"
   ]
  },
  {
   "cell_type": "markdown",
   "id": "38921766",
   "metadata": {
    "id": "38921766"
   },
   "source": [
    "#### A note on empty bodies\n",
    "\n",
    "There is no limit on the number of statements that can appear in the body, but there has to be at least one. Occasionally, it is useful to have a body with no statements (usually as a place keeper for code you haven’t written yet). In that case, you can use the `pass` statement, which does nothing.\n",
    "\n",
    "```python\n",
    "if x < 0:\n",
    "    pass          # TODO: need to handle negative values!\n",
    "```"
   ]
  },
  {
   "cell_type": "markdown",
   "id": "6c6a1f3e",
   "metadata": {
    "id": "6c6a1f3e"
   },
   "source": [
    "### B2.2 Alternative execution (TP 5.5)\n",
    "\n",
    "A second form of the if statement is “alternative execution”, in which there are two possibilities and the condition determines which one runs. The syntax looks like this:\n",
    "\n",
    "```python\n",
    "if x % 2 == 0:\n",
    "    print('x is even')\n",
    "else:\n",
    "    print('x is odd')\n",
    "```\n",
    "\n",
    "If the remainder when `x` is divided by `2` is `0`, then we know that `x` is even, and the program displays an appropriate message. If the condition is false, the second set of statements runs. \n",
    "\n",
    "Since the condition must be true or false, exactly one of the alternatives will run. The alternatives are called **branches**, because they are branches in the flow of execution."
   ]
  },
  {
   "cell_type": "markdown",
   "id": "97d4a8fe",
   "metadata": {
    "id": "97d4a8fe"
   },
   "source": [
    "### B2.3 Chained conditionals (TP 5.6)\n",
    "\n",
    "Sometimes there are **more than two possibilities** and we need more than two branches. One way to express a computation like that is a chained conditional:\n",
    "\n",
    "```python\n",
    "if x < y:\n",
    "    print('x is less than y')\n",
    "elif x > y:\n",
    "    print('x is greater than y')\n",
    "else:\n",
    "    print('x and y are equal')\n",
    "```\n",
    "\n",
    "`elif` is an abbreviation of “else if”. Again, exactly one branch will run. There is no limit on the number of elif statements. If there is an else clause, it has to be at the end, but there doesn’t have to be one. The following code assigns a letter grade based on the numeric grade, but leaves it an 'F' if the value of `grade` doesn't meet any of the conditions.\n",
    "\n",
    "```python\n",
    "letter = 'F'\n",
    "if grade >= 80:\n",
    "    letter = 'A'\n",
    "elif grade >= 70:\n",
    "    letter = 'B'\n",
    "elif grade >= 60:\n",
    "    letter = 'C'\n",
    "elif grade >= 50:\n",
    "    letter = 'D'   \n",
    "```\n",
    "\n",
    "Each condition is checked in order. If the first is false, the next is checked, and so on. If one of them is true, the corresponding branch runs and the statement ends. Even if more than one condition is true, only the first true branch runs (i.e., if `grade` is greater than `80`, it's also greater than `70`, but the second branch will not run because the first branch has already been executed)."
   ]
  },
  {
   "cell_type": "markdown",
   "id": "c713988f",
   "metadata": {
    "id": "c713988f"
   },
   "source": [
    "### B2.4 Nested conditionals (TP 5.7)\n",
    "\n",
    "A final important property of conditionals, and most compound statements (functions, iteration) in fact, is that one conditional can also be **nested** within another. We could have written the example in the previous section like this:\n",
    "\n",
    "```python\n",
    "if x == y:\n",
    "    print('x and y are equal')\n",
    "else:\n",
    "    if x < y:\n",
    "        print('x is less than y')\n",
    "    else:\n",
    "        print('x is greater than y')\n",
    "```        \n",
    "        \n",
    "The **outer conditional** contains two branches. The first branch contains a simple statement. The second branch contains another if statement (**inner conditional**), which has two branches of its own. Those two branches are both simple statements, although they could have been conditional statements as well."
   ]
  },
  {
   "cell_type": "markdown",
   "id": "d93ab05e",
   "metadata": {
    "id": "d93ab05e"
   },
   "source": [
    "### B2.5 Sidenote: How to avoid nested conditionals if your conditions get complex?\n",
    "Although the indentation of the statements makes the structure apparent, nested conditionals become difficult to read very quickly. It is a good idea to avoid them when you can.\n",
    "\n",
    "**Logical operators** often provide a way to simplify nested conditional statements. For example, we can rewrite the following code using a single conditional:\n",
    "\n",
    "```python\n",
    "if 0 < x:\n",
    "    if x < 10:\n",
    "        print('x is a positive single-digit number.')\n",
    "```\n",
    "\n",
    "The `print` statement runs only if we make it past both conditionals, so we can get the same effect with the and operator:\n",
    "\n",
    "```python\n",
    "if 0 < x and x < 10:\n",
    "    print('x is a positive single-digit number.')\n",
    "```\n",
    "\n",
    "For this kind of condition, Python provides a more concise option:\n",
    "\n",
    "```python\n",
    "if 0 < x < 10:\n",
    "    print('x is a positive single-digit number.')\n",
    "```"
   ]
  }
 ],
 "metadata": {
  "colab": {
   "provenance": []
  },
  "kernelspec": {
   "display_name": "Python 3 (ipykernel)",
   "language": "python",
   "name": "python3"
  },
  "language_info": {
   "codemirror_mode": {
    "name": "ipython",
    "version": 3
   },
   "file_extension": ".py",
   "mimetype": "text/x-python",
   "name": "python",
   "nbconvert_exporter": "python",
   "pygments_lexer": "ipython3",
   "version": "3.11.2"
  }
 },
 "nbformat": 4,
 "nbformat_minor": 5
}
