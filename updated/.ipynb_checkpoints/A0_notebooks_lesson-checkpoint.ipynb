{
 "cells": [
  {
   "cell_type": "markdown",
   "id": "9bb8bc93",
   "metadata": {
    "id": "9bb8bc93",
    "tags": [
     "remove"
    ]
   },
   "source": [
    "# Block A, Lesson 0: exploring notebooks\n",
    "\n",
    "### Acknowledgments\n",
    "\n",
    "These notebooks are inspired by (and sometimes outright quote from) the textbook _Think Python_. You can find the textbook in HTML, free of charge, here: [https://greenteapress.com/thinkpython2/html/](https://greenteapress.com/thinkpython2/html/). I will refer to the relevant sections of the textbook in the overview -- so TP 1.1 refers to section 1.1 of _Think Python_. While the textbook isn't necessary, it might be helpful for you to have a look at it, especially if you get stuck!\n",
    "\n",
    "### A note on practicing\n",
    "\n",
    "This notebook might form the lecture materials for a course in which it is used, or alternatively, if you're taking the module independently, you will be making your way through it by yourself. Regardless, in order to learn to program, practice is paramount! The exercises in the `exercises` folder that start with 'A1' are the ones that go with Block A, Lesson 1. For Block A, I'd recommend you take lessons 1 and 2 first before starting to practice (you will need the concepts from lesson 2 in order to practice with lesson 1)."
   ]
  },
  {
   "cell_type": "markdown",
   "id": "fe6c451f",
   "metadata": {
    "id": "fe6c451f",
    "tags": [
     "remove"
    ]
   },
   "source": [
    "### A0.1 Welcome!\n",
    "\n",
    "If you're reading this, you have successfully loaded a Jupyter notebook. Jupyter notebooks allow you to write software programs in Python and run them on your computer.\n",
    "\n",
    "### A0.2 Let's run a small program\n",
    "\n",
    "Click (once) on the cell below and press the *Run* button in the top toolbar to execute the Python code. Alternatively, you can press `Shift + Enter` to do the same thing!\n",
    "\n",
    "You should see the printed text below the cell."
   ]
  },
  {
   "cell_type": "code",
   "execution_count": null,
   "id": "6edfaa95",
   "metadata": {
    "id": "6edfaa95",
    "tags": [
     "remove"
    ]
   },
   "outputs": [],
   "source": [
    "print('Hello world!')"
   ]
  },
  {
   "cell_type": "markdown",
   "id": "e99559cc",
   "metadata": {
    "id": "e99559cc",
    "tags": [
     "remove"
    ]
   },
   "source": [
    "### A0.3 Cells\n",
    "\n",
    "Notebooks consist of cells. There are two types of cells: Code Cells and Markdown Cells. The former contain your software program (like the one above), the latter contain text, images, equations (like this one). Here's an equation we won't talk about in this class:\n",
    "\n",
    "$E=mc^2$"
   ]
  },
  {
   "cell_type": "markdown",
   "id": "5391519d",
   "metadata": {
    "id": "5391519d",
    "tags": [
     "remove"
    ]
   },
   "source": [
    "### A0.4 Working with cells\n",
    "\n",
    "#### Selecting cells\n",
    "Cells can be selected by clicking the white space to the left of the cell. When you click _inside_ a cell, you're editing it. You can tell by the colour of the left border: the current cell has a green border if you're editing a cell (\"edit mode\"), and a blue outline if you're in so-called \"command mode\". Let's try that out on a few cells.\n",
    "\n",
    "#### Adding cells\n",
    "You can add cells by clicking Insert > Insert Cell Below in the menu bar up top. Or by pressing the '+' icon in the menu bar, or by pressing `B` when in command mode.\n",
    "\n",
    "#### Changing the type of a cell\n",
    "Created cells are by default Code Cells, but can be changed into Markdown cells by clicking Cell > Cell Type > Markdown, or by pressing `M` while in command mode. We turn it back into a Code Cell by clicking Cell > Cell Type > Code, or by pressing `Y` while the cell is selected.\n",
    "\n",
    "Let's insert a cell below, and change it to Markdown. Type a few words, and then run it (just like you did with the code cell above). You can see it changes. \n",
    "\n",
    "#### Editing cells\n",
    "Now try to do the same with this cell (the one you're reading) -- double clicking for Markdown Cells lets you enter the edit mode, that is: look 'under the hood' and edit them. You can see that the header '1.1.4 Working with cells' is prefixed by three bangs (#), which creates the header lay-out, and that the key bindings are between backticks. The lay-out language in which this is done is called Markdown, and you can use it on the Discord forum as well. We will come back to some more Markdown basics next week!\n",
    "\n",
    "#### Moving cells around\n",
    "You can also move cells around. To do so, select them, and use the up and down arrows in the menu bar to more them up, resp. down. It's useful to know that this works for multiple cells at the same time, if you select multiple cells (with `Shift + Click`).\n",
    "\n",
    "#### Deleting cells\n",
    "Finally, let's delete the cell below again. To delete cells, you can select them and click Edit > Delete Cell, or selecting them and pressing `D` twice. "
   ]
  },
  {
   "cell_type": "markdown",
   "id": "0e1da7ce",
   "metadata": {
    "id": "0e1da7ce",
    "tags": [
     "remove"
    ]
   },
   "source": [
    "### A0.5 Writing and running Code Cells, Output\n",
    "\n",
    "#### Writing code cells\n",
    "Saving the best for last, let's have a look at how we use code cells in a little more detail. When we insert a code cell, it is empty. Clicking inside of the cell allows you to write and edit software code in the Python programming language inside of it. Think of it as giving highly specific, unambiguous instructions to a robot to carry out. \n",
    "\n",
    "The code cell we just ran above, reading:\n",
    "\n",
    "```python\n",
    "print('Hello world!')\n",
    "```\n",
    "\n",
    "tells the interpreter (the computer system 'interpreting' the Python commands) that it should print the string 'Hello world!' to it's output. \n",
    "\n",
    "#### Output\n",
    "That output is what you saw right below the code cell that we ran earlier, marked with `Out[1]` (the number is the number of times you've pressed 'Run' in a single sitting when running a notebook).\n",
    "\n",
    "But code cells can also output the outcome of operations (more about those in a bit!): the code cell below will hopefully give you the output you expect!\n",
    "\n",
    "#### Toggling and clearing output\n",
    "Sometimes you have a lot of output (e.g., if you extract and then print all adjectives in _A Song of Ice and Fire_). If it's too much (or so the kernel* thinks), you will get an annoyed message saying that there's too much output to be printed. However, the amount of output is often large, but not too large. In those cases, the notebook will by default print the output in a scrollable screen. \n",
    "\n",
    "You can toggle this by clicking the white space to the left of the output, which will make unroll the scrollable screen. Clicking it again with make it scrollable again. A lot of output might make your notebooks unreadable, so take some time to tidy up your output if it's a lot!\n",
    "\n",
    "If you want to get rid of the output, you can click Cell > Current Outputs > Clear. If you want to get rid of all the output, click Cell > All Output > Clear.\n",
    "\n",
    "Let's practice with this in the code cell two down:"
   ]
  },
  {
   "cell_type": "code",
   "execution_count": null,
   "id": "36dc411d",
   "metadata": {
    "id": "36dc411d",
    "tags": [
     "remove"
    ]
   },
   "outputs": [],
   "source": [
    "1 + 1"
   ]
  },
  {
   "cell_type": "code",
   "execution_count": null,
   "id": "09cb8811",
   "metadata": {
    "id": "09cb8811",
    "tags": [
     "remove"
    ]
   },
   "outputs": [],
   "source": [
    "for i in range(10):\n",
    "    print('ha' * i)"
   ]
  },
  {
   "cell_type": "markdown",
   "id": "4794b79c",
   "metadata": {
    "id": "4794b79c",
    "tags": [
     "remove"
    ]
   },
   "source": [
    "### A0.6 Interpreters, Servers, Kernels, and other friends in the programming business\n",
    "\n",
    "We just introduced the Interpreter: the software on the background reading out your Python commands and executing them. Each time you open a notebook, a new instantiation of the Python interpreter is started, which we call a Kernel. \n",
    "\n",
    "You can see the Kernel menu item in the top bar. It's useful to get acquainted with it -- sometimes your program 'hangs' and it's good to be able to interact with the kernel directly."
   ]
  },
  {
   "cell_type": "markdown",
   "id": "e7371a95",
   "metadata": {
    "id": "e7371a95",
    "tags": [
     "remove"
    ]
   },
   "source": [
    "#### Busy kernel\n",
    "When the kernel is 'in the process' of executing a piece of software code you selected to run, the `X` marker in `In [X]` to the left of the code cell turns to an asterisk `*`. This tells you that the cell is running. Another sign is that the little circle in the top-right (besides 'Python 3 (ipykernel)' is filled instead of open.\n",
    "\n",
    "For simple code like `1+1`, it will take the kernel only nanoseconds to carry out that command. However, more complex statements (like finding all adjectives in _A Song of Ice and Fire_) might take a little longer. "
   ]
  },
  {
   "cell_type": "markdown",
   "id": "3fce47b7",
   "metadata": {
    "id": "3fce47b7",
    "tags": [
     "remove"
    ]
   },
   "source": [
    "#### Stopping the kernel\n",
    "At times, you might worry that the program is never going to end, which is in fact possible. In that case, you can press the stop symbol (black square) or click Kernel > Interrupt. Sometimes that doesn't help, and the kernel is still running. In that case, you can use the Restart button (circular arrow), or click Kernel > Restart to restart the entire kernel. That will completely erase the memory of your interpreter, and allows you to start afresh!\n",
    "\n",
    "Let's try these things out on the (never-ending) program below. No panic if you don't understand this bit of code! We will get to its components later."
   ]
  },
  {
   "cell_type": "code",
   "execution_count": null,
   "id": "dd0efcfe",
   "metadata": {
    "id": "dd0efcfe",
    "tags": [
     "remove"
    ]
   },
   "outputs": [],
   "source": [
    "while 1==1:\n",
    "    pass"
   ]
  }
 ],
 "metadata": {
  "celltoolbar": "Tags",
  "colab": {
   "provenance": []
  },
  "kernelspec": {
   "display_name": "Python 3 (ipykernel)",
   "language": "python",
   "name": "python3"
  },
  "language_info": {
   "codemirror_mode": {
    "name": "ipython",
    "version": 3
   },
   "file_extension": ".py",
   "mimetype": "text/x-python",
   "name": "python",
   "nbconvert_exporter": "python",
   "pygments_lexer": "ipython3",
   "version": "3.11.2"
  }
 },
 "nbformat": 4,
 "nbformat_minor": 5
}
