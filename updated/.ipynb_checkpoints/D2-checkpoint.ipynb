{
 "cells": [
  {
   "cell_type": "markdown",
   "id": "12e2a823-f0e8-439e-a2aa-35a639b810f1",
   "metadata": {},
   "source": [
    "# Block D, lesson 2: Iteration\n",
    "\n",
    "Lists allow us to step through them, taking one element of the list at a time and doing something with it. Before we return to lists, let us introduce the key concept responsible for that kind of functionality, namely **repetition**\n",
    "\n",
    "(Recall that we had identified the following five major components of computer programming:\n",
    "* input (functions; parameters and arguments passed to parameters)\n",
    "* output (functions; `return` statements)\n",
    "* mathematical operations (variable assignment; arithmetic, boolean, logical operators)\n",
    "* conditional execution (`if` statements)\n",
    "* **repetition**)\n",
    "\n",
    "Our first steps into repetition, or **iteration** involve:\n",
    "* revisiting variable reassignment\n",
    "* and seeing how it's useful for **updating** variables\n",
    "* then seeing how update-able variables can be used to run `while` loops"
   ]
  },
  {
   "cell_type": "markdown",
   "id": "ef68ab49-fb6a-4528-9b49-328ad384e243",
   "metadata": {},
   "source": [
    "### D2.1 Reassignment (TP 7.1)\n",
    "\n",
    "* it is legal to make more than one assignment to the same variable. \n",
    "* a new assignment makes an existing variable refer to a new value \n",
    "* and stop referring to the old value.\n",
    "* let's try it out:\n",
    "```python\n",
    "x = 5\n",
    "print(x)\n",
    "x = 7\n",
    "print(x)\n",
    "```"
   ]
  },
  {
   "cell_type": "markdown",
   "id": "f7942c08-64dd-459c-bb82-f6bc995f54f6",
   "metadata": {},
   "source": [
    "### D2.2 Updating variables (TP 7.2)\n",
    "\n",
    "* **update**: a common kind of reassignment is an update\n",
    "* the new value of the variable depends on the old.\n",
    "* e.g. \"counter variables\", such as:\n",
    "\n",
    "```python\n",
    "x = x + 1\n",
    "```\n",
    "\n",
    "* this means: “get the current value of x, add one, and then update x to be the new value.”"
   ]
  },
  {
   "cell_type": "markdown",
   "id": "b7a84a20-6fe2-468d-843d-3424456d500a",
   "metadata": {},
   "source": [
    "#### (sidenote: errors!)\n",
    "* if you try to update a variable that doesn’t exist, you get an error\n",
    "* because Python evaluates the right side before it assigns a value to x:\n",
    "\n",
    "```python\n",
    "x = x + 1\n",
    "```\n",
    "`NameError: name 'x' is not defined`\n",
    "\n",
    "* before you can update a variable, you have to initialize it, usually with a simple assignment:\n",
    "\n",
    "```python\n",
    "x = 0\n",
    "x = x + 1\n",
    "```"
   ]
  },
  {
   "cell_type": "markdown",
   "id": "ce54a7ec-b6ac-49cc-b1c7-7ae4667d4bea",
   "metadata": {},
   "source": [
    "### D2.3 The `while` statement (TP 7.3). What is it?\n",
    "* repeating identical or similar tasks without making errors is something that computers do well\n",
    "* in a computer program, **repetition** is also called **iteration**.\n",
    "* because iteration is so common, Python provides language features to make it easier.\n",
    "* one is the `for` statement we will see shortly.\n",
    "* another is the `while` statement. \n",
    "\n",
    "* you can use a while statement, inside a function for instance, to do a countdown:\n",
    "```python\n",
    "def countdown(n):\n",
    "    while n > 0:\n",
    "        print(n)\n",
    "        n = n - 1\n",
    "    print('Blastoff!')\n",
    "```"
   ]
  },
  {
   "cell_type": "code",
   "execution_count": 1,
   "id": "56a77fb8-218c-4845-b492-2f386d8e047f",
   "metadata": {},
   "outputs": [],
   "source": [
    "def countdown(n):\n",
    "    while n > 0:\n",
    "        print(n)\n",
    "        n = n - 1\n",
    "    print('Blastoff!')"
   ]
  },
  {
   "cell_type": "code",
   "execution_count": 2,
   "id": "b7087088-894a-43d1-bbcc-538002f188c2",
   "metadata": {},
   "outputs": [
    {
     "name": "stdout",
     "output_type": "stream",
     "text": [
      "10\n",
      "9\n",
      "8\n",
      "7\n",
      "6\n",
      "5\n",
      "4\n",
      "3\n",
      "2\n",
      "1\n",
      "Blastoff!\n"
     ]
    }
   ],
   "source": [
    "countdown(10)"
   ]
  },
  {
   "cell_type": "markdown",
   "id": "d995a452-0842-41de-bced-0e8c928d2b2c",
   "metadata": {},
   "source": [
    "## step by step\n",
    "\n",
    "![image](while.jpg)"
   ]
  },
  {
   "cell_type": "markdown",
   "id": "640c9ac6-319d-4c86-a79a-32913d780595",
   "metadata": {},
   "source": [
    "### D2.4 Flow of execution:\n",
    "* in the abstract, here is the flow of execution for a while statement:\n",
    "    * determine whether the condition is true or false.\n",
    "    * if false, exit the `while` statement and continue execution at the next statement.\n",
    "    * if the condition is true, run the body and then go back to step 1.\n",
    "* this type of flow is called a **loop** because the third step loops back around to the top."
   ]
  },
  {
   "cell_type": "markdown",
   "id": "25f56725-c514-4d16-ad38-3c9de43170ce",
   "metadata": {},
   "source": [
    "#### (sidenote: Infinite loops):\n",
    "* the body of the loop should change the value of one or more variables \n",
    "* so that the condition becomes false eventually and the loop terminates. \n",
    "* otherwise the loop will repeat forever: an infinite loop. \n",
    "* in the case of countdown, we can prove that the loop terminates: \n",
    "    * if n is zero or negative, the loop never runs. \n",
    "    * otherwise, n gets smaller each time through the loop, \n",
    "    * so eventually we have to get to 0."
   ]
  },
  {
   "cell_type": "markdown",
   "id": "7bd38d2b",
   "metadata": {
    "id": "7bd38d2b"
   },
   "source": [
    "### D2.5 Traversing lists (TP 8.3)\n",
    "\n",
    "\n",
    "* A lot of computations involve processing a list one element at a time. \n",
    "* Often they \n",
    "    * start at the beginning, \n",
    "    * select each element in turn, \n",
    "    * do something to it, \n",
    "    * and continue until the end. \n",
    "* This pattern of processing is called a traversal. "
   ]
  },
  {
   "cell_type": "markdown",
   "id": "53fff8ad",
   "metadata": {
    "id": "53fff8ad"
   },
   "source": [
    "#### Traversal with a `while`-loop\n",
    "One way to write a traversal is with a while loop:\n",
    "\n",
    "```python\n",
    "fruit = ['apple', 'pear', 'banana', 'passionfruit']\n",
    "index = 0\n",
    "while index < len(fruit):\n",
    "    fruit_i = fruit[index]\n",
    "    print(fruit_i)\n",
    "    index = index + 1\n",
    "```"
   ]
  },
  {
   "cell_type": "code",
   "execution_count": null,
   "id": "d317b638",
   "metadata": {
    "id": "d317b638"
   },
   "outputs": [],
   "source": [
    "fruit = ['apple', 'pear', 'banana', 'passionfruit']\n",
    "index = 0\n",
    "while index < len(fruit):\n",
    "    fruit_i = fruit[index]\n",
    "    print(index, fruit_i)\n",
    "    index = index + 1"
   ]
  },
  {
   "cell_type": "markdown",
   "id": "23d54224",
   "metadata": {
    "id": "23d54224"
   },
   "source": [
    "#### How does it work?\n",
    "* This loop traverses the list and displays each element on a line by itself. \n",
    "* The loop condition is `index < len(fruit)`, \n",
    "    * so when index is equal to the length of the string, \n",
    "    * the condition is false, and the body of the loop doesn’t run. \n",
    "* The last element accessed is the one with the index len(fruit)-1\n",
    "\n",
    "#### NB: the element starting the list has index 0, not 1!!!"
   ]
  },
  {
   "cell_type": "markdown",
   "id": "74478d9b",
   "metadata": {
    "id": "74478d9b"
   },
   "source": [
    "#### Traversal with a `for` loop\n",
    "\n",
    "* Another, simpler, way to write a traversal is with a `for` loop:\n",
    "```python\n",
    "# we have the variable 'fruit' from previous code cells\n",
    "for fruit_i in fruit:\n",
    "    print(fruit_i)\n",
    "```\n",
    "* Each time through the loop, the next element in the list `fruit` is assigned to the variable `fruit_i`. \n",
    "* The loop continues until no characters are left."
   ]
  },
  {
   "cell_type": "code",
   "execution_count": null,
   "id": "77a513a9",
   "metadata": {
    "id": "77a513a9"
   },
   "outputs": [],
   "source": [
    "# we have the variable 'fruit' from previous code cells\n",
    "for fruit_i in fruit: # HEADER --> for VAR in LISTVAR:\n",
    "    print(fruit_i)    # BODY   -->     do something with VAR"
   ]
  },
  {
   "cell_type": "markdown",
   "id": "50d83b78",
   "metadata": {
    "id": "50d83b78"
   },
   "source": [
    "### D2.6 Changing lists (TP 10.2)\n",
    "\n",
    "* When the bracket operator appears on the **left side of an assignment**, it identifies the element of the list that will be assigned.\n",
    "* In the example below, the one-eth element of numbers, which used to be 123, is now 5."
   ]
  },
  {
   "cell_type": "code",
   "execution_count": null,
   "id": "afcc2302",
   "metadata": {
    "id": "afcc2302"
   },
   "outputs": [],
   "source": [
    "numbers = [42, 123, 73]\n",
    "numbers[1] = 5\n",
    "print(numbers)"
   ]
  },
  {
   "cell_type": "markdown",
   "id": "982c759a",
   "metadata": {
    "id": "982c759a"
   },
   "source": [
    "#### Loop-and-assign\n",
    "\n",
    "* A common way to change all values in a list in a consistent way is to combine the built-in functions `range` and `len`\n",
    "    * `len` tells you how many values there are in a list (or a string!)\n",
    "    * `range` creates a list of 0 up to (but excluding) the value of the first argument \n",
    "        * (below that's `len(numbers`))\n",
    "    * together, they let you iterate over all the indices of a list, so you can access (and assign!) them one by one\n",
    "* The loop below traverses the list and updates each element. \n",
    "* Each time through the loop `i` gets the index of the next element. \n",
    "* The assignment statement in the body uses `i` to \n",
    "    * read the old value of the element \n",
    "    * and to assign the new value."
   ]
  },
  {
   "cell_type": "code",
   "execution_count": null,
   "id": "853491ea",
   "metadata": {
    "id": "853491ea"
   },
   "outputs": [],
   "source": [
    "for i in range(len(numbers)):\n",
    "    numbers[i] = numbers[i] * 2\n",
    "print(numbers)"
   ]
  },
  {
   "cell_type": "markdown",
   "id": "7c1681e4",
   "metadata": {
    "id": "7c1681e4"
   },
   "source": [
    "#### Why doesn't this work?"
   ]
  },
  {
   "cell_type": "code",
   "execution_count": null,
   "id": "57ac2e03",
   "metadata": {
    "id": "57ac2e03"
   },
   "outputs": [],
   "source": [
    "for n in numbers:\n",
    "    n = n * 2\n",
    "print(numbers)"
   ]
  },
  {
   "cell_type": "markdown",
   "id": "e5914635",
   "metadata": {
    "id": "e5914635"
   },
   "source": [
    "## D2.7 Counting (TP 8.7)\n",
    "\n",
    "* The following program counts the number of times the letter a appears in a string:\n",
    "* Note that we're iterating over a string here: a string is a list of characters!\n",
    "```python\n",
    "word = 'banana'\n",
    "count = 0\n",
    "for letter in word:\n",
    "    if letter == 'a':\n",
    "        count = count + 1\n",
    "print(count)\n",
    "```\n",
    "* This program demonstrates another pattern of computation called a counter. \n",
    "* The variable `count` is initialized to 0 and then incremented each time an `a` is found. \n",
    "* When the loop exits, count contains the result—the total number of a’s."
   ]
  },
  {
   "cell_type": "code",
   "execution_count": null,
   "id": "ebc97684",
   "metadata": {
    "id": "ebc97684"
   },
   "outputs": [],
   "source": [
    "word = 'banana'\n",
    "count = 0\n",
    "for letter in word:\n",
    "    if letter == 'a':\n",
    "        count = count + 1\n",
    "    print(letter, count)\n",
    "print(count)"
   ]
  }
 ],
 "metadata": {
  "colab": {
   "provenance": []
  },
  "kernelspec": {
   "display_name": "Python 3 (ipykernel)",
   "language": "python",
   "name": "python3"
  },
  "language_info": {
   "codemirror_mode": {
    "name": "ipython",
    "version": 3
   },
   "file_extension": ".py",
   "mimetype": "text/x-python",
   "name": "python",
   "nbconvert_exporter": "python",
   "pygments_lexer": "ipython3",
   "version": "3.11.2"
  }
 },
 "nbformat": 4,
 "nbformat_minor": 5
}
