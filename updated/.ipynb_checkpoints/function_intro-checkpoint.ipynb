{
 "cells": [
  {
   "cell_type": "markdown",
   "id": "9bb8bc93",
   "metadata": {
    "id": "9bb8bc93",
    "tags": [
     "remove"
    ]
   },
   "source": [
    "# Block A, Lesson ???: introducing functions"
   ]
  },
  {
   "cell_type": "markdown",
   "id": "fe6c451f",
   "metadata": {
    "id": "fe6c451f",
    "tags": [
     "remove"
    ]
   },
   "source": [
    "### A?.1 Motivation\n",
    "\n",
    "Let's say you have a dataset of vowel formants in Hz, and you've plotted them all nice, but the plot looks much different from the experiment you're trying to replicate. You look a bit closer, and it turns out the paper you're reading used the [Bark scale](https://en.wikipedia.org/wiki/Bark_scale)! To see if your results match, you'd now need to go and convert every Hz value by hand, and that would take you hours.\n",
    "\n",
    "But wait! You know python; so you think to describe to the computer how to do the conversion for you.\n",
    "\n",
    "```python\n",
    "vowel = \"i\"\n",
    "f1 = 240\n",
    "f2 = 2400\n",
    "\n",
    "bark_f1 = (28.61 * f1) / (1960 + f1) - 0.53\n",
    "bark_f2 = (28.61 * f2) / (1960 + f2) - 0.53\n",
    "```\n",
    "\n",
    "Now you just need to change the values of `f1` and `f2` and your script will calculate the result for you automatically!\n",
    "\n",
    "This is *exactly* what a function is designed to do. It repeats some code you write on whatever new inputs you give it. In some ways, you can think of it like a script inside of another script."
   ]
  },
  {
   "cell_type": "markdown",
   "id": "b8dba662",
   "metadata": {},
   "source": [
    "### A?.2 Syntax\n",
    "\n",
    "That's all well and good, but how would we create a function? What does it look like? For our above example, it would look like:"
   ]
  },
  {
   "cell_type": "code",
   "execution_count": 4,
   "id": "69a94163",
   "metadata": {},
   "outputs": [],
   "source": [
    "def formants_to_bark(input1, input2):\n",
    "    output1 = (28.61 * input1) / (1960 + input1) - 0.53\n",
    "    output2 = (28.61 * input2) / (1960 + input2) - 0.53\n",
    "    \n",
    "    return output1, output2\n",
    "\n",
    "vowel = \"i\"\n",
    "f1 = 240\n",
    "f2 = 2400\n",
    "bark_f1, bark_f2 = formants_to_bark(f1, f2)\n",
    "print(bark_f1, bark_f2)"
   ]
  },
  {
   "cell_type": "markdown",
   "id": "f2b04286",
   "metadata": {},
   "source": [
    "We create functions using the `def` keyword. Afterwards, we put the function name, and then in parentheses we name the function inputs. These are variables, so we can name them whatever we want. Finally, we put a colon and start writing our script.\n",
    "\n",
    "```python\n",
    "def name_of_my_function(my_first_input, crazy_name, crazier_name):\n",
    "    ...\n",
    "```\n",
    "\n",
    "We also have this statement (remember what a statement is?) called a **return statement** which tells our function what the result of the calculation is, so that when we use the function it knows what the value of the function should be.\n",
    "\n",
    "```python\n",
    "return value_we_just_calculated\n",
    "```"
   ]
  },
  {
   "cell_type": "markdown",
   "id": "124f31f0",
   "metadata": {},
   "source": [
    "**Practice**\n",
    "\n",
    "In a code block below, define a function called `add` which takes two inputs called `x` and `y`, calculates `x + y`, and then returns the result of the calculation."
   ]
  },
  {
   "cell_type": "markdown",
   "id": "99261ae1",
   "metadata": {},
   "source": [
    "### A?.3 Reusability\n",
    "\n",
    "You may be starting to get the feeling that functions are useful *whenever* we have some code we want to reuse. This is a common philosophy in programming, and has spawned things such as DRY (don't repeat yourself), functional programming, and more quotes about the sin of copy-pasting than can be written here.\n",
    "\n",
    "So, where else in our script can we make a function?\n",
    "\n",
    "If we look for a little bit, we'll see that we're still repeating the actual calcuation twice, so lets pull that out into a new function.\n",
    "\n",
    "```python\n",
    "def freq_to_bark(freq):\n",
    "    bark = (28.61 * freq) / (1960 + freq) - 0.53\n",
    "    return bark\n",
    "```\n",
    "\n",
    "Now our whole script has been transformed into:\n",
    "\n",
    "```python\n",
    "def freq_to_bark(freq):\n",
    "    bark = (28.61 * freq) / (1960 + freq) - 0.53\n",
    "    return bark\n",
    "\n",
    "def formants_to_bark(f1, f2):\n",
    "    bark_f1 = freq_to_bark(f1)\n",
    "    bark_f2 = freq_to_bark(f2)\n",
    "    \n",
    "    return bark_f2, bark_f2\n",
    "\n",
    "vowel = \"i\"\n",
    "print(convert_to_bark(240, 2400))\n",
    "```\n",
    "\n",
    "You can imaging telling the computer that you want to run this function on every example from the dataset, and now you have a way *in your code* to do it."
   ]
  },
  {
   "cell_type": "code",
   "execution_count": null,
   "id": "8aba76af",
   "metadata": {},
   "outputs": [],
   "source": []
  }
 ],
 "metadata": {
  "celltoolbar": "Tags",
  "colab": {
   "provenance": []
  },
  "kernelspec": {
   "display_name": "Python 3 (ipykernel)",
   "language": "python",
   "name": "python3"
  },
  "language_info": {
   "codemirror_mode": {
    "name": "ipython",
    "version": 3
   },
   "file_extension": ".py",
   "mimetype": "text/x-python",
   "name": "python",
   "nbconvert_exporter": "python",
   "pygments_lexer": "ipython3",
   "version": "3.11.2"
  }
 },
 "nbformat": 4,
 "nbformat_minor": 5
}
