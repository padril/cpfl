{
 "cells": [
  {
   "cell_type": "markdown",
   "id": "0c04fb45",
   "metadata": {
    "id": "0c04fb45"
   },
   "source": [
    "# Block D, lesson 1: Lists\n",
    "\n",
    "### Block learning outcomes\n",
    "\n",
    "In this block, we will:\n",
    "* learn about **lists**: sequences of values that allow for iteration:\n",
    "* how they are assigned and changed\n",
    "* how you can retrieve a single value or multiple values from a list\n",
    "* how they are traversed with `while` loops\n",
    "* how they are traversed with `for` loops\n",
    "* and discuss several methods and operators pertaining to lists"
   ]
  },
  {
   "cell_type": "markdown",
   "id": "9062a4f9",
   "metadata": {
    "id": "9062a4f9"
   },
   "source": [
    "### D1.1 A list is a sequence (TP 10.1)\n",
    "\n",
    "* A list is a sequence of values.\n",
    "* You can create a list by enclosing a number (0+) of elements **between square brackets**, and **separated by commas** and zero or more spaces\n",
    "* Calling `type` on it will tell you that it's a list.\n",
    "\n",
    "```python\n",
    "[10,20,30]\n",
    "```"
   ]
  },
  {
   "cell_type": "code",
   "execution_count": null,
   "id": "42f5ab64",
   "metadata": {
    "id": "42f5ab64"
   },
   "outputs": [],
   "source": [
    "[10 , 20    , 30  ]"
   ]
  },
  {
   "cell_type": "code",
   "execution_count": null,
   "id": "40d8fe5b",
   "metadata": {
    "id": "40d8fe5b"
   },
   "outputs": [],
   "source": [
    "type([10,20,30])"
   ]
  },
  {
   "cell_type": "markdown",
   "id": "21799ff4",
   "metadata": {
    "id": "21799ff4"
   },
   "source": [
    "### D1.2 More examples of lists, list assignment\n",
    "* Lists are values themselves as well, that can be assigned to variables\n",
    "* Lists can contain multiple types of values\n",
    "* That means the following statement assigns the list `[10, 'b']` to the variable `best_list`\n",
    "    * note that spaces after the comma don't matter!\n",
    "* And the empty list `[]` to the variable `worst_list`\n",
    "\n",
    "```python\n",
    "best_list = [10, 'b']\n",
    "worst_list = []\n",
    "```"
   ]
  },
  {
   "cell_type": "code",
   "execution_count": null,
   "id": "dd2560ec",
   "metadata": {
    "id": "dd2560ec"
   },
   "outputs": [],
   "source": [
    "best_list = [10, 'b']\n",
    "worst_list = [ ]"
   ]
  },
  {
   "cell_type": "code",
   "execution_count": null,
   "id": "4f6bf7aa",
   "metadata": {
    "id": "4f6bf7aa"
   },
   "outputs": [],
   "source": [
    "print(best_list)"
   ]
  },
  {
   "cell_type": "code",
   "execution_count": null,
   "id": "4169fb3e",
   "metadata": {
    "id": "4169fb3e"
   },
   "outputs": [],
   "source": [
    "print(worst_list)"
   ]
  },
  {
   "cell_type": "markdown",
   "id": "d6611c1c",
   "metadata": {
    "id": "d6611c1c"
   },
   "source": [
    "#### (Aside: lists of lists)\n",
    "\n",
    "* You can even store other lists inside of lists\n",
    "* Even when they come from another variable\n",
    "\n",
    "```python\n",
    "my_np = ['NP', ['Det', 'N']]\n",
    "my_vp = ['V', my_np]\n",
    "print(my_vp)\n",
    "```"
   ]
  },
  {
   "cell_type": "code",
   "execution_count": null,
   "id": "86488e9a",
   "metadata": {
    "id": "86488e9a"
   },
   "outputs": [],
   "source": [
    "my_np = ['NP', ['Det', 'N']]\n",
    "my_vp = ['V', my_np]\n",
    "print(my_vp)"
   ]
  },
  {
   "cell_type": "markdown",
   "id": "3402e4b1",
   "metadata": {
    "id": "3402e4b1"
   },
   "source": [
    "### D1.3 Indexing\n",
    "\n",
    "* You can access the values of a list one at a time with the bracket operator\n",
    "* List values can be assigned to other variables too\n",
    "* The expression in brackets is called an index. \n",
    "* The index **indicates** which element in the sequence you want (hence the name)."
   ]
  },
  {
   "cell_type": "code",
   "execution_count": null,
   "id": "d96cc392",
   "metadata": {
    "id": "d96cc392"
   },
   "outputs": [],
   "source": [
    "fruit = ['apple', 'banana', 'cherry', 'date']"
   ]
  },
  {
   "cell_type": "code",
   "execution_count": null,
   "id": "cbc4e985",
   "metadata": {
    "id": "cbc4e985"
   },
   "outputs": [],
   "source": [
    "print(fruit[1])"
   ]
  },
  {
   "cell_type": "code",
   "execution_count": null,
   "id": "2ac765d3",
   "metadata": {
    "id": "2ac765d3"
   },
   "outputs": [],
   "source": [
    "fruit_x = fruit[1]\n",
    "print(fruit_x)"
   ]
  },
  {
   "cell_type": "markdown",
   "id": "6d906ff2",
   "metadata": {
    "id": "6d906ff2"
   },
   "source": [
    "#### Starting at zero\n",
    "\n",
    "* But you might not get what you expect here\n",
    "* For most people, the first value of the list in `fruit` is 'apple', not 'banana'\n",
    "* But for computer scientists, the index is an offset from the beginning of the string, \n",
    "* And the offset of the first letter is zero.\n",
    "* So, 'apple' is the 0th (zero-eth) value of `fruit`, and 'pear' is the 1st, and 'banana' is the 2nd, ..."
   ]
  },
  {
   "cell_type": "code",
   "execution_count": null,
   "id": "9e72e239",
   "metadata": {
    "id": "9e72e239"
   },
   "outputs": [],
   "source": [
    "fruit_x = fruit[0]\n",
    "print(fruit_x)"
   ]
  },
  {
   "cell_type": "markdown",
   "id": "86c19337",
   "metadata": {
    "id": "86c19337"
   },
   "source": [
    "#### More on indices\n",
    "\n",
    "* As an index you can use an expression that contains variables (ex 1) \n",
    "* And even variables and operators (ex 2)\n",
    "* But the value of the index has to be an integer. Otherwise you get the error of ex 3\n",
    "* The index can be negative! Then you start counting from the right: \n",
    "    * `[-1]` gets the last element, `[-2]` the second last, and so forth"
   ]
  },
  {
   "cell_type": "code",
   "execution_count": null,
   "id": "f3fefa74",
   "metadata": {
    "id": "f3fefa74"
   },
   "outputs": [],
   "source": [
    "i = 2\n",
    "print(fruit[i])"
   ]
  },
  {
   "cell_type": "code",
   "execution_count": null,
   "id": "3a2bbe2b",
   "metadata": {
    "id": "3a2bbe2b"
   },
   "outputs": [],
   "source": [
    "print(fruit[i+1])"
   ]
  },
  {
   "cell_type": "code",
   "execution_count": null,
   "id": "7577ccf1",
   "metadata": {
    "id": "7577ccf1"
   },
   "outputs": [],
   "source": [
    "print(fruit[1.5])"
   ]
  },
  {
   "cell_type": "code",
   "execution_count": null,
   "id": "8d6a4d54",
   "metadata": {
    "id": "8d6a4d54"
   },
   "outputs": [],
   "source": [
    "print(fruit[-4])"
   ]
  },
  {
   "cell_type": "markdown",
   "id": "2dcd2a94-20f9-4027-bf0f-c581da442545",
   "metadata": {},
   "source": [
    "### D1.4 List slices (TP 8.4, 10.5)\n",
    "\n",
    "* A **segment** of a list is called a slice. \n",
    "* Selecting a slice is similar to selecting a single value:"
   ]
  },
  {
   "cell_type": "code",
   "execution_count": null,
   "id": "0c3144fe-71c8-48a0-838a-5ad3e61f88db",
   "metadata": {},
   "outputs": [],
   "source": [
    "fruit = ['apple', 'banana', 'cherry', 'date']\n",
    "\n",
    "middle_fruit = fruit[1:-1]\n",
    "print(middle_fruit)"
   ]
  },
  {
   "cell_type": "markdown",
   "id": "15626b5a-fcda-4d45-b268-b80038b9c593",
   "metadata": {},
   "source": [
    "#### Behaviour of the slice operator\n",
    "\n",
    "* The operator [n:m] returns the part of the list from the “n-eth” value to the “m-eth” value, \n",
    "    * including the first \n",
    "    * but excluding the last. \n",
    "* If you omit the first index (before the colon), the slice starts at the beginning of the list. \n",
    "* If you omit the second index, the slice goes to the end of the list:\n",
    "* If the first index is greater than or equal to the second the result is an empty string `[]`\n",
    "\n",
    "Try out the following code cells to see:"
   ]
  },
  {
   "cell_type": "code",
   "execution_count": null,
   "id": "a08d520e-8df3-4aae-99bc-582f3477dee6",
   "metadata": {},
   "outputs": [],
   "source": [
    "fruit[100:]"
   ]
  },
  {
   "cell_type": "code",
   "execution_count": null,
   "id": "c9a2d98e-62ce-40c1-bdd9-7c550cece4ce",
   "metadata": {},
   "outputs": [],
   "source": [
    "fruit[:2]"
   ]
  },
  {
   "cell_type": "code",
   "execution_count": null,
   "id": "26e714a9-7c2a-47ef-a119-5772cc04757c",
   "metadata": {},
   "outputs": [],
   "source": [
    "fruit[1:3]"
   ]
  },
  {
   "cell_type": "code",
   "execution_count": null,
   "id": "08343227-b8b6-485d-b086-30fa58206b81",
   "metadata": {},
   "outputs": [],
   "source": [
    "fruit[:10]"
   ]
  }
 ],
 "metadata": {
  "colab": {
   "provenance": []
  },
  "kernelspec": {
   "display_name": "Python 3 (ipykernel)",
   "language": "python",
   "name": "python3"
  },
  "language_info": {
   "codemirror_mode": {
    "name": "ipython",
    "version": 3
   },
   "file_extension": ".py",
   "mimetype": "text/x-python",
   "name": "python",
   "nbconvert_exporter": "python",
   "pygments_lexer": "ipython3",
   "version": "3.11.2"
  }
 },
 "nbformat": 4,
 "nbformat_minor": 5
}
