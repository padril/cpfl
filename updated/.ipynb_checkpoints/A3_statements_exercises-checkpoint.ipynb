{
 "cells": [
  {
   "cell_type": "markdown",
   "id": "53482fc6",
   "metadata": {},
   "source": [
    "# A3 Exercises"
   ]
  },
  {
   "cell_type": "markdown",
   "id": "2f22d67e-72e3-4d72-a5bf-829946204ec4",
   "metadata": {},
   "source": [
    "### Question 1\n",
    "\n",
    "Which of the following is a statement?\n",
    "\n",
    "1 \n",
    "```Python\n",
    "spam = 10\n",
    "````\n",
    "2\n",
    "```Python\n",
    "'spam' + 'spam'\n",
    "````\n",
    "\n",
    "Assign the answer as an integer (i.e., `1` or `2`) to a variable called `q1`"
   ]
  },
  {
   "cell_type": "markdown",
   "id": "02bbe042-febb-49a7-9d78-7e0c0040f3c9",
   "metadata": {},
   "source": [
    "### Question 2\n",
    "\n",
    "Is the following an expression or a statement?\n",
    "\n",
    "```Python\n",
    "10\n",
    "````\n",
    "\n",
    "Assign the answer as a string to a variable called `q2`"
   ]
  },
  {
   "cell_type": "markdown",
   "id": "974bb9f8-cd21-493e-a549-b517119d2ccf",
   "metadata": {},
   "source": [
    "### Question 3\n",
    "\n",
    "What will be the output of the variable `spam` given the following statement?\n",
    "\n",
    "```Python\n",
    "spam = 10\n",
    "````\n",
    "\n",
    "Assign the answer to a variable called `q3`"
   ]
  },
  {
   "cell_type": "markdown",
   "id": "fa3622eb-0481-4b2a-8964-5ce22ded0821",
   "metadata": {},
   "source": [
    "### Question 4\n",
    "\n",
    "What will be the output of the following expression?\n",
    "\n",
    "```Python\n",
    "'spam' + 'spam'\n",
    "````\n",
    "\n",
    "Assign the answer to a variable called `q4`"
   ]
  },
  {
   "cell_type": "markdown",
   "id": "65eb0e0a-18c4-4bab-b3e5-76a76092ab86",
   "metadata": {},
   "source": [
    "### Question 5\n",
    "Set the value of the variable `q5` to be something which causes the following expression to result in an error message.\n",
    "\n",
    "```Python\n",
    "'I am ' + q5 + ' years old.'\n",
    "````"
   ]
  }
 ],
 "metadata": {
  "kernelspec": {
   "display_name": "Python 3 (ipykernel)",
   "language": "python",
   "name": "python3"
  },
  "language_info": {
   "codemirror_mode": {
    "name": "ipython",
    "version": 3
   },
   "file_extension": ".py",
   "mimetype": "text/x-python",
   "name": "python",
   "nbconvert_exporter": "python",
   "pygments_lexer": "ipython3",
   "version": "3.11.2"
  }
 },
 "nbformat": 4,
 "nbformat_minor": 5
}
