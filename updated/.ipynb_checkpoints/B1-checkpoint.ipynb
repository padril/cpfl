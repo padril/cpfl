{
 "cells": [
  {
   "cell_type": "markdown",
   "id": "c89047d6",
   "metadata": {
    "id": "c89047d6"
   },
   "source": [
    "# Block B, lesson 1: Boolean values and logical operators\n",
    "\n",
    "Recall the basic instructions that make up a computer program:\n",
    "\n",
    "* input: Get data from the keyboard, a file, the network, or some other device.\n",
    "* output: Display data on the screen, save it in a file, send it over the network, etc.\n",
    "* math: Perform basic mathematical operations like addition and multiplication.\n",
    "* conditional execution: Check for certain conditions and run the appropriate code.\n",
    "* repetition: Perform some action repeatedly, usually with some variation.\n",
    "\n",
    "In Block A we considered:\n",
    "* arithmetic statements\n",
    "* values\n",
    "* value types\n",
    "\n",
    "In Block D we will look at repetition. This block is concerned with: **conditional execution**: execute code **if** certain conditions are met.\n",
    "\n",
    "#### Learning outcome:\n",
    "* you will be able to write expressions and statements involving boolean values and logical operators\n",
    "\n",
    "#### Practice:\n",
    "* after finishing this notebook, practice with the exercises labeled `B1`.\n"
   ]
  },
  {
   "cell_type": "markdown",
   "id": "e84aeda9",
   "metadata": {
    "id": "e84aeda9"
   },
   "source": [
    "### B1.1 The `Bool` type and the boolean values `True` and `False`\n",
    "\n",
    "Python has another basic value type that we haven't explored yet, aside from strings, integers and floating point numbers, and that's the **Boolean value** type. There are only two boolean values: `True` and `False`, and they're useful when we're considering the truth of statements. Let's explore these types first:"
   ]
  },
  {
   "cell_type": "code",
   "execution_count": null,
   "id": "c7ee9785",
   "metadata": {
    "id": "c7ee9785"
   },
   "outputs": [],
   "source": [
    "False"
   ]
  },
  {
   "cell_type": "code",
   "execution_count": null,
   "id": "454b81ac",
   "metadata": {
    "id": "454b81ac"
   },
   "outputs": [],
   "source": [
    "True"
   ]
  },
  {
   "cell_type": "code",
   "execution_count": null,
   "id": "bb90c602",
   "metadata": {
    "id": "bb90c602"
   },
   "outputs": [],
   "source": [
    "type(True)"
   ]
  },
  {
   "cell_type": "markdown",
   "id": "2c47491e",
   "metadata": {
    "id": "2c47491e"
   },
   "source": [
    "### B1.2 Boolean expressions (TP 5.2)\n",
    "\n",
    "Boolean values primarily show up as the output of **boolean expressions**. A boolean expression is an expression that is either true or false. The following examples use the operator `==`, which compares two values and produces `True` if they are equal and `False` otherwise:\n",
    "\n",
    "```python\n",
    "5 == 5\n",
    "```\n",
    "`True`\n",
    "\n",
    "```python\n",
    "5 == 6\n",
    "```\n",
    "False"
   ]
  },
  {
   "cell_type": "markdown",
   "id": "0ace6c8f",
   "metadata": {
    "id": "0ace6c8f"
   },
   "source": [
    "The `==` operator is one of the relational operators; the others are:\n",
    "\n",
    "*      `x != y`               # x is not equal to y;\n",
    "*      `x > y`                # x is greater than y;\n",
    "*      `x < y`                # x is less than y;\n",
    "*      `x >= y`               # x is greater than or equal to y;\n",
    "*      `x <= y`               # x is less than or equal to y;\n",
    "\n",
    "Although these operations are probably familiar to you, the Python symbols are different from the corresponding mathematical symbols: $\\neq$, $>$, $<$, $\\geq$, $\\leq$."
   ]
  },
  {
   "cell_type": "markdown",
   "id": "8f2bb6a2",
   "metadata": {
    "id": "8f2bb6a2"
   },
   "source": [
    "A **common error** is to use a single equal sign (=) instead of a double equal sign (==). Remember that = is the **assignment operator** and == is a **boolean relational operator** evaluating identity."
   ]
  },
  {
   "cell_type": "markdown",
   "id": "5a0d48ce",
   "metadata": {
    "id": "5a0d48ce"
   },
   "source": [
    "### B1.3 Logical operators (TP 5.3)\n",
    "\n",
    "There are three logical operators: `and`, `or`, and `not`. The semantics (meaning) of these operators is similar to their meaning in English (in fact, to first-order logic if you're familiar with that). For example, \n",
    "\n",
    "```python \n",
    "x > 0 and x < 10\n",
    "```\n",
    "\n",
    "is `True` if and only if `x` is greater than 0 and less than 10.\n",
    "\n",
    "```python\n",
    "n%2 == 0 or n%3 == 0\n",
    "```\n",
    "is `True` if either or both of the conditions is `True`, that is, if the number is divisible by 2 or 3.\n",
    "\n",
    "Finally, the `not` operator negates a boolean expression, so \n",
    "\n",
    "```python\n",
    "not (x > y)\n",
    "```\n",
    "is `True` if `x > y` is `False`, that is, if `x` is less than or equal to `y`."
   ]
  },
  {
   "cell_type": "markdown",
   "id": "53cbb46b",
   "metadata": {
    "id": "53cbb46b"
   },
   "source": [
    "### B1.4 Combining operators: using parentheses!\n",
    "\n",
    "Just like with arithmetical expressions, boolean expressions have an order of precedence as well. Just like with arithmetical expressions, it's better to use parentheses to identify the order of precedence.\n",
    "\n",
    "Let's look at the expression below. It has two interpretations, which lead to different outcomes. Let's discuss them and then analyze how the two interpretations correspond to a different parenthesis assignment."
   ]
  },
  {
   "cell_type": "code",
   "execution_count": null,
   "id": "03f6d2bb",
   "metadata": {
    "id": "03f6d2bb"
   },
   "outputs": [],
   "source": [
    "x = False\n",
    "y = False\n",
    "z = True\n",
    "x and y or z"
   ]
  },
  {
   "cell_type": "markdown",
   "id": "cafcd16b",
   "metadata": {
    "id": "cafcd16b"
   },
   "source": [
    "### B1.5 A quirk with booleans and integers (and floats)\n",
    "\n",
    "Strictly speaking, the operands of the logical operators should be boolean expressions, but Python is not very strict. Any nonzero number is interpreted as True:\n",
    "\n",
    "```python\n",
    "42 and True\n",
    "```\n",
    "`True`\n",
    "\n",
    "But that doesn't mean that any nonzero number **is** the value True\n",
    "\n",
    "```python\n",
    "42 == True\n",
    "```\n",
    "`False`\n",
    "\n",
    "Only `1` is...\n",
    "\n",
    "```python\n",
    "1 == True\n",
    "```\n",
    "`True`\n",
    "\n",
    "And, for completeness, `0` is the same value as `False`\n",
    "```python\n",
    "0 == False\n",
    "```\n",
    "`True`\n",
    "\n",
    "This flexibility can be useful, but it might be confusing. You might want to avoid it (unless you know what you are doing)."
   ]
  },
  {
   "cell_type": "markdown",
   "id": "4b5d1aee",
   "metadata": {
    "id": "4b5d1aee"
   },
   "source": [
    "### B1.6 Sidenote: keyboard input (TP 5.11)\n",
    "\n",
    "The programs we have written so far accept no input from the user. They just do the same thing every time.\n",
    "\n",
    "Python provides a built-in function called input that stops the program and waits for the user to type something. In Notebooks, a field will show up in the output bar for you to type your input in. When the user presses Return or Enter, the program resumes and input returns what the user typed as a string.\n",
    "\n",
    "``` python\n",
    "text = input()\n",
    "```\n",
    "What are you waiting for?\n",
    "\n",
    "``` python\n",
    "print(text)\n",
    "```\n",
    "will print `'What are you waiting for?`\n",
    "\n",
    "Before getting input from the user, it is a good idea to print a prompt telling the user what to type. `input` can take a prompt as an argument (more about functions and arguments later!):\n",
    "\n",
    "``` python\n",
    "name = input('What...is your name?\\n')\n",
    "```\n",
    "\n",
    "The sequence `\\n` at the end of the prompt represents a newline, which is a special character that causes a line break. That’s why the user's input appears below the prompt.\n",
    "\n",
    "If you expect the user to type an integer, you can try to convert the return value to int using the `int()` function:\n",
    "\n",
    "``` python\n",
    "prompt = 'What...is the airspeed velocity of an unladen swallow?\\n'\n",
    "speed = input(prompt)\n",
    "```\n",
    "What...is the airspeed velocity of an unladen swallow?\n",
    "\n",
    "If the user types 42, `int(speed)` will return the integer 42. But if the user types something other than a string of digits, you get an error (`ValueError: invalid literal for int() with base 10`). \n",
    "\n",
    "Try it out in the code cell below!"
   ]
  }
 ],
 "metadata": {
  "colab": {
   "provenance": []
  },
  "kernelspec": {
   "display_name": "Python 3 (ipykernel)",
   "language": "python",
   "name": "python3"
  },
  "language_info": {
   "codemirror_mode": {
    "name": "ipython",
    "version": 3
   },
   "file_extension": ".py",
   "mimetype": "text/x-python",
   "name": "python",
   "nbconvert_exporter": "python",
   "pygments_lexer": "ipython3",
   "version": "3.11.2"
  }
 },
 "nbformat": 4,
 "nbformat_minor": 5
}
