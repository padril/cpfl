{
 "cells": [
  {
   "cell_type": "markdown",
   "id": "caeb7580-dc95-4615-81a5-57e2fc45d9bc",
   "metadata": {},
   "source": [
    "### Question 1\n",
    "What value will the following expression give?\n",
    "\n",
    "```Python\n",
    "'boo' * 2\n",
    "````\n",
    "\n",
    "Create a code cell and assign the answer to a variable called `q1`"
   ]
  },
  {
   "cell_type": "markdown",
   "id": "5ef4acfc-4d18-4009-95fe-876ab682709e",
   "metadata": {},
   "source": [
    "### Question 2\n",
    "\n",
    "Use Python to calulate the area of a rectangle with length of 3 and width of 13. Store the length in a variable called `length` and the width in a variable called `width`. Use these two variables to assigning the area to the variable ` q2`"
   ]
  },
  {
   "cell_type": "markdown",
   "id": "e8b71e08-24b5-409e-a748-7d0657227939",
   "metadata": {},
   "source": [
    "### Question 3\n",
    "\n",
    "The following statement produces an error message because the variable name is not valid. Change the name of the variable by removing only the part of the name that produces the error.\n",
    "\n",
    "```Python\n",
    "number= = 100\n",
    "```\n",
    "\n",
    "Store the new variable name as a String in a variable called `q3`"
   ]
  },
  {
   "cell_type": "markdown",
   "id": "fc76352c-c1eb-4100-be2c-53093213c417",
   "metadata": {},
   "source": [
    "### Question 4\n",
    "\n",
    "What is the value of `count` after executing the following code block?\n",
    "\n",
    "````python\n",
    "\n",
    "count = 10\n",
    "\n",
    "count -= -4\n",
    "count -= 1\n",
    "count -= 3\n",
    "````\n",
    "\n",
    "Assign your answer as an integer to `q4`."
   ]
  },
  {
   "cell_type": "markdown",
   "id": "6dd271cb-56aa-48cd-b148-ec66edafb8a1",
   "metadata": {},
   "source": [
    "### Question 5\n",
    "\n",
    "Is the following an expression or a statement?\n",
    "\n",
    "```Python\n",
    "n = 2\n",
    "````\n",
    "\n",
    "Assign the answer as a string to a variable called `q5`"
   ]
  }
 ],
 "metadata": {
  "kernelspec": {
   "display_name": "Python 3 (ipykernel)",
   "language": "python",
   "name": "python3"
  },
  "language_info": {
   "codemirror_mode": {
    "name": "ipython",
    "version": 3
   },
   "file_extension": ".py",
   "mimetype": "text/x-python",
   "name": "python",
   "nbconvert_exporter": "python",
   "pygments_lexer": "ipython3",
   "version": "3.11.2"
  }
 },
 "nbformat": 4,
 "nbformat_minor": 5
}
