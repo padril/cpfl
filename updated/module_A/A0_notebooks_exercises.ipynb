{
 "cells": [
  {
   "cell_type": "markdown",
   "id": "49bbf419",
   "metadata": {
    "tags": [
     "remove"
    ]
   },
   "source": [
    "# A0 Exercises\n",
    "\n",
    "Practice with the basics of notebooks some more! Here are a couple of things you can try to do:\n",
    "\n",
    "-    create a code cell that carries out the arithmetic operation of subtracting seven from four, and run it.\n",
    "-    change that code cell into a markdown cell, and run it (what changes?).\n",
    "-    create a new markdown cell with the header '1.1.8 My Secret Notebook Section'.\n",
    "-    change that markdown cell into a code cell, and run it (what happens?).\n",
    "-    run the code cell above again, and interrupt it.\n",
    "-    restart the kernel\n",
    "-    clear all outputs"
   ]
  },
  {
   "cell_type": "markdown",
   "id": "4c77f7e3",
   "metadata": {},
   "source": [
    "### The Autograder\n",
    "\n",
    "> Insert some exercise that teaches people how to use the autograder, maybe add a bit closer to when the autograder is polished and we've decided the exact workflow.\n",
    "\n",
    "In the code cell below, change False to True. The autograder can be finicky, and you must be exact with certain naming conventions, so do not change anything else.\n"
   ]
  },
  {
   "cell_type": "code",
   "execution_count": 1,
   "id": "f00a119d",
   "metadata": {},
   "outputs": [],
   "source": [
    "give_me_the_password = False"
   ]
  }
 ],
 "metadata": {
  "celltoolbar": "Tags",
  "kernelspec": {
   "display_name": "Python 3 (ipykernel)",
   "language": "python",
   "name": "python3"
  },
  "language_info": {
   "codemirror_mode": {
    "name": "ipython",
    "version": 3
   },
   "file_extension": ".py",
   "mimetype": "text/x-python",
   "name": "python",
   "nbconvert_exporter": "python",
   "pygments_lexer": "ipython3",
   "version": "3.11.2"
  }
 },
 "nbformat": 4,
 "nbformat_minor": 5
}
