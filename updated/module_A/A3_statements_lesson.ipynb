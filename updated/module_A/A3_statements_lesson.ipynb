{
 "cells": [
  {
   "cell_type": "markdown",
   "id": "0f0617ef",
   "metadata": {
    "tags": [
     "remove"
    ]
   },
   "source": [
    "# Block A, Lesson 3: some further basic ingredients\n",
    "\n",
    "This final lesson deals with some further concepts that are useful in learning to program.\n",
    "\n",
    "### Learning Outcomes\n",
    "* what **expressions and statements** are (TP 2.3)\n",
    "* how to add **comments** to your code (TP 2.7)\n",
    "* how to read some common **error messages** (TP 2.8)"
   ]
  },
  {
   "cell_type": "markdown",
   "id": "53cb4d81",
   "metadata": {
    "tags": [
     "remove"
    ]
   },
   "source": [
    "### A3.1  Expressions\n",
    "\n",
    "We've been using the term 'operation' loosely. Python distinguishes two kinds of operations: expressions and statements.\n",
    "\n",
    "(TP 2.3): An **expression** is a combination of values, variables, and operators. A value all by itself is considered an expression, and so is a variable, so the following are all legal expressions:\n",
    "\n",
    "```python \n",
    "42\n",
    "```\n",
    "will output `42`\n",
    "\n",
    "```python\n",
    "n\n",
    "```\n",
    "will output `20` (after running the last practice example, at least! otherwise `n` doesn't exist!)\n",
    "\n",
    "and:\n",
    "```python\n",
    "n + 25\n",
    "```\n",
    "will output `45`\n",
    "\n",
    "When you type an expression in a code cell and run the code cell, the interpreter evaluates it, which means that it **finds the value of the expression**. In this example, `n` has the value `20` and `n + 25` has the value `45`. As we saw before, we can store the output of an expression in a new variable."
   ]
  },
  {
   "cell_type": "markdown",
   "id": "65a2e387",
   "metadata": {
    "tags": [
     "remove"
    ]
   },
   "source": [
    "### A3.2 Statements\n",
    "\n",
    "A **statement** is a unit of code that has an effect, like creating a variable or displaying a value. Here are two examples of statements\n",
    "\n",
    "```python\n",
    "n = 17\n",
    "print(n)\n",
    "```\n",
    "\n",
    "The first line is an assignment statement that gives a value to `n`. The second line is a `print()` statement that displays the value of `n`. Note that that's not the same thing as evaluating an expression!\n",
    "\n",
    "When you type a statement, the interpreter executes it, which means that it does whatever the statement says. In general, statements don’t produce new values: see what the value of `my_print` is after running the code below:\n",
    "\n",
    "```python\n",
    "my_print = print(10+5)\n",
    "```"
   ]
  },
  {
   "cell_type": "markdown",
   "id": "e678001c",
   "metadata": {
    "tags": [
     "remove"
    ]
   },
   "source": [
    "### A3.3 Adding comments to your code\n",
    "\n",
    "(TP 2.7) As programs get bigger and more complicated, they get more difficult to read. Programming languages can be dense, and it is often difficult to look at a piece of code and figure out what it is doing, or why.\n",
    "\n",
    "For this reason, it is a good idea to add notes to your programs to explain in natural language what the program is doing. These notes are called comments, and they start with the `#` symbol:\n",
    "\n",
    "```python\n",
    "# compute the percentage of the hour that has elapsed\n",
    "percentage = (minute * 100) / 60\n",
    "```\n",
    "In this case, the comment appears on a line by itself. You can also put comments at the end of a line:\n",
    "\n",
    "```python\n",
    "percentage = (minute * 100) / 60     # percentage of an hour\n",
    "```\n",
    "\n",
    "Everything from the `#` to the end of the line is ignored—it has no effect on the execution of the program.\n",
    "\n",
    "Comments are most useful when they document non-obvious features of the code. It is reasonable to assume that the reader can figure out what the code does; it is more useful to explain why.\n",
    "\n",
    "This comment is redundant with the code and useless:\n",
    "```python\n",
    "v = 5     # assign 5 to v\n",
    "```\n",
    "This comment contains useful information that is not in the code:\n",
    "\n",
    "```python\n",
    "v = 5     # velocity in meters/second. \n",
    "```\n",
    "Good variable names can reduce the need for comments, but long names can make complex expressions hard to read, so there is a tradeoff.\n",
    "#### Practice\n",
    "Take the evil laughter code from before, and write one comment for each line describing what that line does."
   ]
  },
  {
   "cell_type": "markdown",
   "id": "3c4a8b0f",
   "metadata": {
    "tags": [
     "remove"
    ]
   },
   "source": [
    "Another way of adding comments is by using triple-apostrophes. This way of creating comments is, however, meant for the description of what a **function** does, and is called a **docstring**. We will come back to them in module C, but their basic syntax is as follows:\n",
    "\n",
    "```python\n",
    "# this is how you should write a comment\n",
    "''' this will work as well, but it's not proper'''\n",
    "print(10)\n",
    "```\n",
    "\n",
    "Run the code below and see what happens: the kernel ignores both the line starting with `#` as well as the one starting with `'''`, but it will execute the `print` statement."
   ]
  },
  {
   "cell_type": "markdown",
   "id": "1c9cd907",
   "metadata": {
    "tags": [
     "remove"
    ]
   },
   "source": [
    "### A3.4 Errors\n",
    "\n",
    "Three kinds of errors can occur in a program: syntax errors, runtime errors, and semantic errors. It is useful to distinguish between them in order to track them down more quickly.\n",
    "\n",
    "**Syntax error**:\n",
    "“Syntax” refers to the structure of a program and the rules about that structure. For example, parentheses have to come in matching pairs, so (1 + 2) is legal, but 8) is a syntax error.\n",
    "If there is a syntax error anywhere in your program, Python displays an error message and quits, and you will not be able to run the program. During the first few weeks of your programming career, you might spend a lot of time tracking down syntax errors. As you gain experience, you will make fewer errors and find them faster.\n",
    "\n",
    "**Runtime error**:\n",
    "The second type of error is a runtime error, so called because the error does not appear until after the program has started running. These errors are also called exceptions because they usually indicate that something exceptional (and bad) has happened.\n",
    "Runtime errors are rare in the simple programs you will see in the first few chapters, so it might be a while before you encounter one.\n",
    "\n",
    "**Semantic error**:\n",
    "The third type of error is “semantic”, which means related to meaning. If there is a semantic error in your program, it will run without generating error messages, but it will not do the right thing. It will do something else. Specifically, it will do what you told it to do.\n",
    "Identifying semantic errors can be tricky because it requires you to work backward by looking at the output of the program and trying to figure out what it is doing."
   ]
  },
  {
   "cell_type": "markdown",
   "id": "b019c62f",
   "metadata": {
    "tags": [
     "remove"
    ]
   },
   "source": [
    "#### Practice\n",
    "\n",
    "Whenever you are experimenting with a new feature, you should try to make mistakes. For example, in the “Hello, world!” program, what happens if you leave out one of the quotation marks? What if you leave out both? What if you spell print wrong?\n",
    "\n",
    "This kind of experiment helps you remember what you read; it also helps when you are programming, because you get to know what the error messages mean. Try performing all of the experiments suggested in the comments in the code cell below.\n"
   ]
  },
  {
   "cell_type": "code",
   "execution_count": 1,
   "id": "424e8760",
   "metadata": {
    "collapsed": true,
    "tags": [
     "remove"
    ]
   },
   "outputs": [
    {
     "name": "stdout",
     "output_type": "stream",
     "text": [
      "Hello, Jon\n",
      "Apologies for the deception.\n",
      "-2\n",
      "4\n",
      "9\n",
      "11\n",
      "68\n"
     ]
    }
   ],
   "source": [
    "# In a print statement, what happens if you leave out one of the parentheses, or both?\n",
    "print(\"Hello, Jon\")\n",
    "\n",
    "# If you are trying to print a string, what happens if you leave out one of the quotation marks, or both?\n",
    "print(\"Apologies for the deception.\")\n",
    "\n",
    "# You can use a minus sign to make a negative number like -2. \n",
    "# What happens if you put a plus sign before a number?\n",
    "print(-2)\n",
    "\n",
    "# What about 2++2?\n",
    "print(2 + 2)\n",
    "\n",
    "# In math notation, leading zeros are ok, as in 09. What happens if you try this in Python? \n",
    "print(9)\n",
    "\n",
    "# What about 011?\n",
    "print(11)\n",
    "\n",
    "# What happens if you have two values with no operator between them?\n",
    "print(42 + 26)"
   ]
  },
  {
   "cell_type": "markdown",
   "id": "b3ea610a",
   "metadata": {
    "tags": [
     "remove"
    ]
   },
   "source": [
    "Now lets try some more. This time, the errors have already been made, and its your job to fix them. Try getting used to reading the error messages Python gives you, and rewrite them in your own words in comments."
   ]
  },
  {
   "cell_type": "code",
   "execution_count": 1,
   "id": "7dc28049",
   "metadata": {
    "tags": [
     "remove"
    ]
   },
   "outputs": [
    {
     "ename": "SyntaxError",
     "evalue": "cannot assign to literal here. Maybe you meant '==' instead of '='? (1771390474.py, line 2)",
     "output_type": "error",
     "traceback": [
      "\u001b[0;36m  Cell \u001b[0;32mIn [1], line 2\u001b[0;36m\u001b[0m\n\u001b[0;31m    42 = n\u001b[0m\n\u001b[0m    ^\u001b[0m\n\u001b[0;31mSyntaxError\u001b[0m\u001b[0;31m:\u001b[0m cannot assign to literal here. Maybe you meant '==' instead of '='?\n"
     ]
    }
   ],
   "source": [
    "\n",
    "# n = 42 is legal, what about the reverse?\n",
    "42 = n\n",
    "\n",
    "# We can put two assignments together on the same line\n",
    "x = y = 1\n",
    "# But can we use parentheses? Why or why not?\n",
    "x = (y = 1)\n",
    "\n",
    "# In some languages every statement ends with a semi-colon, ;. We can do this in Python to (but it's optional)\n",
    "print(\"Foo\");\n",
    "# What if you put a period at the end of a statement?\n",
    "print(\"Bar\").\n",
    "\n",
    "# In math notation you can multiply x and y like this: x y. How would we do this in python?\n",
    "x y"
   ]
  }
 ],
 "metadata": {
  "celltoolbar": "Tags",
  "kernelspec": {
   "display_name": "Python 3 (ipykernel)",
   "language": "python",
   "name": "python3"
  },
  "language_info": {
   "codemirror_mode": {
    "name": "ipython",
    "version": 3
   },
   "file_extension": ".py",
   "mimetype": "text/x-python",
   "name": "python",
   "nbconvert_exporter": "python",
   "pygments_lexer": "ipython3",
   "version": "3.11.2"
  }
 },
 "nbformat": 4,
 "nbformat_minor": 5
}
