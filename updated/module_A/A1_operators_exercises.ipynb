{
 "cells": [
  {
   "cell_type": "markdown",
   "id": "ed8cfb94",
   "metadata": {},
   "source": [
    "# A1 Exercises\n",
    "\n",
    "<div class=\"alert alert-block alert-warning\">\n",
    "<b>Only attempt these</b> after you've completed lesson A2 (Variables) as well, since you'll need some machinery from there.\n",
    "</div>"
   ]
  },
  {
   "cell_type": "markdown",
   "id": "048e8b6a",
   "metadata": {},
   "source": [
    "### Question 1\n",
    "\n",
    "What value will the following expression give?\n",
    "\n",
    "```Python\n",
    "9%2\n",
    "```\n",
    "\n",
    "Create a code cell and assign the answer to a variable called `q1`"
   ]
  },
  {
   "cell_type": "markdown",
   "id": "7d52fa7d",
   "metadata": {},
   "source": [
    "### Question 2\n",
    "\n",
    "What value will the following expression give?\n",
    "\n",
    "```Python\n",
    "9//2\n",
    "````\n",
    "Create a code cell and assign the answer to a variable called `q2`"
   ]
  },
  {
   "cell_type": "markdown",
   "id": "047dfb62",
   "metadata": {},
   "source": [
    "### Question 3\n",
    "What value will the following expression give?\n",
    "\n",
    "```Python\n",
    "9.0%2\n",
    "````\n",
    "\n",
    "Create a code cell and assign the answer to a variable called `q3`"
   ]
  },
  {
   "cell_type": "markdown",
   "id": "f89298e0",
   "metadata": {},
   "source": [
    "### Question 4\n",
    "\n",
    "What value will the following expression give?\n",
    "\n",
    "```Python\n",
    "9//-2\n",
    "````\n",
    "Create a code cell and assign the answer to a variable called `q4`"
   ]
  },
  {
   "cell_type": "markdown",
   "id": "baad799c",
   "metadata": {},
   "source": [
    "### Question 5\n",
    "\n",
    "If `x` has a negative value like the one below, what happens when we add x to another value?\n",
    "\n",
    "```python\n",
    "x = -17\n",
    "````\n",
    "\n",
    "What is the value of `5+x`?\n",
    "Create a code cell and assign the answer to a variable called `q5`"
   ]
  },
  {
   "cell_type": "markdown",
   "id": "35d63330",
   "metadata": {},
   "source": [
    "### Question 6\n",
    "\n",
    "Suppose the cover price of a book is \\\\$24.95, but bookstores get a 40\\% discount. Shipping costs $3 for the first copy and 75 cents for each additional copy. What is the total wholesale cost for 60 copies?\n",
    "\n",
    "Create a code cell and assign the answer to a variable called `q6`"
   ]
  },
  {
   "cell_type": "markdown",
   "id": "d498276d-cf99-4d8c-84cd-50dd6c643ef7",
   "metadata": {},
   "source": [
    "## Question 7\n",
    "\n",
    "Use Python to calulate the area of a rectangle with length of 4 and width of 60. Store the output in a variable called `q7`"
   ]
  },
  {
   "cell_type": "markdown",
   "id": "09a73755-1c68-4f78-ab90-661effcb548d",
   "metadata": {},
   "source": [
    "## Question 8\n",
    "\n",
    "What do you expect to be the output of this calculation: \n",
    "\n",
    "```python\n",
    "10*10.0\n",
    "```\n",
    "\n",
    "Store your answer in a variable called q8"
   ]
  },
  {
   "cell_type": "markdown",
   "id": "85cb90df-cbcd-4010-96c2-f809e3ad06ca",
   "metadata": {},
   "source": [
    "## Question 9\n",
    "\n",
    "What is the output of this calculation?\n",
    "\n",
    "```python\n",
    "(10*3)%5\n",
    "```\n",
    "\n",
    "Store your answer in a variable called `q9`"
   ]
  },
  {
   "cell_type": "markdown",
   "id": "7adce28f-b381-42c8-be1e-37ab2e174a66",
   "metadata": {},
   "source": [
    "## Question 10\n",
    "\n",
    "What is the output of these calculations?\n",
    "\n",
    "```python\n",
    "4.0%2\n",
    "```\n",
    "\n",
    "Store your answer in a variable called `q10`"
   ]
  },
  {
   "cell_type": "markdown",
   "id": "db549d32-e9ff-45e2-9d16-10cd290ccc27",
   "metadata": {},
   "source": [
    "## Question 11\n",
    "\n",
    "What is the data type of the following value: `\"Linguistics is cool\"`  \n",
    "Please assign your answer as a String variable to `q11`.\n",
    "E.g. `q11 = \"int\"`\n",
    "\n",
    "The possible answers are \"str\", \"int\", \"bool\", \"float\", and \"NoneType\"."
   ]
  },
  {
   "cell_type": "markdown",
   "id": "1b4be6e1-389c-4a19-b098-be4987a5c4db",
   "metadata": {},
   "source": [
    "## Question 12\n",
    "\n",
    "What is the data type of the following value: `False`  \n",
    "Please assign your answer as a String variable to `q12`.\n",
    "\n",
    "E.g. `q12 = \"int\"`\n",
    "\n",
    "The possible answers are \"str\", \"int\", \"bool\", \"float\", and \"NoneType\"."
   ]
  },
  {
   "cell_type": "markdown",
   "id": "97e19243-af6b-4bd4-832f-abf428a92dbb",
   "metadata": {},
   "source": [
    "## Question 13\n",
    "\n",
    "Consider a variable that represents the total cost of a shopping trip in dollars and cents.\n",
    "\n",
    "What type should its value be?\n",
    "\n",
    "NOTE: Please assign your answer as a String variable to `q13`. \n",
    "E.g. `q13 = \"int\"`\n",
    "\n",
    "The possible answers are \"str\", \"int\", \"bool\", \"float\", and \"NoneType\"."
   ]
  },
  {
   "cell_type": "markdown",
   "id": "5b1bbf71-dfec-496a-a7c3-f7f5f375157b",
   "metadata": {},
   "source": [
    "## Question 14\n",
    "\n",
    "Combine the integer `7`and the string `'years'` into a string `'7years'` stored in a variable called `q14`."
   ]
  },
  {
   "cell_type": "markdown",
   "id": "652f8dda-98d6-4f39-9a38-51b7913dfb8f",
   "metadata": {},
   "source": [
    "## Question 15\n",
    "\n",
    "Convert the value in `number` into an integer and store it in a variable `integer`, then convert the value in `integer` into an integer and store it in a variable `q15`.\n",
    "\n",
    "```Python\n",
    "number = -4.3\n",
    "```"
   ]
  }
 ],
 "metadata": {
  "kernelspec": {
   "display_name": "Python 3 (ipykernel)",
   "language": "python",
   "name": "python3"
  },
  "language_info": {
   "codemirror_mode": {
    "name": "ipython",
    "version": 3
   },
   "file_extension": ".py",
   "mimetype": "text/x-python",
   "name": "python",
   "nbconvert_exporter": "python",
   "pygments_lexer": "ipython3",
   "version": "3.11.2"
  }
 },
 "nbformat": 4,
 "nbformat_minor": 5
}
