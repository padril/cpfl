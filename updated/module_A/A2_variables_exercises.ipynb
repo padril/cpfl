{
 "cells": [
  {
   "cell_type": "markdown",
   "id": "fd6d9987",
   "metadata": {},
   "source": [
    "# A2 Exercises\n",
    "\n",
    "### Homework\n",
    "\n",
    "In the code block below, answer the following questions.\n",
    "\n",
    "#### Question 1\n",
    "\n",
    "Assign the floating point number 9.3 to a variable called `q1`\n",
    "\n",
    "#### Question 2\n",
    "\n",
    "The following statement produces an error message because the variable name is not valid. Change the name of the variable by removing only the part of the name that produces the error.\n",
    "\n",
    "```Python\n",
    "one hundred = 100\n",
    "```\n",
    "\n",
    "Store the new variable name as a String in a variable called `q2`\n",
    "\n",
    "#### Question 3\n",
    "\n",
    "Suppose you have the following variables describing the three spatial dimensions of a box:\n",
    "\n",
    "```python\n",
    "width = 20\n",
    "height = 12\n",
    "length = 10\n",
    "```\n",
    "\n",
    "Create a new variable, called `q3` that is assigned the volume (width $\\times$ height $\\times$ length) of the box. Do so by (1) creating and assigning the variables as listed above, and (2) by using those variables in the assignment of the new variable `q3`.\n",
    "\n",
    "#### Question 4\n",
    "\n",
    "What is the final value of `y` at the end of this code? Store your answer in a variable called `q4`\n",
    "\n",
    "```python\n",
    "x = 10\n",
    "y = 11\n",
    "c = x\n",
    "x = y\n",
    "y = c\n",
    "```\n"
   ]
  },
  {
   "cell_type": "code",
   "execution_count": 1,
   "id": "aa28ffbc",
   "metadata": {},
   "outputs": [],
   "source": [
    "# Put your solutions here!\n",
    "q1 = 9.3  # Question 1 is done for you!\n",
    "q2 = ..."
   ]
  },
  {
   "cell_type": "markdown",
   "id": "a0be6cbe",
   "metadata": {},
   "source": [
    "#### Question 5 (Hard)\n",
    "\n",
    "We have an Elan file of a sociolinguistic interview that ran for exactly 1 hour 42 minutes. Our speaker uttered 1610 usable tokens in that time, but only 1 in 23 are relevant to our study.\n",
    "\n",
    "Practice with using Python as a calculator. In the code cell below solve the following questions:\n",
    "\n",
    "* How many seconds are there in 1 hour 42 minutes?\n",
    "* How many of the 1610 tokens are relevant at the rate of 1 in 23?\n",
    "* On average, how many relevant tokens were spoken every 10 minutes?"
   ]
  },
  {
   "cell_type": "code",
   "execution_count": null,
   "id": "a7b123cc",
   "metadata": {},
   "outputs": [],
   "source": [
    "hours = 1\n",
    "minutes = 42\n",
    "seconds = ... # put your answer here\n",
    "\n",
    "all_tokens = 1610\n",
    "rate = 1/23\n",
    "relevant_tokens = ...\n",
    "\n",
    "# you can put more of your own variables here, just don't use\n",
    "# the same name as previous answers, or you'll override them!\n",
    "\n",
    "tokens_per_10_minutes = ..."
   ]
  }
 ],
 "metadata": {
  "kernelspec": {
   "display_name": "Python 3 (ipykernel)",
   "language": "python",
   "name": "python3"
  },
  "language_info": {
   "codemirror_mode": {
    "name": "ipython",
    "version": 3
   },
   "file_extension": ".py",
   "mimetype": "text/x-python",
   "name": "python",
   "nbconvert_exporter": "python",
   "pygments_lexer": "ipython3",
   "version": "3.11.2"
  }
 },
 "nbformat": 4,
 "nbformat_minor": 5
}
