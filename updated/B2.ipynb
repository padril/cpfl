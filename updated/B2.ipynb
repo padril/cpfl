{
 "cells": [
  {
   "cell_type": "markdown",
   "id": "b7c0b11d-549f-4bd7-9518-03fab03f2986",
   "metadata": {},
   "source": [
    "# Block B, lesson 2: Parameters, arguments and namespaces\n",
    "\n",
    "### Learning outcomes\n",
    "* after this lesson, you will be able to describe what a parameter and an argument is\n",
    "* you will furthermore be able to identify the scope of a variable\n",
    "\n",
    "### Practice\n",
    "* Exercises B2 go with this lesson"
   ]
  },
  {
   "cell_type": "markdown",
   "id": "37adc220",
   "metadata": {
    "id": "37adc220"
   },
   "source": [
    "### B2.1 Arguments\n",
    "\n",
    "Some of the functions we have seen (`int`, `type`) require **arguments**. For example, when you call `type` you pass a value (or a variable containing a value) as an argument. Some functions take more than one argument: `pow` (the 'power' function; raising argument 1 to the power of argument 2) takes two, the base and the exponent.\n",
    "\n",
    "```python\n",
    "pow(2,3)\n",
    "```\n",
    "`8`"
   ]
  },
  {
   "cell_type": "markdown",
   "id": "b5129900",
   "metadata": {
    "id": "b5129900"
   },
   "source": [
    "### B2.2 Arguments are values assigned to variables called 'parameters'\n",
    "\n",
    "Inside the function, the **values of the arguments are assigned to variables called parameters**. Here is a definition for a function that takes an argument:\n",
    "\n",
    "```python\n",
    "def print_twice(bruce):\n",
    "    print(bruce)\n",
    "    print(bruce)\n",
    "```\n",
    "    \n",
    "This function assigns the argument to a parameter named `bruce`. When the function is called, it prints the value of the parameter (whatever it is) twice.\n",
    "\n",
    "This function works with any value that can be printed.\n",
    "\n",
    "```python\n",
    "print_twice('Spam')\n",
    "```\n",
    "```\n",
    "Spam\n",
    "Spam\n",
    "```\n",
    "\n",
    "```python\n",
    "print_twice(42)\n",
    "```\n",
    "```\n",
    "42\n",
    "42\n",
    "```"
   ]
  },
  {
   "cell_type": "markdown",
   "id": "37610eca",
   "metadata": {
    "id": "37610eca"
   },
   "source": [
    "But not with, for instance, keywords (which can't be arguments anyway):\n",
    "```python\n",
    "print_twice(if)\n",
    "```\n",
    "`  File \"/tmp/ipykernel_861757/4244739243.py\", line 5\n",
    "    print_twice(if)\n",
    "                ^\n",
    "SyntaxError: invalid syntax\n",
    "`"
   ]
  },
  {
   "cell_type": "markdown",
   "id": "99716073",
   "metadata": {
    "id": "99716073"
   },
   "source": [
    "You can also use a variable as an argument:\n",
    "\n",
    "```python\n",
    "michael = 'Eric, the half a bee.'\n",
    "print_twice(michael)\n",
    "```\n",
    "\n",
    "```\n",
    "Eric, the half a bee.\n",
    "Eric, the half a bee.\n",
    "```\n",
    "\n",
    "The name of the variable we pass as an argument (`michael`) has nothing to do with the name of the parameter (`bruce`). It doesn’t matter what the value was called back home (in the caller); here in `print_twice`, we call everybody `bruce`."
   ]
  },
  {
   "cell_type": "markdown",
   "id": "68ea2054",
   "metadata": {
    "id": "68ea2054"
   },
   "source": [
    "### B2.3 Arguments can be any kind of expression\n",
    "\n",
    "The same rules of composition that apply to built-in functions also apply to programmer-defined functions, so we can use any kind of expression as an argument for print_twice:\n",
    "\n",
    "```python\n",
    "print_twice('Spam ' * 4)\n",
    "```\n",
    "```\n",
    "Spam Spam Spam Spam\n",
    "Spam Spam Spam Spam\n",
    "```\n",
    "\n",
    "```python\n",
    "print_twice(12 % 5)\n",
    "```\n",
    "```\n",
    "2\n",
    "2\n",
    "```\n",
    "\n",
    "The argument is evaluated before the function is called, so in the examples the expressions `'Spam '*4` and `12%5` are only evaluated once."
   ]
  },
  {
   "cell_type": "markdown",
   "id": "72978adc",
   "metadata": {
    "id": "72978adc"
   },
   "source": [
    "### B2.4 Parameters and other function-internal variables are **local** to the function\n",
    "\n",
    "When you create a variable inside a function, it is **local**, which means that it **only exists inside the function**.\n",
    "\n",
    "```python\n",
    "def cat_twice(part1, part2):\n",
    "    cat = part1 + part2\n",
    "    print_twice(cat)\n",
    "```\n",
    "\n",
    "This function takes two arguments, concatenates them, and prints the result twice. Here is an example that uses it:\n",
    "\n",
    "```python\n",
    "line1 = 'Bing tiddle '\n",
    "line2 = 'tiddle bang.'\n",
    "cat_twice(line1, line2)\n",
    "```\n",
    "`\n",
    "Bing tiddle tiddle bang.\n",
    "Bing tiddle tiddle bang.\n",
    "`\n",
    "\n",
    "When `cat_twice` terminates, the variable cat **is destroyed**. If we try to print it, we get an exception:\n",
    "\n",
    "```python\n",
    "print(cat)\n",
    "```\n",
    "`NameError: name 'cat' is not defined`\n",
    "\n",
    "**Parameters are also local**. For example, outside `print_twice`, there is no such thing as `bruce`. (Try it out)"
   ]
  },
  {
   "cell_type": "markdown",
   "id": "88ba35e8-9fb6-46a4-9bb1-420b761eae1e",
   "metadata": {},
   "source": [
    "### B2.5 Variable scope and namespaces\n",
    "\n",
    "The fact that variables are local to the functions they are defined inside of, means that you can have the same variable name occur twice: once in the main body of your program, and once in a function, like below:\n",
    "\n",
    "```python\n",
    "x = 4\n",
    "\n",
    "def good_function():\n",
    "    x = 8\n",
    "    print(x)\n",
    "```\n",
    "\n",
    "Calling `good_function()` will print the value `8` to the screen, not `4`! This is because Python gives locally defined variables precedence over 'globally' defined ones.\n",
    "\n",
    "Importantly, while locally defined variables are not accessible outside of their function (outside their 'namespace'), globally defined variables _are_ accessible in more local namespaces. For instance, in:\n",
    "\n",
    "```python\n",
    "x = 8\n",
    "\n",
    "def good_function():\n",
    "    print(x)\n",
    "```\n",
    "\n",
    "calling `good_function()` will now print `8` to screen.\n",
    "\n",
    "If you want to read in more detail about scope and namespaces, you can check out: https://realpython.com/python-namespaces-scope/"
   ]
  },
  {
   "cell_type": "code",
   "execution_count": 6,
   "id": "087c9bd7",
   "metadata": {},
   "outputs": [
    {
     "ename": "ModuleNotFoundError",
     "evalue": "No module named 'flake'",
     "output_type": "error",
     "traceback": [
      "\u001b[0;31m---------------------------------------------------------------------------\u001b[0m",
      "\u001b[0;31mModuleNotFoundError\u001b[0m                       Traceback (most recent call last)",
      "Cell \u001b[0;32mIn [6], line 1\u001b[0m\n\u001b[0;32m----> 1\u001b[0m \u001b[38;5;28;01mimport\u001b[39;00m \u001b[38;5;21;01mflake\u001b[39;00m\n",
      "\u001b[0;31mModuleNotFoundError\u001b[0m: No module named 'flake'"
     ]
    }
   ],
   "source": [
    "import flake"
   ]
  },
  {
   "cell_type": "code",
   "execution_count": null,
   "id": "50c1a875",
   "metadata": {},
   "outputs": [],
   "source": []
  }
 ],
 "metadata": {
  "colab": {
   "provenance": []
  },
  "kernelspec": {
   "display_name": "Python 3 (ipykernel)",
   "language": "python",
   "name": "python3"
  },
  "language_info": {
   "codemirror_mode": {
    "name": "ipython",
    "version": 3
   },
   "file_extension": ".py",
   "mimetype": "text/x-python",
   "name": "python",
   "nbconvert_exporter": "python",
   "pygments_lexer": "ipython3",
   "version": "3.11.2"
  }
 },
 "nbformat": 4,
 "nbformat_minor": 5
}
